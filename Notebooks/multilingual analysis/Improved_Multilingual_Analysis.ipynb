{
  "nbformat": 4,
  "nbformat_minor": 0,
  "metadata": {
    "colab": {
      "provenance": [],
      "machine_shape": "hm",
      "gpuType": "L4",
      "toc_visible": true
    },
    "kernelspec": {
      "name": "python3",
      "display_name": "Python 3"
    },
    "language_info": {
      "name": "python"
    },
    "accelerator": "GPU",
    "widgets": {
      "application/vnd.jupyter.widget-state+json": {
        "86291c625a6945fdada9abfca5a7d707": {
          "model_module": "@jupyter-widgets/controls",
          "model_name": "HBoxModel",
          "model_module_version": "1.5.0",
          "state": {
            "_dom_classes": [],
            "_model_module": "@jupyter-widgets/controls",
            "_model_module_version": "1.5.0",
            "_model_name": "HBoxModel",
            "_view_count": null,
            "_view_module": "@jupyter-widgets/controls",
            "_view_module_version": "1.5.0",
            "_view_name": "HBoxView",
            "box_style": "",
            "children": [
              "IPY_MODEL_f899196eb74c4bd68a81b4d8edfa26b5",
              "IPY_MODEL_9f28c751f6e3475089cb9997c8c3c9c2",
              "IPY_MODEL_c1d6a75b12d04ac7af0c1eb59d0d7d1a"
            ],
            "layout": "IPY_MODEL_bd116c26964b43649879503e8e8441fe"
          }
        },
        "f899196eb74c4bd68a81b4d8edfa26b5": {
          "model_module": "@jupyter-widgets/controls",
          "model_name": "HTMLModel",
          "model_module_version": "1.5.0",
          "state": {
            "_dom_classes": [],
            "_model_module": "@jupyter-widgets/controls",
            "_model_module_version": "1.5.0",
            "_model_name": "HTMLModel",
            "_view_count": null,
            "_view_module": "@jupyter-widgets/controls",
            "_view_module_version": "1.5.0",
            "_view_name": "HTMLView",
            "description": "",
            "description_tooltip": null,
            "layout": "IPY_MODEL_e3cf8c3fecfd448b9e4289a4b2489b32",
            "placeholder": "​",
            "style": "IPY_MODEL_1604fb2b3fb54e5b869598ba0d8b2adf",
            "value": "config.json: 100%"
          }
        },
        "9f28c751f6e3475089cb9997c8c3c9c2": {
          "model_module": "@jupyter-widgets/controls",
          "model_name": "FloatProgressModel",
          "model_module_version": "1.5.0",
          "state": {
            "_dom_classes": [],
            "_model_module": "@jupyter-widgets/controls",
            "_model_module_version": "1.5.0",
            "_model_name": "FloatProgressModel",
            "_view_count": null,
            "_view_module": "@jupyter-widgets/controls",
            "_view_module_version": "1.5.0",
            "_view_name": "ProgressView",
            "bar_style": "success",
            "description": "",
            "description_tooltip": null,
            "layout": "IPY_MODEL_b819ff87017c43b2820bb5ee0ab2cf55",
            "max": 801,
            "min": 0,
            "orientation": "horizontal",
            "style": "IPY_MODEL_4dadd1f3a576441198d073136e8e19b0",
            "value": 801
          }
        },
        "c1d6a75b12d04ac7af0c1eb59d0d7d1a": {
          "model_module": "@jupyter-widgets/controls",
          "model_name": "HTMLModel",
          "model_module_version": "1.5.0",
          "state": {
            "_dom_classes": [],
            "_model_module": "@jupyter-widgets/controls",
            "_model_module_version": "1.5.0",
            "_model_name": "HTMLModel",
            "_view_count": null,
            "_view_module": "@jupyter-widgets/controls",
            "_view_module_version": "1.5.0",
            "_view_name": "HTMLView",
            "description": "",
            "description_tooltip": null,
            "layout": "IPY_MODEL_42f969894a954412a2bed57833a24587",
            "placeholder": "​",
            "style": "IPY_MODEL_10eec9d954814277ac533f29b5f48b11",
            "value": " 801/801 [00:00&lt;00:00, 73.6kB/s]"
          }
        },
        "bd116c26964b43649879503e8e8441fe": {
          "model_module": "@jupyter-widgets/base",
          "model_name": "LayoutModel",
          "model_module_version": "1.2.0",
          "state": {
            "_model_module": "@jupyter-widgets/base",
            "_model_module_version": "1.2.0",
            "_model_name": "LayoutModel",
            "_view_count": null,
            "_view_module": "@jupyter-widgets/base",
            "_view_module_version": "1.2.0",
            "_view_name": "LayoutView",
            "align_content": null,
            "align_items": null,
            "align_self": null,
            "border": null,
            "bottom": null,
            "display": null,
            "flex": null,
            "flex_flow": null,
            "grid_area": null,
            "grid_auto_columns": null,
            "grid_auto_flow": null,
            "grid_auto_rows": null,
            "grid_column": null,
            "grid_gap": null,
            "grid_row": null,
            "grid_template_areas": null,
            "grid_template_columns": null,
            "grid_template_rows": null,
            "height": null,
            "justify_content": null,
            "justify_items": null,
            "left": null,
            "margin": null,
            "max_height": null,
            "max_width": null,
            "min_height": null,
            "min_width": null,
            "object_fit": null,
            "object_position": null,
            "order": null,
            "overflow": null,
            "overflow_x": null,
            "overflow_y": null,
            "padding": null,
            "right": null,
            "top": null,
            "visibility": null,
            "width": null
          }
        },
        "e3cf8c3fecfd448b9e4289a4b2489b32": {
          "model_module": "@jupyter-widgets/base",
          "model_name": "LayoutModel",
          "model_module_version": "1.2.0",
          "state": {
            "_model_module": "@jupyter-widgets/base",
            "_model_module_version": "1.2.0",
            "_model_name": "LayoutModel",
            "_view_count": null,
            "_view_module": "@jupyter-widgets/base",
            "_view_module_version": "1.2.0",
            "_view_name": "LayoutView",
            "align_content": null,
            "align_items": null,
            "align_self": null,
            "border": null,
            "bottom": null,
            "display": null,
            "flex": null,
            "flex_flow": null,
            "grid_area": null,
            "grid_auto_columns": null,
            "grid_auto_flow": null,
            "grid_auto_rows": null,
            "grid_column": null,
            "grid_gap": null,
            "grid_row": null,
            "grid_template_areas": null,
            "grid_template_columns": null,
            "grid_template_rows": null,
            "height": null,
            "justify_content": null,
            "justify_items": null,
            "left": null,
            "margin": null,
            "max_height": null,
            "max_width": null,
            "min_height": null,
            "min_width": null,
            "object_fit": null,
            "object_position": null,
            "order": null,
            "overflow": null,
            "overflow_x": null,
            "overflow_y": null,
            "padding": null,
            "right": null,
            "top": null,
            "visibility": null,
            "width": null
          }
        },
        "1604fb2b3fb54e5b869598ba0d8b2adf": {
          "model_module": "@jupyter-widgets/controls",
          "model_name": "DescriptionStyleModel",
          "model_module_version": "1.5.0",
          "state": {
            "_model_module": "@jupyter-widgets/controls",
            "_model_module_version": "1.5.0",
            "_model_name": "DescriptionStyleModel",
            "_view_count": null,
            "_view_module": "@jupyter-widgets/base",
            "_view_module_version": "1.2.0",
            "_view_name": "StyleView",
            "description_width": ""
          }
        },
        "b819ff87017c43b2820bb5ee0ab2cf55": {
          "model_module": "@jupyter-widgets/base",
          "model_name": "LayoutModel",
          "model_module_version": "1.2.0",
          "state": {
            "_model_module": "@jupyter-widgets/base",
            "_model_module_version": "1.2.0",
            "_model_name": "LayoutModel",
            "_view_count": null,
            "_view_module": "@jupyter-widgets/base",
            "_view_module_version": "1.2.0",
            "_view_name": "LayoutView",
            "align_content": null,
            "align_items": null,
            "align_self": null,
            "border": null,
            "bottom": null,
            "display": null,
            "flex": null,
            "flex_flow": null,
            "grid_area": null,
            "grid_auto_columns": null,
            "grid_auto_flow": null,
            "grid_auto_rows": null,
            "grid_column": null,
            "grid_gap": null,
            "grid_row": null,
            "grid_template_areas": null,
            "grid_template_columns": null,
            "grid_template_rows": null,
            "height": null,
            "justify_content": null,
            "justify_items": null,
            "left": null,
            "margin": null,
            "max_height": null,
            "max_width": null,
            "min_height": null,
            "min_width": null,
            "object_fit": null,
            "object_position": null,
            "order": null,
            "overflow": null,
            "overflow_x": null,
            "overflow_y": null,
            "padding": null,
            "right": null,
            "top": null,
            "visibility": null,
            "width": null
          }
        },
        "4dadd1f3a576441198d073136e8e19b0": {
          "model_module": "@jupyter-widgets/controls",
          "model_name": "ProgressStyleModel",
          "model_module_version": "1.5.0",
          "state": {
            "_model_module": "@jupyter-widgets/controls",
            "_model_module_version": "1.5.0",
            "_model_name": "ProgressStyleModel",
            "_view_count": null,
            "_view_module": "@jupyter-widgets/base",
            "_view_module_version": "1.2.0",
            "_view_name": "StyleView",
            "bar_color": null,
            "description_width": ""
          }
        },
        "42f969894a954412a2bed57833a24587": {
          "model_module": "@jupyter-widgets/base",
          "model_name": "LayoutModel",
          "model_module_version": "1.2.0",
          "state": {
            "_model_module": "@jupyter-widgets/base",
            "_model_module_version": "1.2.0",
            "_model_name": "LayoutModel",
            "_view_count": null,
            "_view_module": "@jupyter-widgets/base",
            "_view_module_version": "1.2.0",
            "_view_name": "LayoutView",
            "align_content": null,
            "align_items": null,
            "align_self": null,
            "border": null,
            "bottom": null,
            "display": null,
            "flex": null,
            "flex_flow": null,
            "grid_area": null,
            "grid_auto_columns": null,
            "grid_auto_flow": null,
            "grid_auto_rows": null,
            "grid_column": null,
            "grid_gap": null,
            "grid_row": null,
            "grid_template_areas": null,
            "grid_template_columns": null,
            "grid_template_rows": null,
            "height": null,
            "justify_content": null,
            "justify_items": null,
            "left": null,
            "margin": null,
            "max_height": null,
            "max_width": null,
            "min_height": null,
            "min_width": null,
            "object_fit": null,
            "object_position": null,
            "order": null,
            "overflow": null,
            "overflow_x": null,
            "overflow_y": null,
            "padding": null,
            "right": null,
            "top": null,
            "visibility": null,
            "width": null
          }
        },
        "10eec9d954814277ac533f29b5f48b11": {
          "model_module": "@jupyter-widgets/controls",
          "model_name": "DescriptionStyleModel",
          "model_module_version": "1.5.0",
          "state": {
            "_model_module": "@jupyter-widgets/controls",
            "_model_module_version": "1.5.0",
            "_model_name": "DescriptionStyleModel",
            "_view_count": null,
            "_view_module": "@jupyter-widgets/base",
            "_view_module_version": "1.2.0",
            "_view_name": "StyleView",
            "description_width": ""
          }
        },
        "36edf8b186654cbf8c561c94a817f32a": {
          "model_module": "@jupyter-widgets/controls",
          "model_name": "HBoxModel",
          "model_module_version": "1.5.0",
          "state": {
            "_dom_classes": [],
            "_model_module": "@jupyter-widgets/controls",
            "_model_module_version": "1.5.0",
            "_model_name": "HBoxModel",
            "_view_count": null,
            "_view_module": "@jupyter-widgets/controls",
            "_view_module_version": "1.5.0",
            "_view_name": "HBoxView",
            "box_style": "",
            "children": [
              "IPY_MODEL_8702f1311898495899a6a00a2566b0e9",
              "IPY_MODEL_578e53bd4528450f8fc05789f5590549",
              "IPY_MODEL_7d40aee227c3480a9c07f4b2edbf0a75"
            ],
            "layout": "IPY_MODEL_3d36062a81b0409b871304d21ed3053d"
          }
        },
        "8702f1311898495899a6a00a2566b0e9": {
          "model_module": "@jupyter-widgets/controls",
          "model_name": "HTMLModel",
          "model_module_version": "1.5.0",
          "state": {
            "_dom_classes": [],
            "_model_module": "@jupyter-widgets/controls",
            "_model_module_version": "1.5.0",
            "_model_name": "HTMLModel",
            "_view_count": null,
            "_view_module": "@jupyter-widgets/controls",
            "_view_module_version": "1.5.0",
            "_view_name": "HTMLView",
            "description": "",
            "description_tooltip": null,
            "layout": "IPY_MODEL_ed8517557bf441a5b393c4817c00b8e9",
            "placeholder": "​",
            "style": "IPY_MODEL_64e608d5724247d581f9203cb20dfdbf",
            "value": "tokenizer_config.json: 100%"
          }
        },
        "578e53bd4528450f8fc05789f5590549": {
          "model_module": "@jupyter-widgets/controls",
          "model_name": "FloatProgressModel",
          "model_module_version": "1.5.0",
          "state": {
            "_dom_classes": [],
            "_model_module": "@jupyter-widgets/controls",
            "_model_module_version": "1.5.0",
            "_model_name": "FloatProgressModel",
            "_view_count": null,
            "_view_module": "@jupyter-widgets/controls",
            "_view_module_version": "1.5.0",
            "_view_name": "ProgressView",
            "bar_style": "success",
            "description": "",
            "description_tooltip": null,
            "layout": "IPY_MODEL_5d9cfc64d9d848b1a70028202328a896",
            "max": 933,
            "min": 0,
            "orientation": "horizontal",
            "style": "IPY_MODEL_7291a92e182943bcb943e8bf3d4aed2d",
            "value": 933
          }
        },
        "7d40aee227c3480a9c07f4b2edbf0a75": {
          "model_module": "@jupyter-widgets/controls",
          "model_name": "HTMLModel",
          "model_module_version": "1.5.0",
          "state": {
            "_dom_classes": [],
            "_model_module": "@jupyter-widgets/controls",
            "_model_module_version": "1.5.0",
            "_model_name": "HTMLModel",
            "_view_count": null,
            "_view_module": "@jupyter-widgets/controls",
            "_view_module_version": "1.5.0",
            "_view_name": "HTMLView",
            "description": "",
            "description_tooltip": null,
            "layout": "IPY_MODEL_b335c1be60ae4303b3e669c85b327044",
            "placeholder": "​",
            "style": "IPY_MODEL_43d4b7fa4217401ab03c88df2f4f7a61",
            "value": " 933/933 [00:00&lt;00:00, 88.3kB/s]"
          }
        },
        "3d36062a81b0409b871304d21ed3053d": {
          "model_module": "@jupyter-widgets/base",
          "model_name": "LayoutModel",
          "model_module_version": "1.2.0",
          "state": {
            "_model_module": "@jupyter-widgets/base",
            "_model_module_version": "1.2.0",
            "_model_name": "LayoutModel",
            "_view_count": null,
            "_view_module": "@jupyter-widgets/base",
            "_view_module_version": "1.2.0",
            "_view_name": "LayoutView",
            "align_content": null,
            "align_items": null,
            "align_self": null,
            "border": null,
            "bottom": null,
            "display": null,
            "flex": null,
            "flex_flow": null,
            "grid_area": null,
            "grid_auto_columns": null,
            "grid_auto_flow": null,
            "grid_auto_rows": null,
            "grid_column": null,
            "grid_gap": null,
            "grid_row": null,
            "grid_template_areas": null,
            "grid_template_columns": null,
            "grid_template_rows": null,
            "height": null,
            "justify_content": null,
            "justify_items": null,
            "left": null,
            "margin": null,
            "max_height": null,
            "max_width": null,
            "min_height": null,
            "min_width": null,
            "object_fit": null,
            "object_position": null,
            "order": null,
            "overflow": null,
            "overflow_x": null,
            "overflow_y": null,
            "padding": null,
            "right": null,
            "top": null,
            "visibility": null,
            "width": null
          }
        },
        "ed8517557bf441a5b393c4817c00b8e9": {
          "model_module": "@jupyter-widgets/base",
          "model_name": "LayoutModel",
          "model_module_version": "1.2.0",
          "state": {
            "_model_module": "@jupyter-widgets/base",
            "_model_module_version": "1.2.0",
            "_model_name": "LayoutModel",
            "_view_count": null,
            "_view_module": "@jupyter-widgets/base",
            "_view_module_version": "1.2.0",
            "_view_name": "LayoutView",
            "align_content": null,
            "align_items": null,
            "align_self": null,
            "border": null,
            "bottom": null,
            "display": null,
            "flex": null,
            "flex_flow": null,
            "grid_area": null,
            "grid_auto_columns": null,
            "grid_auto_flow": null,
            "grid_auto_rows": null,
            "grid_column": null,
            "grid_gap": null,
            "grid_row": null,
            "grid_template_areas": null,
            "grid_template_columns": null,
            "grid_template_rows": null,
            "height": null,
            "justify_content": null,
            "justify_items": null,
            "left": null,
            "margin": null,
            "max_height": null,
            "max_width": null,
            "min_height": null,
            "min_width": null,
            "object_fit": null,
            "object_position": null,
            "order": null,
            "overflow": null,
            "overflow_x": null,
            "overflow_y": null,
            "padding": null,
            "right": null,
            "top": null,
            "visibility": null,
            "width": null
          }
        },
        "64e608d5724247d581f9203cb20dfdbf": {
          "model_module": "@jupyter-widgets/controls",
          "model_name": "DescriptionStyleModel",
          "model_module_version": "1.5.0",
          "state": {
            "_model_module": "@jupyter-widgets/controls",
            "_model_module_version": "1.5.0",
            "_model_name": "DescriptionStyleModel",
            "_view_count": null,
            "_view_module": "@jupyter-widgets/base",
            "_view_module_version": "1.2.0",
            "_view_name": "StyleView",
            "description_width": ""
          }
        },
        "5d9cfc64d9d848b1a70028202328a896": {
          "model_module": "@jupyter-widgets/base",
          "model_name": "LayoutModel",
          "model_module_version": "1.2.0",
          "state": {
            "_model_module": "@jupyter-widgets/base",
            "_model_module_version": "1.2.0",
            "_model_name": "LayoutModel",
            "_view_count": null,
            "_view_module": "@jupyter-widgets/base",
            "_view_module_version": "1.2.0",
            "_view_name": "LayoutView",
            "align_content": null,
            "align_items": null,
            "align_self": null,
            "border": null,
            "bottom": null,
            "display": null,
            "flex": null,
            "flex_flow": null,
            "grid_area": null,
            "grid_auto_columns": null,
            "grid_auto_flow": null,
            "grid_auto_rows": null,
            "grid_column": null,
            "grid_gap": null,
            "grid_row": null,
            "grid_template_areas": null,
            "grid_template_columns": null,
            "grid_template_rows": null,
            "height": null,
            "justify_content": null,
            "justify_items": null,
            "left": null,
            "margin": null,
            "max_height": null,
            "max_width": null,
            "min_height": null,
            "min_width": null,
            "object_fit": null,
            "object_position": null,
            "order": null,
            "overflow": null,
            "overflow_x": null,
            "overflow_y": null,
            "padding": null,
            "right": null,
            "top": null,
            "visibility": null,
            "width": null
          }
        },
        "7291a92e182943bcb943e8bf3d4aed2d": {
          "model_module": "@jupyter-widgets/controls",
          "model_name": "ProgressStyleModel",
          "model_module_version": "1.5.0",
          "state": {
            "_model_module": "@jupyter-widgets/controls",
            "_model_module_version": "1.5.0",
            "_model_name": "ProgressStyleModel",
            "_view_count": null,
            "_view_module": "@jupyter-widgets/base",
            "_view_module_version": "1.2.0",
            "_view_name": "StyleView",
            "bar_color": null,
            "description_width": ""
          }
        },
        "b335c1be60ae4303b3e669c85b327044": {
          "model_module": "@jupyter-widgets/base",
          "model_name": "LayoutModel",
          "model_module_version": "1.2.0",
          "state": {
            "_model_module": "@jupyter-widgets/base",
            "_model_module_version": "1.2.0",
            "_model_name": "LayoutModel",
            "_view_count": null,
            "_view_module": "@jupyter-widgets/base",
            "_view_module_version": "1.2.0",
            "_view_name": "LayoutView",
            "align_content": null,
            "align_items": null,
            "align_self": null,
            "border": null,
            "bottom": null,
            "display": null,
            "flex": null,
            "flex_flow": null,
            "grid_area": null,
            "grid_auto_columns": null,
            "grid_auto_flow": null,
            "grid_auto_rows": null,
            "grid_column": null,
            "grid_gap": null,
            "grid_row": null,
            "grid_template_areas": null,
            "grid_template_columns": null,
            "grid_template_rows": null,
            "height": null,
            "justify_content": null,
            "justify_items": null,
            "left": null,
            "margin": null,
            "max_height": null,
            "max_width": null,
            "min_height": null,
            "min_width": null,
            "object_fit": null,
            "object_position": null,
            "order": null,
            "overflow": null,
            "overflow_x": null,
            "overflow_y": null,
            "padding": null,
            "right": null,
            "top": null,
            "visibility": null,
            "width": null
          }
        },
        "43d4b7fa4217401ab03c88df2f4f7a61": {
          "model_module": "@jupyter-widgets/controls",
          "model_name": "DescriptionStyleModel",
          "model_module_version": "1.5.0",
          "state": {
            "_model_module": "@jupyter-widgets/controls",
            "_model_module_version": "1.5.0",
            "_model_name": "DescriptionStyleModel",
            "_view_count": null,
            "_view_module": "@jupyter-widgets/base",
            "_view_module_version": "1.2.0",
            "_view_name": "StyleView",
            "description_width": ""
          }
        },
        "34fbbdd137a74886b32aee849378f0d6": {
          "model_module": "@jupyter-widgets/controls",
          "model_name": "HBoxModel",
          "model_module_version": "1.5.0",
          "state": {
            "_dom_classes": [],
            "_model_module": "@jupyter-widgets/controls",
            "_model_module_version": "1.5.0",
            "_model_name": "HBoxModel",
            "_view_count": null,
            "_view_module": "@jupyter-widgets/controls",
            "_view_module_version": "1.5.0",
            "_view_name": "HBoxView",
            "box_style": "",
            "children": [
              "IPY_MODEL_7521fc50a8ff440cafb5878640601752",
              "IPY_MODEL_b760d3189b0d4b1380971c664e721bd0",
              "IPY_MODEL_2043818125734f0db99daf5e8ca97115"
            ],
            "layout": "IPY_MODEL_c1e12086f32149d5be35c8d470da8f56"
          }
        },
        "7521fc50a8ff440cafb5878640601752": {
          "model_module": "@jupyter-widgets/controls",
          "model_name": "HTMLModel",
          "model_module_version": "1.5.0",
          "state": {
            "_dom_classes": [],
            "_model_module": "@jupyter-widgets/controls",
            "_model_module_version": "1.5.0",
            "_model_name": "HTMLModel",
            "_view_count": null,
            "_view_module": "@jupyter-widgets/controls",
            "_view_module_version": "1.5.0",
            "_view_name": "HTMLView",
            "description": "",
            "description_tooltip": null,
            "layout": "IPY_MODEL_fc1aaa70c1404c4c90d4d3ef5902196e",
            "placeholder": "​",
            "style": "IPY_MODEL_6341a9a4fecb4fa4af3d078386642dd8",
            "value": "tokenizer.model: 100%"
          }
        },
        "b760d3189b0d4b1380971c664e721bd0": {
          "model_module": "@jupyter-widgets/controls",
          "model_name": "FloatProgressModel",
          "model_module_version": "1.5.0",
          "state": {
            "_dom_classes": [],
            "_model_module": "@jupyter-widgets/controls",
            "_model_module_version": "1.5.0",
            "_model_name": "FloatProgressModel",
            "_view_count": null,
            "_view_module": "@jupyter-widgets/controls",
            "_view_module_version": "1.5.0",
            "_view_name": "ProgressView",
            "bar_style": "success",
            "description": "",
            "description_tooltip": null,
            "layout": "IPY_MODEL_61ea4a19413441e7a55d9208c7900e35",
            "max": 499723,
            "min": 0,
            "orientation": "horizontal",
            "style": "IPY_MODEL_e187533eefae4ae2805a5b404431efc4",
            "value": 499723
          }
        },
        "2043818125734f0db99daf5e8ca97115": {
          "model_module": "@jupyter-widgets/controls",
          "model_name": "HTMLModel",
          "model_module_version": "1.5.0",
          "state": {
            "_dom_classes": [],
            "_model_module": "@jupyter-widgets/controls",
            "_model_module_version": "1.5.0",
            "_model_name": "HTMLModel",
            "_view_count": null,
            "_view_module": "@jupyter-widgets/controls",
            "_view_module_version": "1.5.0",
            "_view_name": "HTMLView",
            "description": "",
            "description_tooltip": null,
            "layout": "IPY_MODEL_5f0d4b68b4414c1d921094913b21fd68",
            "placeholder": "​",
            "style": "IPY_MODEL_245ad54654224db590ac83e7d5eb9488",
            "value": " 500k/500k [00:00&lt;00:00, 17.3MB/s]"
          }
        },
        "c1e12086f32149d5be35c8d470da8f56": {
          "model_module": "@jupyter-widgets/base",
          "model_name": "LayoutModel",
          "model_module_version": "1.2.0",
          "state": {
            "_model_module": "@jupyter-widgets/base",
            "_model_module_version": "1.2.0",
            "_model_name": "LayoutModel",
            "_view_count": null,
            "_view_module": "@jupyter-widgets/base",
            "_view_module_version": "1.2.0",
            "_view_name": "LayoutView",
            "align_content": null,
            "align_items": null,
            "align_self": null,
            "border": null,
            "bottom": null,
            "display": null,
            "flex": null,
            "flex_flow": null,
            "grid_area": null,
            "grid_auto_columns": null,
            "grid_auto_flow": null,
            "grid_auto_rows": null,
            "grid_column": null,
            "grid_gap": null,
            "grid_row": null,
            "grid_template_areas": null,
            "grid_template_columns": null,
            "grid_template_rows": null,
            "height": null,
            "justify_content": null,
            "justify_items": null,
            "left": null,
            "margin": null,
            "max_height": null,
            "max_width": null,
            "min_height": null,
            "min_width": null,
            "object_fit": null,
            "object_position": null,
            "order": null,
            "overflow": null,
            "overflow_x": null,
            "overflow_y": null,
            "padding": null,
            "right": null,
            "top": null,
            "visibility": null,
            "width": null
          }
        },
        "fc1aaa70c1404c4c90d4d3ef5902196e": {
          "model_module": "@jupyter-widgets/base",
          "model_name": "LayoutModel",
          "model_module_version": "1.2.0",
          "state": {
            "_model_module": "@jupyter-widgets/base",
            "_model_module_version": "1.2.0",
            "_model_name": "LayoutModel",
            "_view_count": null,
            "_view_module": "@jupyter-widgets/base",
            "_view_module_version": "1.2.0",
            "_view_name": "LayoutView",
            "align_content": null,
            "align_items": null,
            "align_self": null,
            "border": null,
            "bottom": null,
            "display": null,
            "flex": null,
            "flex_flow": null,
            "grid_area": null,
            "grid_auto_columns": null,
            "grid_auto_flow": null,
            "grid_auto_rows": null,
            "grid_column": null,
            "grid_gap": null,
            "grid_row": null,
            "grid_template_areas": null,
            "grid_template_columns": null,
            "grid_template_rows": null,
            "height": null,
            "justify_content": null,
            "justify_items": null,
            "left": null,
            "margin": null,
            "max_height": null,
            "max_width": null,
            "min_height": null,
            "min_width": null,
            "object_fit": null,
            "object_position": null,
            "order": null,
            "overflow": null,
            "overflow_x": null,
            "overflow_y": null,
            "padding": null,
            "right": null,
            "top": null,
            "visibility": null,
            "width": null
          }
        },
        "6341a9a4fecb4fa4af3d078386642dd8": {
          "model_module": "@jupyter-widgets/controls",
          "model_name": "DescriptionStyleModel",
          "model_module_version": "1.5.0",
          "state": {
            "_model_module": "@jupyter-widgets/controls",
            "_model_module_version": "1.5.0",
            "_model_name": "DescriptionStyleModel",
            "_view_count": null,
            "_view_module": "@jupyter-widgets/base",
            "_view_module_version": "1.2.0",
            "_view_name": "StyleView",
            "description_width": ""
          }
        },
        "61ea4a19413441e7a55d9208c7900e35": {
          "model_module": "@jupyter-widgets/base",
          "model_name": "LayoutModel",
          "model_module_version": "1.2.0",
          "state": {
            "_model_module": "@jupyter-widgets/base",
            "_model_module_version": "1.2.0",
            "_model_name": "LayoutModel",
            "_view_count": null,
            "_view_module": "@jupyter-widgets/base",
            "_view_module_version": "1.2.0",
            "_view_name": "LayoutView",
            "align_content": null,
            "align_items": null,
            "align_self": null,
            "border": null,
            "bottom": null,
            "display": null,
            "flex": null,
            "flex_flow": null,
            "grid_area": null,
            "grid_auto_columns": null,
            "grid_auto_flow": null,
            "grid_auto_rows": null,
            "grid_column": null,
            "grid_gap": null,
            "grid_row": null,
            "grid_template_areas": null,
            "grid_template_columns": null,
            "grid_template_rows": null,
            "height": null,
            "justify_content": null,
            "justify_items": null,
            "left": null,
            "margin": null,
            "max_height": null,
            "max_width": null,
            "min_height": null,
            "min_width": null,
            "object_fit": null,
            "object_position": null,
            "order": null,
            "overflow": null,
            "overflow_x": null,
            "overflow_y": null,
            "padding": null,
            "right": null,
            "top": null,
            "visibility": null,
            "width": null
          }
        },
        "e187533eefae4ae2805a5b404431efc4": {
          "model_module": "@jupyter-widgets/controls",
          "model_name": "ProgressStyleModel",
          "model_module_version": "1.5.0",
          "state": {
            "_model_module": "@jupyter-widgets/controls",
            "_model_module_version": "1.5.0",
            "_model_name": "ProgressStyleModel",
            "_view_count": null,
            "_view_module": "@jupyter-widgets/base",
            "_view_module_version": "1.2.0",
            "_view_name": "StyleView",
            "bar_color": null,
            "description_width": ""
          }
        },
        "5f0d4b68b4414c1d921094913b21fd68": {
          "model_module": "@jupyter-widgets/base",
          "model_name": "LayoutModel",
          "model_module_version": "1.2.0",
          "state": {
            "_model_module": "@jupyter-widgets/base",
            "_model_module_version": "1.2.0",
            "_model_name": "LayoutModel",
            "_view_count": null,
            "_view_module": "@jupyter-widgets/base",
            "_view_module_version": "1.2.0",
            "_view_name": "LayoutView",
            "align_content": null,
            "align_items": null,
            "align_self": null,
            "border": null,
            "bottom": null,
            "display": null,
            "flex": null,
            "flex_flow": null,
            "grid_area": null,
            "grid_auto_columns": null,
            "grid_auto_flow": null,
            "grid_auto_rows": null,
            "grid_column": null,
            "grid_gap": null,
            "grid_row": null,
            "grid_template_areas": null,
            "grid_template_columns": null,
            "grid_template_rows": null,
            "height": null,
            "justify_content": null,
            "justify_items": null,
            "left": null,
            "margin": null,
            "max_height": null,
            "max_width": null,
            "min_height": null,
            "min_width": null,
            "object_fit": null,
            "object_position": null,
            "order": null,
            "overflow": null,
            "overflow_x": null,
            "overflow_y": null,
            "padding": null,
            "right": null,
            "top": null,
            "visibility": null,
            "width": null
          }
        },
        "245ad54654224db590ac83e7d5eb9488": {
          "model_module": "@jupyter-widgets/controls",
          "model_name": "DescriptionStyleModel",
          "model_module_version": "1.5.0",
          "state": {
            "_model_module": "@jupyter-widgets/controls",
            "_model_module_version": "1.5.0",
            "_model_name": "DescriptionStyleModel",
            "_view_count": null,
            "_view_module": "@jupyter-widgets/base",
            "_view_module_version": "1.2.0",
            "_view_name": "StyleView",
            "description_width": ""
          }
        },
        "bb6e35b4b2f14d74b63fed4c6d8cc82d": {
          "model_module": "@jupyter-widgets/controls",
          "model_name": "HBoxModel",
          "model_module_version": "1.5.0",
          "state": {
            "_dom_classes": [],
            "_model_module": "@jupyter-widgets/controls",
            "_model_module_version": "1.5.0",
            "_model_name": "HBoxModel",
            "_view_count": null,
            "_view_module": "@jupyter-widgets/controls",
            "_view_module_version": "1.5.0",
            "_view_name": "HBoxView",
            "box_style": "",
            "children": [
              "IPY_MODEL_e1429391d1a847febd07c41083861114",
              "IPY_MODEL_7d6a7c3f2a824394900ad3f237773eb3",
              "IPY_MODEL_b160a6532fd84121ba2e388ad0f3bdcf"
            ],
            "layout": "IPY_MODEL_fe5a35a6f6454b10a2cfacc0ce7f44e7"
          }
        },
        "e1429391d1a847febd07c41083861114": {
          "model_module": "@jupyter-widgets/controls",
          "model_name": "HTMLModel",
          "model_module_version": "1.5.0",
          "state": {
            "_dom_classes": [],
            "_model_module": "@jupyter-widgets/controls",
            "_model_module_version": "1.5.0",
            "_model_name": "HTMLModel",
            "_view_count": null,
            "_view_module": "@jupyter-widgets/controls",
            "_view_module_version": "1.5.0",
            "_view_name": "HTMLView",
            "description": "",
            "description_tooltip": null,
            "layout": "IPY_MODEL_82a48a46acff40a9b18d4e09a74688ef",
            "placeholder": "​",
            "style": "IPY_MODEL_dc587697cde74137b8a317de861747c1",
            "value": "tokenizer.json: 100%"
          }
        },
        "7d6a7c3f2a824394900ad3f237773eb3": {
          "model_module": "@jupyter-widgets/controls",
          "model_name": "FloatProgressModel",
          "model_module_version": "1.5.0",
          "state": {
            "_dom_classes": [],
            "_model_module": "@jupyter-widgets/controls",
            "_model_module_version": "1.5.0",
            "_model_name": "FloatProgressModel",
            "_view_count": null,
            "_view_module": "@jupyter-widgets/controls",
            "_view_module_version": "1.5.0",
            "_view_name": "ProgressView",
            "bar_style": "success",
            "description": "",
            "description_tooltip": null,
            "layout": "IPY_MODEL_c3b548a3b9fe418cbb5251c0605b8082",
            "max": 1842764,
            "min": 0,
            "orientation": "horizontal",
            "style": "IPY_MODEL_7a9b61903ad3488a82149df52a9f7445",
            "value": 1842764
          }
        },
        "b160a6532fd84121ba2e388ad0f3bdcf": {
          "model_module": "@jupyter-widgets/controls",
          "model_name": "HTMLModel",
          "model_module_version": "1.5.0",
          "state": {
            "_dom_classes": [],
            "_model_module": "@jupyter-widgets/controls",
            "_model_module_version": "1.5.0",
            "_model_name": "HTMLModel",
            "_view_count": null,
            "_view_module": "@jupyter-widgets/controls",
            "_view_module_version": "1.5.0",
            "_view_name": "HTMLView",
            "description": "",
            "description_tooltip": null,
            "layout": "IPY_MODEL_0e7702dcd773435492a8c7215119d906",
            "placeholder": "​",
            "style": "IPY_MODEL_d2656f00140c4c02a1ffb846eece3a59",
            "value": " 1.84M/1.84M [00:00&lt;00:00, 71.1MB/s]"
          }
        },
        "fe5a35a6f6454b10a2cfacc0ce7f44e7": {
          "model_module": "@jupyter-widgets/base",
          "model_name": "LayoutModel",
          "model_module_version": "1.2.0",
          "state": {
            "_model_module": "@jupyter-widgets/base",
            "_model_module_version": "1.2.0",
            "_model_name": "LayoutModel",
            "_view_count": null,
            "_view_module": "@jupyter-widgets/base",
            "_view_module_version": "1.2.0",
            "_view_name": "LayoutView",
            "align_content": null,
            "align_items": null,
            "align_self": null,
            "border": null,
            "bottom": null,
            "display": null,
            "flex": null,
            "flex_flow": null,
            "grid_area": null,
            "grid_auto_columns": null,
            "grid_auto_flow": null,
            "grid_auto_rows": null,
            "grid_column": null,
            "grid_gap": null,
            "grid_row": null,
            "grid_template_areas": null,
            "grid_template_columns": null,
            "grid_template_rows": null,
            "height": null,
            "justify_content": null,
            "justify_items": null,
            "left": null,
            "margin": null,
            "max_height": null,
            "max_width": null,
            "min_height": null,
            "min_width": null,
            "object_fit": null,
            "object_position": null,
            "order": null,
            "overflow": null,
            "overflow_x": null,
            "overflow_y": null,
            "padding": null,
            "right": null,
            "top": null,
            "visibility": null,
            "width": null
          }
        },
        "82a48a46acff40a9b18d4e09a74688ef": {
          "model_module": "@jupyter-widgets/base",
          "model_name": "LayoutModel",
          "model_module_version": "1.2.0",
          "state": {
            "_model_module": "@jupyter-widgets/base",
            "_model_module_version": "1.2.0",
            "_model_name": "LayoutModel",
            "_view_count": null,
            "_view_module": "@jupyter-widgets/base",
            "_view_module_version": "1.2.0",
            "_view_name": "LayoutView",
            "align_content": null,
            "align_items": null,
            "align_self": null,
            "border": null,
            "bottom": null,
            "display": null,
            "flex": null,
            "flex_flow": null,
            "grid_area": null,
            "grid_auto_columns": null,
            "grid_auto_flow": null,
            "grid_auto_rows": null,
            "grid_column": null,
            "grid_gap": null,
            "grid_row": null,
            "grid_template_areas": null,
            "grid_template_columns": null,
            "grid_template_rows": null,
            "height": null,
            "justify_content": null,
            "justify_items": null,
            "left": null,
            "margin": null,
            "max_height": null,
            "max_width": null,
            "min_height": null,
            "min_width": null,
            "object_fit": null,
            "object_position": null,
            "order": null,
            "overflow": null,
            "overflow_x": null,
            "overflow_y": null,
            "padding": null,
            "right": null,
            "top": null,
            "visibility": null,
            "width": null
          }
        },
        "dc587697cde74137b8a317de861747c1": {
          "model_module": "@jupyter-widgets/controls",
          "model_name": "DescriptionStyleModel",
          "model_module_version": "1.5.0",
          "state": {
            "_model_module": "@jupyter-widgets/controls",
            "_model_module_version": "1.5.0",
            "_model_name": "DescriptionStyleModel",
            "_view_count": null,
            "_view_module": "@jupyter-widgets/base",
            "_view_module_version": "1.2.0",
            "_view_name": "StyleView",
            "description_width": ""
          }
        },
        "c3b548a3b9fe418cbb5251c0605b8082": {
          "model_module": "@jupyter-widgets/base",
          "model_name": "LayoutModel",
          "model_module_version": "1.2.0",
          "state": {
            "_model_module": "@jupyter-widgets/base",
            "_model_module_version": "1.2.0",
            "_model_name": "LayoutModel",
            "_view_count": null,
            "_view_module": "@jupyter-widgets/base",
            "_view_module_version": "1.2.0",
            "_view_name": "LayoutView",
            "align_content": null,
            "align_items": null,
            "align_self": null,
            "border": null,
            "bottom": null,
            "display": null,
            "flex": null,
            "flex_flow": null,
            "grid_area": null,
            "grid_auto_columns": null,
            "grid_auto_flow": null,
            "grid_auto_rows": null,
            "grid_column": null,
            "grid_gap": null,
            "grid_row": null,
            "grid_template_areas": null,
            "grid_template_columns": null,
            "grid_template_rows": null,
            "height": null,
            "justify_content": null,
            "justify_items": null,
            "left": null,
            "margin": null,
            "max_height": null,
            "max_width": null,
            "min_height": null,
            "min_width": null,
            "object_fit": null,
            "object_position": null,
            "order": null,
            "overflow": null,
            "overflow_x": null,
            "overflow_y": null,
            "padding": null,
            "right": null,
            "top": null,
            "visibility": null,
            "width": null
          }
        },
        "7a9b61903ad3488a82149df52a9f7445": {
          "model_module": "@jupyter-widgets/controls",
          "model_name": "ProgressStyleModel",
          "model_module_version": "1.5.0",
          "state": {
            "_model_module": "@jupyter-widgets/controls",
            "_model_module_version": "1.5.0",
            "_model_name": "ProgressStyleModel",
            "_view_count": null,
            "_view_module": "@jupyter-widgets/base",
            "_view_module_version": "1.2.0",
            "_view_name": "StyleView",
            "bar_color": null,
            "description_width": ""
          }
        },
        "0e7702dcd773435492a8c7215119d906": {
          "model_module": "@jupyter-widgets/base",
          "model_name": "LayoutModel",
          "model_module_version": "1.2.0",
          "state": {
            "_model_module": "@jupyter-widgets/base",
            "_model_module_version": "1.2.0",
            "_model_name": "LayoutModel",
            "_view_count": null,
            "_view_module": "@jupyter-widgets/base",
            "_view_module_version": "1.2.0",
            "_view_name": "LayoutView",
            "align_content": null,
            "align_items": null,
            "align_self": null,
            "border": null,
            "bottom": null,
            "display": null,
            "flex": null,
            "flex_flow": null,
            "grid_area": null,
            "grid_auto_columns": null,
            "grid_auto_flow": null,
            "grid_auto_rows": null,
            "grid_column": null,
            "grid_gap": null,
            "grid_row": null,
            "grid_template_areas": null,
            "grid_template_columns": null,
            "grid_template_rows": null,
            "height": null,
            "justify_content": null,
            "justify_items": null,
            "left": null,
            "margin": null,
            "max_height": null,
            "max_width": null,
            "min_height": null,
            "min_width": null,
            "object_fit": null,
            "object_position": null,
            "order": null,
            "overflow": null,
            "overflow_x": null,
            "overflow_y": null,
            "padding": null,
            "right": null,
            "top": null,
            "visibility": null,
            "width": null
          }
        },
        "d2656f00140c4c02a1ffb846eece3a59": {
          "model_module": "@jupyter-widgets/controls",
          "model_name": "DescriptionStyleModel",
          "model_module_version": "1.5.0",
          "state": {
            "_model_module": "@jupyter-widgets/controls",
            "_model_module_version": "1.5.0",
            "_model_name": "DescriptionStyleModel",
            "_view_count": null,
            "_view_module": "@jupyter-widgets/base",
            "_view_module_version": "1.2.0",
            "_view_name": "StyleView",
            "description_width": ""
          }
        },
        "db7519d1398e4533a1341a8679dabdbc": {
          "model_module": "@jupyter-widgets/controls",
          "model_name": "HBoxModel",
          "model_module_version": "1.5.0",
          "state": {
            "_dom_classes": [],
            "_model_module": "@jupyter-widgets/controls",
            "_model_module_version": "1.5.0",
            "_model_name": "HBoxModel",
            "_view_count": null,
            "_view_module": "@jupyter-widgets/controls",
            "_view_module_version": "1.5.0",
            "_view_name": "HBoxView",
            "box_style": "",
            "children": [
              "IPY_MODEL_002a4cd530d249ba9a6efe21ec33db52",
              "IPY_MODEL_18915784b0d54b1d806535a0765b0736",
              "IPY_MODEL_5ac960bcfc974e5aa6139977f130a830"
            ],
            "layout": "IPY_MODEL_6e4558c719cb4a809b0fc646eb0a711d"
          }
        },
        "002a4cd530d249ba9a6efe21ec33db52": {
          "model_module": "@jupyter-widgets/controls",
          "model_name": "HTMLModel",
          "model_module_version": "1.5.0",
          "state": {
            "_dom_classes": [],
            "_model_module": "@jupyter-widgets/controls",
            "_model_module_version": "1.5.0",
            "_model_name": "HTMLModel",
            "_view_count": null,
            "_view_module": "@jupyter-widgets/controls",
            "_view_module_version": "1.5.0",
            "_view_name": "HTMLView",
            "description": "",
            "description_tooltip": null,
            "layout": "IPY_MODEL_17e9b8f48863496cbbb1f8d0c99e514d",
            "placeholder": "​",
            "style": "IPY_MODEL_60c517273411444b864252e5f19d131d",
            "value": "special_tokens_map.json: 100%"
          }
        },
        "18915784b0d54b1d806535a0765b0736": {
          "model_module": "@jupyter-widgets/controls",
          "model_name": "FloatProgressModel",
          "model_module_version": "1.5.0",
          "state": {
            "_dom_classes": [],
            "_model_module": "@jupyter-widgets/controls",
            "_model_module_version": "1.5.0",
            "_model_name": "FloatProgressModel",
            "_view_count": null,
            "_view_module": "@jupyter-widgets/controls",
            "_view_module_version": "1.5.0",
            "_view_name": "ProgressView",
            "bar_style": "success",
            "description": "",
            "description_tooltip": null,
            "layout": "IPY_MODEL_70e3317ae89042948196d8ccd3d59a62",
            "max": 549,
            "min": 0,
            "orientation": "horizontal",
            "style": "IPY_MODEL_a8319167e0b644a1bc214d54ee07bfc1",
            "value": 549
          }
        },
        "5ac960bcfc974e5aa6139977f130a830": {
          "model_module": "@jupyter-widgets/controls",
          "model_name": "HTMLModel",
          "model_module_version": "1.5.0",
          "state": {
            "_dom_classes": [],
            "_model_module": "@jupyter-widgets/controls",
            "_model_module_version": "1.5.0",
            "_model_name": "HTMLModel",
            "_view_count": null,
            "_view_module": "@jupyter-widgets/controls",
            "_view_module_version": "1.5.0",
            "_view_name": "HTMLView",
            "description": "",
            "description_tooltip": null,
            "layout": "IPY_MODEL_36facbec7120463e998d5d496ae96fa4",
            "placeholder": "​",
            "style": "IPY_MODEL_638d8c70fb034e468359307651c069dd",
            "value": " 549/549 [00:00&lt;00:00, 52.2kB/s]"
          }
        },
        "6e4558c719cb4a809b0fc646eb0a711d": {
          "model_module": "@jupyter-widgets/base",
          "model_name": "LayoutModel",
          "model_module_version": "1.2.0",
          "state": {
            "_model_module": "@jupyter-widgets/base",
            "_model_module_version": "1.2.0",
            "_model_name": "LayoutModel",
            "_view_count": null,
            "_view_module": "@jupyter-widgets/base",
            "_view_module_version": "1.2.0",
            "_view_name": "LayoutView",
            "align_content": null,
            "align_items": null,
            "align_self": null,
            "border": null,
            "bottom": null,
            "display": null,
            "flex": null,
            "flex_flow": null,
            "grid_area": null,
            "grid_auto_columns": null,
            "grid_auto_flow": null,
            "grid_auto_rows": null,
            "grid_column": null,
            "grid_gap": null,
            "grid_row": null,
            "grid_template_areas": null,
            "grid_template_columns": null,
            "grid_template_rows": null,
            "height": null,
            "justify_content": null,
            "justify_items": null,
            "left": null,
            "margin": null,
            "max_height": null,
            "max_width": null,
            "min_height": null,
            "min_width": null,
            "object_fit": null,
            "object_position": null,
            "order": null,
            "overflow": null,
            "overflow_x": null,
            "overflow_y": null,
            "padding": null,
            "right": null,
            "top": null,
            "visibility": null,
            "width": null
          }
        },
        "17e9b8f48863496cbbb1f8d0c99e514d": {
          "model_module": "@jupyter-widgets/base",
          "model_name": "LayoutModel",
          "model_module_version": "1.2.0",
          "state": {
            "_model_module": "@jupyter-widgets/base",
            "_model_module_version": "1.2.0",
            "_model_name": "LayoutModel",
            "_view_count": null,
            "_view_module": "@jupyter-widgets/base",
            "_view_module_version": "1.2.0",
            "_view_name": "LayoutView",
            "align_content": null,
            "align_items": null,
            "align_self": null,
            "border": null,
            "bottom": null,
            "display": null,
            "flex": null,
            "flex_flow": null,
            "grid_area": null,
            "grid_auto_columns": null,
            "grid_auto_flow": null,
            "grid_auto_rows": null,
            "grid_column": null,
            "grid_gap": null,
            "grid_row": null,
            "grid_template_areas": null,
            "grid_template_columns": null,
            "grid_template_rows": null,
            "height": null,
            "justify_content": null,
            "justify_items": null,
            "left": null,
            "margin": null,
            "max_height": null,
            "max_width": null,
            "min_height": null,
            "min_width": null,
            "object_fit": null,
            "object_position": null,
            "order": null,
            "overflow": null,
            "overflow_x": null,
            "overflow_y": null,
            "padding": null,
            "right": null,
            "top": null,
            "visibility": null,
            "width": null
          }
        },
        "60c517273411444b864252e5f19d131d": {
          "model_module": "@jupyter-widgets/controls",
          "model_name": "DescriptionStyleModel",
          "model_module_version": "1.5.0",
          "state": {
            "_model_module": "@jupyter-widgets/controls",
            "_model_module_version": "1.5.0",
            "_model_name": "DescriptionStyleModel",
            "_view_count": null,
            "_view_module": "@jupyter-widgets/base",
            "_view_module_version": "1.2.0",
            "_view_name": "StyleView",
            "description_width": ""
          }
        },
        "70e3317ae89042948196d8ccd3d59a62": {
          "model_module": "@jupyter-widgets/base",
          "model_name": "LayoutModel",
          "model_module_version": "1.2.0",
          "state": {
            "_model_module": "@jupyter-widgets/base",
            "_model_module_version": "1.2.0",
            "_model_name": "LayoutModel",
            "_view_count": null,
            "_view_module": "@jupyter-widgets/base",
            "_view_module_version": "1.2.0",
            "_view_name": "LayoutView",
            "align_content": null,
            "align_items": null,
            "align_self": null,
            "border": null,
            "bottom": null,
            "display": null,
            "flex": null,
            "flex_flow": null,
            "grid_area": null,
            "grid_auto_columns": null,
            "grid_auto_flow": null,
            "grid_auto_rows": null,
            "grid_column": null,
            "grid_gap": null,
            "grid_row": null,
            "grid_template_areas": null,
            "grid_template_columns": null,
            "grid_template_rows": null,
            "height": null,
            "justify_content": null,
            "justify_items": null,
            "left": null,
            "margin": null,
            "max_height": null,
            "max_width": null,
            "min_height": null,
            "min_width": null,
            "object_fit": null,
            "object_position": null,
            "order": null,
            "overflow": null,
            "overflow_x": null,
            "overflow_y": null,
            "padding": null,
            "right": null,
            "top": null,
            "visibility": null,
            "width": null
          }
        },
        "a8319167e0b644a1bc214d54ee07bfc1": {
          "model_module": "@jupyter-widgets/controls",
          "model_name": "ProgressStyleModel",
          "model_module_version": "1.5.0",
          "state": {
            "_model_module": "@jupyter-widgets/controls",
            "_model_module_version": "1.5.0",
            "_model_name": "ProgressStyleModel",
            "_view_count": null,
            "_view_module": "@jupyter-widgets/base",
            "_view_module_version": "1.2.0",
            "_view_name": "StyleView",
            "bar_color": null,
            "description_width": ""
          }
        },
        "36facbec7120463e998d5d496ae96fa4": {
          "model_module": "@jupyter-widgets/base",
          "model_name": "LayoutModel",
          "model_module_version": "1.2.0",
          "state": {
            "_model_module": "@jupyter-widgets/base",
            "_model_module_version": "1.2.0",
            "_model_name": "LayoutModel",
            "_view_count": null,
            "_view_module": "@jupyter-widgets/base",
            "_view_module_version": "1.2.0",
            "_view_name": "LayoutView",
            "align_content": null,
            "align_items": null,
            "align_self": null,
            "border": null,
            "bottom": null,
            "display": null,
            "flex": null,
            "flex_flow": null,
            "grid_area": null,
            "grid_auto_columns": null,
            "grid_auto_flow": null,
            "grid_auto_rows": null,
            "grid_column": null,
            "grid_gap": null,
            "grid_row": null,
            "grid_template_areas": null,
            "grid_template_columns": null,
            "grid_template_rows": null,
            "height": null,
            "justify_content": null,
            "justify_items": null,
            "left": null,
            "margin": null,
            "max_height": null,
            "max_width": null,
            "min_height": null,
            "min_width": null,
            "object_fit": null,
            "object_position": null,
            "order": null,
            "overflow": null,
            "overflow_x": null,
            "overflow_y": null,
            "padding": null,
            "right": null,
            "top": null,
            "visibility": null,
            "width": null
          }
        },
        "638d8c70fb034e468359307651c069dd": {
          "model_module": "@jupyter-widgets/controls",
          "model_name": "DescriptionStyleModel",
          "model_module_version": "1.5.0",
          "state": {
            "_model_module": "@jupyter-widgets/controls",
            "_model_module_version": "1.5.0",
            "_model_name": "DescriptionStyleModel",
            "_view_count": null,
            "_view_module": "@jupyter-widgets/base",
            "_view_module_version": "1.2.0",
            "_view_name": "StyleView",
            "description_width": ""
          }
        },
        "dcf4254abe6948388de7520cb233a08e": {
          "model_module": "@jupyter-widgets/controls",
          "model_name": "HBoxModel",
          "model_module_version": "1.5.0",
          "state": {
            "_dom_classes": [],
            "_model_module": "@jupyter-widgets/controls",
            "_model_module_version": "1.5.0",
            "_model_name": "HBoxModel",
            "_view_count": null,
            "_view_module": "@jupyter-widgets/controls",
            "_view_module_version": "1.5.0",
            "_view_name": "HBoxView",
            "box_style": "",
            "children": [
              "IPY_MODEL_c66cfe1d6923459fbfc4dc2ba0af9b0e",
              "IPY_MODEL_f811594d24bc41308fcfa2413f3419cc",
              "IPY_MODEL_9d974f456f5f45a698286c53ee70ead0"
            ],
            "layout": "IPY_MODEL_28a22d71c3c44fdf945642bda232d005"
          }
        },
        "c66cfe1d6923459fbfc4dc2ba0af9b0e": {
          "model_module": "@jupyter-widgets/controls",
          "model_name": "HTMLModel",
          "model_module_version": "1.5.0",
          "state": {
            "_dom_classes": [],
            "_model_module": "@jupyter-widgets/controls",
            "_model_module_version": "1.5.0",
            "_model_name": "HTMLModel",
            "_view_count": null,
            "_view_module": "@jupyter-widgets/controls",
            "_view_module_version": "1.5.0",
            "_view_name": "HTMLView",
            "description": "",
            "description_tooltip": null,
            "layout": "IPY_MODEL_281355d84fc94c0c8bd69776d4ca864e",
            "placeholder": "​",
            "style": "IPY_MODEL_77969608a4404441a2800c7b699129be",
            "value": "generation_config.json: 100%"
          }
        },
        "f811594d24bc41308fcfa2413f3419cc": {
          "model_module": "@jupyter-widgets/controls",
          "model_name": "FloatProgressModel",
          "model_module_version": "1.5.0",
          "state": {
            "_dom_classes": [],
            "_model_module": "@jupyter-widgets/controls",
            "_model_module_version": "1.5.0",
            "_model_name": "FloatProgressModel",
            "_view_count": null,
            "_view_module": "@jupyter-widgets/controls",
            "_view_module_version": "1.5.0",
            "_view_name": "ProgressView",
            "bar_style": "success",
            "description": "",
            "description_tooltip": null,
            "layout": "IPY_MODEL_2019e4f7570c46a6a48d0837c01115d8",
            "max": 132,
            "min": 0,
            "orientation": "horizontal",
            "style": "IPY_MODEL_4d49b58025eb4e82b547f9a7b0fa1323",
            "value": 132
          }
        },
        "9d974f456f5f45a698286c53ee70ead0": {
          "model_module": "@jupyter-widgets/controls",
          "model_name": "HTMLModel",
          "model_module_version": "1.5.0",
          "state": {
            "_dom_classes": [],
            "_model_module": "@jupyter-widgets/controls",
            "_model_module_version": "1.5.0",
            "_model_name": "HTMLModel",
            "_view_count": null,
            "_view_module": "@jupyter-widgets/controls",
            "_view_module_version": "1.5.0",
            "_view_name": "HTMLView",
            "description": "",
            "description_tooltip": null,
            "layout": "IPY_MODEL_c758a71985cf487a81afccc24254a21f",
            "placeholder": "​",
            "style": "IPY_MODEL_336e2ff7a0e141b0b1cfa76ab52e53ac",
            "value": " 132/132 [00:00&lt;00:00, 12.4kB/s]"
          }
        },
        "28a22d71c3c44fdf945642bda232d005": {
          "model_module": "@jupyter-widgets/base",
          "model_name": "LayoutModel",
          "model_module_version": "1.2.0",
          "state": {
            "_model_module": "@jupyter-widgets/base",
            "_model_module_version": "1.2.0",
            "_model_name": "LayoutModel",
            "_view_count": null,
            "_view_module": "@jupyter-widgets/base",
            "_view_module_version": "1.2.0",
            "_view_name": "LayoutView",
            "align_content": null,
            "align_items": null,
            "align_self": null,
            "border": null,
            "bottom": null,
            "display": null,
            "flex": null,
            "flex_flow": null,
            "grid_area": null,
            "grid_auto_columns": null,
            "grid_auto_flow": null,
            "grid_auto_rows": null,
            "grid_column": null,
            "grid_gap": null,
            "grid_row": null,
            "grid_template_areas": null,
            "grid_template_columns": null,
            "grid_template_rows": null,
            "height": null,
            "justify_content": null,
            "justify_items": null,
            "left": null,
            "margin": null,
            "max_height": null,
            "max_width": null,
            "min_height": null,
            "min_width": null,
            "object_fit": null,
            "object_position": null,
            "order": null,
            "overflow": null,
            "overflow_x": null,
            "overflow_y": null,
            "padding": null,
            "right": null,
            "top": null,
            "visibility": null,
            "width": null
          }
        },
        "281355d84fc94c0c8bd69776d4ca864e": {
          "model_module": "@jupyter-widgets/base",
          "model_name": "LayoutModel",
          "model_module_version": "1.2.0",
          "state": {
            "_model_module": "@jupyter-widgets/base",
            "_model_module_version": "1.2.0",
            "_model_name": "LayoutModel",
            "_view_count": null,
            "_view_module": "@jupyter-widgets/base",
            "_view_module_version": "1.2.0",
            "_view_name": "LayoutView",
            "align_content": null,
            "align_items": null,
            "align_self": null,
            "border": null,
            "bottom": null,
            "display": null,
            "flex": null,
            "flex_flow": null,
            "grid_area": null,
            "grid_auto_columns": null,
            "grid_auto_flow": null,
            "grid_auto_rows": null,
            "grid_column": null,
            "grid_gap": null,
            "grid_row": null,
            "grid_template_areas": null,
            "grid_template_columns": null,
            "grid_template_rows": null,
            "height": null,
            "justify_content": null,
            "justify_items": null,
            "left": null,
            "margin": null,
            "max_height": null,
            "max_width": null,
            "min_height": null,
            "min_width": null,
            "object_fit": null,
            "object_position": null,
            "order": null,
            "overflow": null,
            "overflow_x": null,
            "overflow_y": null,
            "padding": null,
            "right": null,
            "top": null,
            "visibility": null,
            "width": null
          }
        },
        "77969608a4404441a2800c7b699129be": {
          "model_module": "@jupyter-widgets/controls",
          "model_name": "DescriptionStyleModel",
          "model_module_version": "1.5.0",
          "state": {
            "_model_module": "@jupyter-widgets/controls",
            "_model_module_version": "1.5.0",
            "_model_name": "DescriptionStyleModel",
            "_view_count": null,
            "_view_module": "@jupyter-widgets/base",
            "_view_module_version": "1.2.0",
            "_view_name": "StyleView",
            "description_width": ""
          }
        },
        "2019e4f7570c46a6a48d0837c01115d8": {
          "model_module": "@jupyter-widgets/base",
          "model_name": "LayoutModel",
          "model_module_version": "1.2.0",
          "state": {
            "_model_module": "@jupyter-widgets/base",
            "_model_module_version": "1.2.0",
            "_model_name": "LayoutModel",
            "_view_count": null,
            "_view_module": "@jupyter-widgets/base",
            "_view_module_version": "1.2.0",
            "_view_name": "LayoutView",
            "align_content": null,
            "align_items": null,
            "align_self": null,
            "border": null,
            "bottom": null,
            "display": null,
            "flex": null,
            "flex_flow": null,
            "grid_area": null,
            "grid_auto_columns": null,
            "grid_auto_flow": null,
            "grid_auto_rows": null,
            "grid_column": null,
            "grid_gap": null,
            "grid_row": null,
            "grid_template_areas": null,
            "grid_template_columns": null,
            "grid_template_rows": null,
            "height": null,
            "justify_content": null,
            "justify_items": null,
            "left": null,
            "margin": null,
            "max_height": null,
            "max_width": null,
            "min_height": null,
            "min_width": null,
            "object_fit": null,
            "object_position": null,
            "order": null,
            "overflow": null,
            "overflow_x": null,
            "overflow_y": null,
            "padding": null,
            "right": null,
            "top": null,
            "visibility": null,
            "width": null
          }
        },
        "4d49b58025eb4e82b547f9a7b0fa1323": {
          "model_module": "@jupyter-widgets/controls",
          "model_name": "ProgressStyleModel",
          "model_module_version": "1.5.0",
          "state": {
            "_model_module": "@jupyter-widgets/controls",
            "_model_module_version": "1.5.0",
            "_model_name": "ProgressStyleModel",
            "_view_count": null,
            "_view_module": "@jupyter-widgets/base",
            "_view_module_version": "1.2.0",
            "_view_name": "StyleView",
            "bar_color": null,
            "description_width": ""
          }
        },
        "c758a71985cf487a81afccc24254a21f": {
          "model_module": "@jupyter-widgets/base",
          "model_name": "LayoutModel",
          "model_module_version": "1.2.0",
          "state": {
            "_model_module": "@jupyter-widgets/base",
            "_model_module_version": "1.2.0",
            "_model_name": "LayoutModel",
            "_view_count": null,
            "_view_module": "@jupyter-widgets/base",
            "_view_module_version": "1.2.0",
            "_view_name": "LayoutView",
            "align_content": null,
            "align_items": null,
            "align_self": null,
            "border": null,
            "bottom": null,
            "display": null,
            "flex": null,
            "flex_flow": null,
            "grid_area": null,
            "grid_auto_columns": null,
            "grid_auto_flow": null,
            "grid_auto_rows": null,
            "grid_column": null,
            "grid_gap": null,
            "grid_row": null,
            "grid_template_areas": null,
            "grid_template_columns": null,
            "grid_template_rows": null,
            "height": null,
            "justify_content": null,
            "justify_items": null,
            "left": null,
            "margin": null,
            "max_height": null,
            "max_width": null,
            "min_height": null,
            "min_width": null,
            "object_fit": null,
            "object_position": null,
            "order": null,
            "overflow": null,
            "overflow_x": null,
            "overflow_y": null,
            "padding": null,
            "right": null,
            "top": null,
            "visibility": null,
            "width": null
          }
        },
        "336e2ff7a0e141b0b1cfa76ab52e53ac": {
          "model_module": "@jupyter-widgets/controls",
          "model_name": "DescriptionStyleModel",
          "model_module_version": "1.5.0",
          "state": {
            "_model_module": "@jupyter-widgets/controls",
            "_model_module_version": "1.5.0",
            "_model_name": "DescriptionStyleModel",
            "_view_count": null,
            "_view_module": "@jupyter-widgets/base",
            "_view_module_version": "1.2.0",
            "_view_name": "StyleView",
            "description_width": ""
          }
        },
        "d35546d7e933485d8f912ecb84d7926e": {
          "model_module": "@jupyter-widgets/controls",
          "model_name": "HBoxModel",
          "model_module_version": "1.5.0",
          "state": {
            "_dom_classes": [],
            "_model_module": "@jupyter-widgets/controls",
            "_model_module_version": "1.5.0",
            "_model_name": "HBoxModel",
            "_view_count": null,
            "_view_module": "@jupyter-widgets/controls",
            "_view_module_version": "1.5.0",
            "_view_name": "HBoxView",
            "box_style": "",
            "children": [
              "IPY_MODEL_19e02ce9fb0f41a38d59bf3986c788b4",
              "IPY_MODEL_a0362aa8811640ed93a9092524ed486e",
              "IPY_MODEL_3de25bdf4ecd4461bc6390cbf447bdcc"
            ],
            "layout": "IPY_MODEL_b977ce5b4b8c42488c88ac165955ab45"
          }
        },
        "19e02ce9fb0f41a38d59bf3986c788b4": {
          "model_module": "@jupyter-widgets/controls",
          "model_name": "HTMLModel",
          "model_module_version": "1.5.0",
          "state": {
            "_dom_classes": [],
            "_model_module": "@jupyter-widgets/controls",
            "_model_module_version": "1.5.0",
            "_model_name": "HTMLModel",
            "_view_count": null,
            "_view_module": "@jupyter-widgets/controls",
            "_view_module_version": "1.5.0",
            "_view_name": "HTMLView",
            "description": "",
            "description_tooltip": null,
            "layout": "IPY_MODEL_135ecb037bc04c628d53f75b621dfbbb",
            "placeholder": "​",
            "style": "IPY_MODEL_7e015e1a107e407383ff516cb172dcf8",
            "value": "pytorch_model.bin: 100%"
          }
        },
        "a0362aa8811640ed93a9092524ed486e": {
          "model_module": "@jupyter-widgets/controls",
          "model_name": "FloatProgressModel",
          "model_module_version": "1.5.0",
          "state": {
            "_dom_classes": [],
            "_model_module": "@jupyter-widgets/controls",
            "_model_module_version": "1.5.0",
            "_model_name": "FloatProgressModel",
            "_view_count": null,
            "_view_module": "@jupyter-widgets/controls",
            "_view_module_version": "1.5.0",
            "_view_name": "ProgressView",
            "bar_style": "success",
            "description": "",
            "description_tooltip": null,
            "layout": "IPY_MODEL_aadd906fe3d649ccace847d88d43aaf9",
            "max": 7248185990,
            "min": 0,
            "orientation": "horizontal",
            "style": "IPY_MODEL_92f24854c35a447e9749b92d5d2b8b00",
            "value": 7248185990
          }
        },
        "3de25bdf4ecd4461bc6390cbf447bdcc": {
          "model_module": "@jupyter-widgets/controls",
          "model_name": "HTMLModel",
          "model_module_version": "1.5.0",
          "state": {
            "_dom_classes": [],
            "_model_module": "@jupyter-widgets/controls",
            "_model_module_version": "1.5.0",
            "_model_name": "HTMLModel",
            "_view_count": null,
            "_view_module": "@jupyter-widgets/controls",
            "_view_module_version": "1.5.0",
            "_view_name": "HTMLView",
            "description": "",
            "description_tooltip": null,
            "layout": "IPY_MODEL_c36f85d8990e4bf59365ebfa71d4eb00",
            "placeholder": "​",
            "style": "IPY_MODEL_d5ab1b0a7a164d78a4f852eb72ef2e7c",
            "value": " 7.25G/7.25G [05:34&lt;00:00, 21.9MB/s]"
          }
        },
        "b977ce5b4b8c42488c88ac165955ab45": {
          "model_module": "@jupyter-widgets/base",
          "model_name": "LayoutModel",
          "model_module_version": "1.2.0",
          "state": {
            "_model_module": "@jupyter-widgets/base",
            "_model_module_version": "1.2.0",
            "_model_name": "LayoutModel",
            "_view_count": null,
            "_view_module": "@jupyter-widgets/base",
            "_view_module_version": "1.2.0",
            "_view_name": "LayoutView",
            "align_content": null,
            "align_items": null,
            "align_self": null,
            "border": null,
            "bottom": null,
            "display": null,
            "flex": null,
            "flex_flow": null,
            "grid_area": null,
            "grid_auto_columns": null,
            "grid_auto_flow": null,
            "grid_auto_rows": null,
            "grid_column": null,
            "grid_gap": null,
            "grid_row": null,
            "grid_template_areas": null,
            "grid_template_columns": null,
            "grid_template_rows": null,
            "height": null,
            "justify_content": null,
            "justify_items": null,
            "left": null,
            "margin": null,
            "max_height": null,
            "max_width": null,
            "min_height": null,
            "min_width": null,
            "object_fit": null,
            "object_position": null,
            "order": null,
            "overflow": null,
            "overflow_x": null,
            "overflow_y": null,
            "padding": null,
            "right": null,
            "top": null,
            "visibility": null,
            "width": null
          }
        },
        "135ecb037bc04c628d53f75b621dfbbb": {
          "model_module": "@jupyter-widgets/base",
          "model_name": "LayoutModel",
          "model_module_version": "1.2.0",
          "state": {
            "_model_module": "@jupyter-widgets/base",
            "_model_module_version": "1.2.0",
            "_model_name": "LayoutModel",
            "_view_count": null,
            "_view_module": "@jupyter-widgets/base",
            "_view_module_version": "1.2.0",
            "_view_name": "LayoutView",
            "align_content": null,
            "align_items": null,
            "align_self": null,
            "border": null,
            "bottom": null,
            "display": null,
            "flex": null,
            "flex_flow": null,
            "grid_area": null,
            "grid_auto_columns": null,
            "grid_auto_flow": null,
            "grid_auto_rows": null,
            "grid_column": null,
            "grid_gap": null,
            "grid_row": null,
            "grid_template_areas": null,
            "grid_template_columns": null,
            "grid_template_rows": null,
            "height": null,
            "justify_content": null,
            "justify_items": null,
            "left": null,
            "margin": null,
            "max_height": null,
            "max_width": null,
            "min_height": null,
            "min_width": null,
            "object_fit": null,
            "object_position": null,
            "order": null,
            "overflow": null,
            "overflow_x": null,
            "overflow_y": null,
            "padding": null,
            "right": null,
            "top": null,
            "visibility": null,
            "width": null
          }
        },
        "7e015e1a107e407383ff516cb172dcf8": {
          "model_module": "@jupyter-widgets/controls",
          "model_name": "DescriptionStyleModel",
          "model_module_version": "1.5.0",
          "state": {
            "_model_module": "@jupyter-widgets/controls",
            "_model_module_version": "1.5.0",
            "_model_name": "DescriptionStyleModel",
            "_view_count": null,
            "_view_module": "@jupyter-widgets/base",
            "_view_module_version": "1.2.0",
            "_view_name": "StyleView",
            "description_width": ""
          }
        },
        "aadd906fe3d649ccace847d88d43aaf9": {
          "model_module": "@jupyter-widgets/base",
          "model_name": "LayoutModel",
          "model_module_version": "1.2.0",
          "state": {
            "_model_module": "@jupyter-widgets/base",
            "_model_module_version": "1.2.0",
            "_model_name": "LayoutModel",
            "_view_count": null,
            "_view_module": "@jupyter-widgets/base",
            "_view_module_version": "1.2.0",
            "_view_name": "LayoutView",
            "align_content": null,
            "align_items": null,
            "align_self": null,
            "border": null,
            "bottom": null,
            "display": null,
            "flex": null,
            "flex_flow": null,
            "grid_area": null,
            "grid_auto_columns": null,
            "grid_auto_flow": null,
            "grid_auto_rows": null,
            "grid_column": null,
            "grid_gap": null,
            "grid_row": null,
            "grid_template_areas": null,
            "grid_template_columns": null,
            "grid_template_rows": null,
            "height": null,
            "justify_content": null,
            "justify_items": null,
            "left": null,
            "margin": null,
            "max_height": null,
            "max_width": null,
            "min_height": null,
            "min_width": null,
            "object_fit": null,
            "object_position": null,
            "order": null,
            "overflow": null,
            "overflow_x": null,
            "overflow_y": null,
            "padding": null,
            "right": null,
            "top": null,
            "visibility": null,
            "width": null
          }
        },
        "92f24854c35a447e9749b92d5d2b8b00": {
          "model_module": "@jupyter-widgets/controls",
          "model_name": "ProgressStyleModel",
          "model_module_version": "1.5.0",
          "state": {
            "_model_module": "@jupyter-widgets/controls",
            "_model_module_version": "1.5.0",
            "_model_name": "ProgressStyleModel",
            "_view_count": null,
            "_view_module": "@jupyter-widgets/base",
            "_view_module_version": "1.2.0",
            "_view_name": "StyleView",
            "bar_color": null,
            "description_width": ""
          }
        },
        "c36f85d8990e4bf59365ebfa71d4eb00": {
          "model_module": "@jupyter-widgets/base",
          "model_name": "LayoutModel",
          "model_module_version": "1.2.0",
          "state": {
            "_model_module": "@jupyter-widgets/base",
            "_model_module_version": "1.2.0",
            "_model_name": "LayoutModel",
            "_view_count": null,
            "_view_module": "@jupyter-widgets/base",
            "_view_module_version": "1.2.0",
            "_view_name": "LayoutView",
            "align_content": null,
            "align_items": null,
            "align_self": null,
            "border": null,
            "bottom": null,
            "display": null,
            "flex": null,
            "flex_flow": null,
            "grid_area": null,
            "grid_auto_columns": null,
            "grid_auto_flow": null,
            "grid_auto_rows": null,
            "grid_column": null,
            "grid_gap": null,
            "grid_row": null,
            "grid_template_areas": null,
            "grid_template_columns": null,
            "grid_template_rows": null,
            "height": null,
            "justify_content": null,
            "justify_items": null,
            "left": null,
            "margin": null,
            "max_height": null,
            "max_width": null,
            "min_height": null,
            "min_width": null,
            "object_fit": null,
            "object_position": null,
            "order": null,
            "overflow": null,
            "overflow_x": null,
            "overflow_y": null,
            "padding": null,
            "right": null,
            "top": null,
            "visibility": null,
            "width": null
          }
        },
        "d5ab1b0a7a164d78a4f852eb72ef2e7c": {
          "model_module": "@jupyter-widgets/controls",
          "model_name": "DescriptionStyleModel",
          "model_module_version": "1.5.0",
          "state": {
            "_model_module": "@jupyter-widgets/controls",
            "_model_module_version": "1.5.0",
            "_model_name": "DescriptionStyleModel",
            "_view_count": null,
            "_view_module": "@jupyter-widgets/base",
            "_view_module_version": "1.2.0",
            "_view_name": "StyleView",
            "description_width": ""
          }
        }
      }
    }
  },
  "cells": [
    {
      "cell_type": "markdown",
      "source": [
        "# Multilingual Analysis Improved"
      ],
      "metadata": {
        "id": "G4JkM--xJtF1"
      }
    },
    {
      "cell_type": "markdown",
      "source": [
        "This notebook is for the improvement of multilingual analysis, it is to analyze 15 English translation of 15 Chinese excerpts to set the accuracy baseline for the summaries in the output annotations.\n",
        "\n",
        "Codes reference: https://colab.research.google.com/drive/1VTi6Z51X6_nAlfSYmIqU7ZnTRVJIjv4j?usp=sharing"
      ],
      "metadata": {
        "id": "5C4rc9qAp7sQ"
      }
    },
    {
      "cell_type": "markdown",
      "source": [
        "## Import the model"
      ],
      "metadata": {
        "id": "sJUK8YjspTs-"
      }
    },
    {
      "cell_type": "code",
      "execution_count": null,
      "metadata": {
        "colab": {
          "base_uri": "https://localhost:8080/"
        },
        "id": "JWVzTGV8JBcm",
        "outputId": "8786c7a8-db92-4de2-8a77-094c67a1f789"
      },
      "outputs": [
        {
          "output_type": "stream",
          "name": "stdout",
          "text": [
            "Mounted at /content/drive\n",
            "mkdir: cannot create directory ‘/content/drive/My Drive/Brahe’: File exists\n",
            "/content/drive/My Drive/Brahe\n"
          ]
        }
      ],
      "source": [
        "from google.colab import drive\n",
        "drive.mount('/content/drive')\n",
        "\n",
        "!mkdir \"/content/drive/My Drive/Brahe\"\n",
        "%cd \"/content/drive/My Drive/Brahe\""
      ]
    },
    {
      "cell_type": "code",
      "source": [
        "!wget https://huggingface.co/Pclanglais/Brahe-AWQ/resolve/main/config.json\n",
        "!wget https://huggingface.co/Pclanglais/Brahe-AWQ/resolve/main/generation_config.json\n",
        "!wget https://huggingface.co/Pclanglais/Brahe-AWQ/resolve/main/pytorch_model.bin\n",
        "!wget https://huggingface.co/Pclanglais/Brahe-AWQ/resolve/main/quant_config.json\n",
        "!wget https://huggingface.co/Pclanglais/Brahe-AWQ/resolve/main/model.safetensors\n",
        "!wget https://huggingface.co/Pclanglais/Brahe-AWQ/resolve/main/special_tokens_map.json\n",
        "!wget https://huggingface.co/Pclanglais/Brahe-AWQ/resolve/main/tokenizer.model\n",
        "!wget https://huggingface.co/Pclanglais/Brahe-AWQ/resolve/main/tokenizer_config.json"
      ],
      "metadata": {
        "colab": {
          "base_uri": "https://localhost:8080/"
        },
        "id": "-HCPlEHiJ2yX",
        "outputId": "fd47518b-edfa-4a37-e22a-e6b1be91f2e1"
      },
      "execution_count": null,
      "outputs": [
        {
          "output_type": "stream",
          "name": "stdout",
          "text": [
            "--2024-06-08 00:23:11--  https://huggingface.co/Pclanglais/Brahe-AWQ/resolve/main/config.json\n",
            "Resolving huggingface.co (huggingface.co)... 13.33.30.76, 13.33.30.49, 13.33.30.114, ...\n",
            "Connecting to huggingface.co (huggingface.co)|13.33.30.76|:443... connected.\n",
            "HTTP request sent, awaiting response... 200 OK\n",
            "Length: 801 [text/plain]\n",
            "Saving to: ‘config.json.12’\n",
            "\n",
            "config.json.12      100%[===================>]     801  --.-KB/s    in 0s      \n",
            "\n",
            "2024-06-08 00:23:11 (323 MB/s) - ‘config.json.12’ saved [801/801]\n",
            "\n",
            "--2024-06-08 00:23:11--  https://huggingface.co/Pclanglais/Brahe-AWQ/resolve/main/generation_config.json\n",
            "Resolving huggingface.co (huggingface.co)... 13.33.30.76, 13.33.30.49, 13.33.30.114, ...\n",
            "Connecting to huggingface.co (huggingface.co)|13.33.30.76|:443... connected.\n",
            "HTTP request sent, awaiting response... 200 OK\n",
            "Length: 132 [text/plain]\n",
            "Saving to: ‘generation_config.json.12’\n",
            "\n",
            "generation_config.j 100%[===================>]     132  --.-KB/s    in 0s      \n",
            "\n",
            "2024-06-08 00:23:11 (40.3 MB/s) - ‘generation_config.json.12’ saved [132/132]\n",
            "\n",
            "--2024-06-08 00:23:11--  https://huggingface.co/Pclanglais/Brahe-AWQ/resolve/main/pytorch_model.bin\n",
            "Resolving huggingface.co (huggingface.co)... 13.33.30.76, 13.33.30.49, 13.33.30.114, ...\n",
            "Connecting to huggingface.co (huggingface.co)|13.33.30.76|:443... connected.\n",
            "HTTP request sent, awaiting response... 302 Found\n",
            "Location: https://cdn-lfs-us-1.huggingface.co/repos/ef/ec/efec059a080e7700b8069113b9d2863c3e63ba00a034ebbbf1531bffbbe021ab/6a3af8239a9d01fa94c892610fefbd276e595de31f90f1cd705dcf618448b5a8?response-content-disposition=inline%3B+filename*%3DUTF-8%27%27pytorch_model.bin%3B+filename%3D%22pytorch_model.bin%22%3B&response-content-type=application%2Foctet-stream&Expires=1718065392&Policy=eyJTdGF0ZW1lbnQiOlt7IkNvbmRpdGlvbiI6eyJEYXRlTGVzc1RoYW4iOnsiQVdTOkVwb2NoVGltZSI6MTcxODA2NTM5Mn19LCJSZXNvdXJjZSI6Imh0dHBzOi8vY2RuLWxmcy11cy0xLmh1Z2dpbmdmYWNlLmNvL3JlcG9zL2VmL2VjL2VmZWMwNTlhMDgwZTc3MDBiODA2OTExM2I5ZDI4NjNjM2U2M2JhMDBhMDM0ZWJiYmYxNTMxYmZmYmJlMDIxYWIvNmEzYWY4MjM5YTlkMDFmYTk0Yzg5MjYxMGZlZmJkMjc2ZTU5NWRlMzFmOTBmMWNkNzA1ZGNmNjE4NDQ4YjVhOD9yZXNwb25zZS1jb250ZW50LWRpc3Bvc2l0aW9uPSomcmVzcG9uc2UtY29udGVudC10eXBlPSoifV19&Signature=ewERfwUr9JxEO39NKas6vIu-ldHJIAEkxl1Yup1Sif7xlIgSMBskIXtkD41pbnobfh5UjNMqelRdOJbpQWymKLWfETNNNBI3OxSmfGeMFfvuM7PKexFp-2-umCVE9uNFCX%7Evb0T25KZ8LF4qLl2UpERfmWSSZFF7rFmhXaH-ZCZYZ5uIILjy5PM342aOps0S2hBCQsbdpwP2JiI-KBcjyGrBzBFJa2DOmnNW-Nlukl5VauATKAnTA6gGDHIcnIQI%7Ejm9ZjfSD6Sbkc%7EhAZDwye37-rsXHthZ7zTk49FToUPeaxhpWdT96iIUVIm-PSOjl5zV9yt2jN8f6B5emXARRw__&Key-Pair-Id=KCD77M1F0VK2B [following]\n",
            "--2024-06-08 00:23:12--  https://cdn-lfs-us-1.huggingface.co/repos/ef/ec/efec059a080e7700b8069113b9d2863c3e63ba00a034ebbbf1531bffbbe021ab/6a3af8239a9d01fa94c892610fefbd276e595de31f90f1cd705dcf618448b5a8?response-content-disposition=inline%3B+filename*%3DUTF-8%27%27pytorch_model.bin%3B+filename%3D%22pytorch_model.bin%22%3B&response-content-type=application%2Foctet-stream&Expires=1718065392&Policy=eyJTdGF0ZW1lbnQiOlt7IkNvbmRpdGlvbiI6eyJEYXRlTGVzc1RoYW4iOnsiQVdTOkVwb2NoVGltZSI6MTcxODA2NTM5Mn19LCJSZXNvdXJjZSI6Imh0dHBzOi8vY2RuLWxmcy11cy0xLmh1Z2dpbmdmYWNlLmNvL3JlcG9zL2VmL2VjL2VmZWMwNTlhMDgwZTc3MDBiODA2OTExM2I5ZDI4NjNjM2U2M2JhMDBhMDM0ZWJiYmYxNTMxYmZmYmJlMDIxYWIvNmEzYWY4MjM5YTlkMDFmYTk0Yzg5MjYxMGZlZmJkMjc2ZTU5NWRlMzFmOTBmMWNkNzA1ZGNmNjE4NDQ4YjVhOD9yZXNwb25zZS1jb250ZW50LWRpc3Bvc2l0aW9uPSomcmVzcG9uc2UtY29udGVudC10eXBlPSoifV19&Signature=ewERfwUr9JxEO39NKas6vIu-ldHJIAEkxl1Yup1Sif7xlIgSMBskIXtkD41pbnobfh5UjNMqelRdOJbpQWymKLWfETNNNBI3OxSmfGeMFfvuM7PKexFp-2-umCVE9uNFCX%7Evb0T25KZ8LF4qLl2UpERfmWSSZFF7rFmhXaH-ZCZYZ5uIILjy5PM342aOps0S2hBCQsbdpwP2JiI-KBcjyGrBzBFJa2DOmnNW-Nlukl5VauATKAnTA6gGDHIcnIQI%7Ejm9ZjfSD6Sbkc%7EhAZDwye37-rsXHthZ7zTk49FToUPeaxhpWdT96iIUVIm-PSOjl5zV9yt2jN8f6B5emXARRw__&Key-Pair-Id=KCD77M1F0VK2B\n",
            "Resolving cdn-lfs-us-1.huggingface.co (cdn-lfs-us-1.huggingface.co)... 3.165.102.25, 3.165.102.95, 3.165.102.112, ...\n",
            "Connecting to cdn-lfs-us-1.huggingface.co (cdn-lfs-us-1.huggingface.co)|3.165.102.25|:443... connected.\n",
            "HTTP request sent, awaiting response... 200 OK\n",
            "Length: 7248185990 (6.8G) [application/octet-stream]\n",
            "Saving to: ‘pytorch_model.bin.12’\n",
            "\n",
            "pytorch_model.bin.1 100%[===================>]   6.75G  21.6MB/s    in 5m 20s  \n",
            "\n",
            "2024-06-08 00:28:32 (21.6 MB/s) - ‘pytorch_model.bin.12’ saved [7248185990/7248185990]\n",
            "\n",
            "--2024-06-08 00:28:33--  https://huggingface.co/Pclanglais/Brahe-AWQ/resolve/main/quant_config.json\n",
            "Resolving huggingface.co (huggingface.co)... 13.33.30.49, 13.33.30.23, 13.33.30.76, ...\n",
            "Connecting to huggingface.co (huggingface.co)|13.33.30.49|:443... connected.\n",
            "HTTP request sent, awaiting response... 200 OK\n",
            "Length: 90 [text/plain]\n",
            "Saving to: ‘quant_config.json.12’\n",
            "\n",
            "quant_config.json.1 100%[===================>]      90  --.-KB/s    in 0s      \n",
            "\n",
            "2024-06-08 00:28:34 (7.30 MB/s) - ‘quant_config.json.12’ saved [90/90]\n",
            "\n",
            "--2024-06-08 00:28:34--  https://huggingface.co/Pclanglais/Brahe-AWQ/resolve/main/model.safetensors\n",
            "Resolving huggingface.co (huggingface.co)... 13.33.30.49, 13.33.30.23, 13.33.30.76, ...\n",
            "Connecting to huggingface.co (huggingface.co)|13.33.30.49|:443... connected.\n",
            "HTTP request sent, awaiting response... 404 Not Found\n",
            "2024-06-08 00:28:34 ERROR 404: Not Found.\n",
            "\n",
            "--2024-06-08 00:28:34--  https://huggingface.co/Pclanglais/Brahe-AWQ/resolve/main/special_tokens_map.json\n",
            "Resolving huggingface.co (huggingface.co)... 13.33.30.49, 13.33.30.23, 13.33.30.76, ...\n",
            "Connecting to huggingface.co (huggingface.co)|13.33.30.49|:443... connected.\n",
            "HTTP request sent, awaiting response... 200 OK\n",
            "Length: 549 [text/plain]\n",
            "Saving to: ‘special_tokens_map.json.12’\n",
            "\n",
            "special_tokens_map. 100%[===================>]     549  --.-KB/s    in 0s      \n",
            "\n",
            "2024-06-08 00:28:34 (157 MB/s) - ‘special_tokens_map.json.12’ saved [549/549]\n",
            "\n",
            "--2024-06-08 00:28:34--  https://huggingface.co/Pclanglais/Brahe-AWQ/resolve/main/tokenizer.model\n",
            "Resolving huggingface.co (huggingface.co)... 13.33.30.49, 13.33.30.23, 13.33.30.76, ...\n",
            "Connecting to huggingface.co (huggingface.co)|13.33.30.49|:443... connected.\n",
            "HTTP request sent, awaiting response... 302 Found\n",
            "Location: https://cdn-lfs-us-1.huggingface.co/repos/ef/ec/efec059a080e7700b8069113b9d2863c3e63ba00a034ebbbf1531bffbbe021ab/9e556afd44213b6bd1be2b850ebbbd98f5481437a8021afaf58ee7fb1818d347?response-content-disposition=inline%3B+filename*%3DUTF-8%27%27tokenizer.model%3B+filename%3D%22tokenizer.model%22%3B&Expires=1718065715&Policy=eyJTdGF0ZW1lbnQiOlt7IkNvbmRpdGlvbiI6eyJEYXRlTGVzc1RoYW4iOnsiQVdTOkVwb2NoVGltZSI6MTcxODA2NTcxNX19LCJSZXNvdXJjZSI6Imh0dHBzOi8vY2RuLWxmcy11cy0xLmh1Z2dpbmdmYWNlLmNvL3JlcG9zL2VmL2VjL2VmZWMwNTlhMDgwZTc3MDBiODA2OTExM2I5ZDI4NjNjM2U2M2JhMDBhMDM0ZWJiYmYxNTMxYmZmYmJlMDIxYWIvOWU1NTZhZmQ0NDIxM2I2YmQxYmUyYjg1MGViYmJkOThmNTQ4MTQzN2E4MDIxYWZhZjU4ZWU3ZmIxODE4ZDM0Nz9yZXNwb25zZS1jb250ZW50LWRpc3Bvc2l0aW9uPSoifV19&Signature=LAvPqy1A%7EdUCoTcv2IfnIbUPI-sxI4xUg0fnGmriisSUsEYvteFyhJFS8S1AlrxVCMpaRoPgst8X4XlzfE9L7GYHCtOhZh91Tv%7EngLjReGviy%7ExMI%7EMXVEV86Gmon9sfqfmqVIzIGC7b296LhBp9Xrw6AEsVHnqtZmrUjgOPQaTCEIwhdXyleqg9kMmORFTtMl6j0B5ZOMqiVTEVUfm8TNjp42cF4y3PftuHk%7EQFB3wkqJmFsw4X3A2sfxd7ox5FEHeAnanoR-RbPYZkIyPi4D97VVv2m5o1ZP4Fen66zridB3CJeg4SI3RXMA5%7Ehv1SXLN1WtarJ8QjzydnpRSslA__&Key-Pair-Id=KCD77M1F0VK2B [following]\n",
            "--2024-06-08 00:28:35--  https://cdn-lfs-us-1.huggingface.co/repos/ef/ec/efec059a080e7700b8069113b9d2863c3e63ba00a034ebbbf1531bffbbe021ab/9e556afd44213b6bd1be2b850ebbbd98f5481437a8021afaf58ee7fb1818d347?response-content-disposition=inline%3B+filename*%3DUTF-8%27%27tokenizer.model%3B+filename%3D%22tokenizer.model%22%3B&Expires=1718065715&Policy=eyJTdGF0ZW1lbnQiOlt7IkNvbmRpdGlvbiI6eyJEYXRlTGVzc1RoYW4iOnsiQVdTOkVwb2NoVGltZSI6MTcxODA2NTcxNX19LCJSZXNvdXJjZSI6Imh0dHBzOi8vY2RuLWxmcy11cy0xLmh1Z2dpbmdmYWNlLmNvL3JlcG9zL2VmL2VjL2VmZWMwNTlhMDgwZTc3MDBiODA2OTExM2I5ZDI4NjNjM2U2M2JhMDBhMDM0ZWJiYmYxNTMxYmZmYmJlMDIxYWIvOWU1NTZhZmQ0NDIxM2I2YmQxYmUyYjg1MGViYmJkOThmNTQ4MTQzN2E4MDIxYWZhZjU4ZWU3ZmIxODE4ZDM0Nz9yZXNwb25zZS1jb250ZW50LWRpc3Bvc2l0aW9uPSoifV19&Signature=LAvPqy1A%7EdUCoTcv2IfnIbUPI-sxI4xUg0fnGmriisSUsEYvteFyhJFS8S1AlrxVCMpaRoPgst8X4XlzfE9L7GYHCtOhZh91Tv%7EngLjReGviy%7ExMI%7EMXVEV86Gmon9sfqfmqVIzIGC7b296LhBp9Xrw6AEsVHnqtZmrUjgOPQaTCEIwhdXyleqg9kMmORFTtMl6j0B5ZOMqiVTEVUfm8TNjp42cF4y3PftuHk%7EQFB3wkqJmFsw4X3A2sfxd7ox5FEHeAnanoR-RbPYZkIyPi4D97VVv2m5o1ZP4Fen66zridB3CJeg4SI3RXMA5%7Ehv1SXLN1WtarJ8QjzydnpRSslA__&Key-Pair-Id=KCD77M1F0VK2B\n",
            "Resolving cdn-lfs-us-1.huggingface.co (cdn-lfs-us-1.huggingface.co)... 3.165.102.25, 3.165.102.112, 3.165.102.95, ...\n",
            "Connecting to cdn-lfs-us-1.huggingface.co (cdn-lfs-us-1.huggingface.co)|3.165.102.25|:443... connected.\n",
            "HTTP request sent, awaiting response... 200 OK\n",
            "Length: 499723 (488K) [binary/octet-stream]\n",
            "Saving to: ‘tokenizer.model.12’\n",
            "\n",
            "tokenizer.model.12  100%[===================>] 488.01K  --.-KB/s    in 0.02s   \n",
            "\n",
            "2024-06-08 00:28:35 (29.7 MB/s) - ‘tokenizer.model.12’ saved [499723/499723]\n",
            "\n",
            "--2024-06-08 00:28:35--  https://huggingface.co/Pclanglais/Brahe-AWQ/resolve/main/tokenizer_config.json\n",
            "Resolving huggingface.co (huggingface.co)... 13.33.30.49, 13.33.30.23, 13.33.30.76, ...\n",
            "Connecting to huggingface.co (huggingface.co)|13.33.30.49|:443... connected.\n",
            "HTTP request sent, awaiting response... 200 OK\n",
            "Length: 933 [text/plain]\n",
            "Saving to: ‘tokenizer_config.json.12’\n",
            "\n",
            "tokenizer_config.js 100%[===================>]     933  --.-KB/s    in 0s      \n",
            "\n",
            "2024-06-08 00:28:35 (726 MB/s) - ‘tokenizer_config.json.12’ saved [933/933]\n",
            "\n"
          ]
        }
      ]
    },
    {
      "cell_type": "code",
      "source": [
        "%cd \"..\""
      ],
      "metadata": {
        "colab": {
          "base_uri": "https://localhost:8080/"
        },
        "id": "eiCcySVYKgKA",
        "outputId": "a66570ac-f4f6-45e8-c460-b84dd211e53c"
      },
      "execution_count": null,
      "outputs": [
        {
          "output_type": "stream",
          "name": "stdout",
          "text": [
            "/content/drive/MyDrive\n"
          ]
        }
      ]
    },
    {
      "cell_type": "markdown",
      "source": [
        "## Install the model"
      ],
      "metadata": {
        "id": "t4E77S_tpfPY"
      }
    },
    {
      "cell_type": "code",
      "source": [
        "!pip install vllm"
      ],
      "metadata": {
        "colab": {
          "base_uri": "https://localhost:8080/"
        },
        "id": "xDMEkeRPKkoM",
        "outputId": "d01fa689-875a-4d9e-abd5-40a012f41c7e"
      },
      "execution_count": null,
      "outputs": [
        {
          "output_type": "stream",
          "name": "stdout",
          "text": [
            "Collecting vllm\n",
            "  Downloading vllm-0.4.3-cp310-cp310-manylinux1_x86_64.whl (131.1 MB)\n",
            "\u001b[2K     \u001b[90m━━━━━━━━━━━━━━━━━━━━━━━━━━━━━━━━━━━━━━━━\u001b[0m \u001b[32m131.1/131.1 MB\u001b[0m \u001b[31m12.9 MB/s\u001b[0m eta \u001b[36m0:00:00\u001b[0m\n",
            "\u001b[?25hRequirement already satisfied: cmake>=3.21 in /usr/local/lib/python3.10/dist-packages (from vllm) (3.27.9)\n",
            "Collecting ninja (from vllm)\n",
            "  Downloading ninja-1.11.1.1-py2.py3-none-manylinux1_x86_64.manylinux_2_5_x86_64.whl (307 kB)\n",
            "\u001b[2K     \u001b[90m━━━━━━━━━━━━━━━━━━━━━━━━━━━━━━━━━━━━━━━━\u001b[0m \u001b[32m307.2/307.2 kB\u001b[0m \u001b[31m39.5 MB/s\u001b[0m eta \u001b[36m0:00:00\u001b[0m\n",
            "\u001b[?25hRequirement already satisfied: psutil in /usr/local/lib/python3.10/dist-packages (from vllm) (5.9.5)\n",
            "Requirement already satisfied: sentencepiece in /usr/local/lib/python3.10/dist-packages (from vllm) (0.1.99)\n",
            "Requirement already satisfied: numpy in /usr/local/lib/python3.10/dist-packages (from vllm) (1.25.2)\n",
            "Requirement already satisfied: requests in /usr/local/lib/python3.10/dist-packages (from vllm) (2.31.0)\n",
            "Requirement already satisfied: py-cpuinfo in /usr/local/lib/python3.10/dist-packages (from vllm) (9.0.0)\n",
            "Requirement already satisfied: transformers>=4.40.0 in /usr/local/lib/python3.10/dist-packages (from vllm) (4.41.2)\n",
            "Requirement already satisfied: tokenizers>=0.19.1 in /usr/local/lib/python3.10/dist-packages (from vllm) (0.19.1)\n",
            "Collecting fastapi (from vllm)\n",
            "  Downloading fastapi-0.111.0-py3-none-any.whl (91 kB)\n",
            "\u001b[2K     \u001b[90m━━━━━━━━━━━━━━━━━━━━━━━━━━━━━━━━━━━━━━━━\u001b[0m \u001b[32m92.0/92.0 kB\u001b[0m \u001b[31m16.3 MB/s\u001b[0m eta \u001b[36m0:00:00\u001b[0m\n",
            "\u001b[?25hRequirement already satisfied: aiohttp in /usr/local/lib/python3.10/dist-packages (from vllm) (3.9.5)\n",
            "Collecting openai (from vllm)\n",
            "  Downloading openai-1.33.0-py3-none-any.whl (325 kB)\n",
            "\u001b[2K     \u001b[90m━━━━━━━━━━━━━━━━━━━━━━━━━━━━━━━━━━━━━━━━\u001b[0m \u001b[32m325.5/325.5 kB\u001b[0m \u001b[31m38.5 MB/s\u001b[0m eta \u001b[36m0:00:00\u001b[0m\n",
            "\u001b[?25hCollecting uvicorn[standard] (from vllm)\n",
            "  Downloading uvicorn-0.30.1-py3-none-any.whl (62 kB)\n",
            "\u001b[2K     \u001b[90m━━━━━━━━━━━━━━━━━━━━━━━━━━━━━━━━━━━━━━━━\u001b[0m \u001b[32m62.4/62.4 kB\u001b[0m \u001b[31m11.5 MB/s\u001b[0m eta \u001b[36m0:00:00\u001b[0m\n",
            "\u001b[?25hRequirement already satisfied: pydantic>=2.0 in /usr/local/lib/python3.10/dist-packages (from vllm) (2.7.3)\n",
            "Requirement already satisfied: prometheus-client>=0.18.0 in /usr/local/lib/python3.10/dist-packages (from vllm) (0.20.0)\n",
            "Collecting prometheus-fastapi-instrumentator>=7.0.0 (from vllm)\n",
            "  Downloading prometheus_fastapi_instrumentator-7.0.0-py3-none-any.whl (19 kB)\n",
            "Collecting tiktoken>=0.6.0 (from vllm)\n",
            "  Downloading tiktoken-0.7.0-cp310-cp310-manylinux_2_17_x86_64.manylinux2014_x86_64.whl (1.1 MB)\n",
            "\u001b[2K     \u001b[90m━━━━━━━━━━━━━━━━━━━━━━━━━━━━━━━━━━━━━━━━\u001b[0m \u001b[32m1.1/1.1 MB\u001b[0m \u001b[31m69.8 MB/s\u001b[0m eta \u001b[36m0:00:00\u001b[0m\n",
            "\u001b[?25hCollecting lm-format-enforcer==0.10.1 (from vllm)\n",
            "  Downloading lm_format_enforcer-0.10.1-py3-none-any.whl (42 kB)\n",
            "\u001b[2K     \u001b[90m━━━━━━━━━━━━━━━━━━━━━━━━━━━━━━━━━━━━━━━━\u001b[0m \u001b[32m42.9/42.9 kB\u001b[0m \u001b[31m7.0 MB/s\u001b[0m eta \u001b[36m0:00:00\u001b[0m\n",
            "\u001b[?25hCollecting outlines==0.0.34 (from vllm)\n",
            "  Downloading outlines-0.0.34-py3-none-any.whl (76 kB)\n",
            "\u001b[2K     \u001b[90m━━━━━━━━━━━━━━━━━━━━━━━━━━━━━━━━━━━━━━━━\u001b[0m \u001b[32m76.5/76.5 kB\u001b[0m \u001b[31m13.8 MB/s\u001b[0m eta \u001b[36m0:00:00\u001b[0m\n",
            "\u001b[?25hRequirement already satisfied: typing-extensions in /usr/local/lib/python3.10/dist-packages (from vllm) (4.12.1)\n",
            "Requirement already satisfied: filelock>=3.10.4 in /usr/local/lib/python3.10/dist-packages (from vllm) (3.14.0)\n",
            "Collecting ray>=2.9 (from vllm)\n",
            "  Downloading ray-2.24.0-cp310-cp310-manylinux2014_x86_64.whl (65.9 MB)\n",
            "\u001b[2K     \u001b[90m━━━━━━━━━━━━━━━━━━━━━━━━━━━━━━━━━━━━━━━━\u001b[0m \u001b[32m65.9/65.9 MB\u001b[0m \u001b[31m25.3 MB/s\u001b[0m eta \u001b[36m0:00:00\u001b[0m\n",
            "\u001b[?25hCollecting nvidia-ml-py (from vllm)\n",
            "  Downloading nvidia_ml_py-12.555.43-py3-none-any.whl (39 kB)\n",
            "Requirement already satisfied: torch==2.3.0 in /usr/local/lib/python3.10/dist-packages (from vllm) (2.3.0+cu121)\n",
            "Collecting xformers==0.0.26.post1 (from vllm)\n",
            "  Downloading xformers-0.0.26.post1-cp310-cp310-manylinux2014_x86_64.whl (222.7 MB)\n",
            "\u001b[2K     \u001b[90m━━━━━━━━━━━━━━━━━━━━━━━━━━━━━━━━━━━━━━━━\u001b[0m \u001b[32m222.7/222.7 MB\u001b[0m \u001b[31m3.6 MB/s\u001b[0m eta \u001b[36m0:00:00\u001b[0m\n",
            "\u001b[?25hCollecting vllm-flash-attn==2.5.8.post2 (from vllm)\n",
            "  Downloading vllm_flash_attn-2.5.8.post2-cp310-cp310-manylinux1_x86_64.whl (37.1 MB)\n",
            "\u001b[2K     \u001b[90m━━━━━━━━━━━━━━━━━━━━━━━━━━━━━━━━━━━━━━━━\u001b[0m \u001b[32m37.1/37.1 MB\u001b[0m \u001b[31m48.3 MB/s\u001b[0m eta \u001b[36m0:00:00\u001b[0m\n",
            "\u001b[?25hCollecting interegular>=0.3.2 (from lm-format-enforcer==0.10.1->vllm)\n",
            "  Downloading interegular-0.3.3-py37-none-any.whl (23 kB)\n",
            "Requirement already satisfied: packaging in /usr/local/lib/python3.10/dist-packages (from lm-format-enforcer==0.10.1->vllm) (24.0)\n",
            "Requirement already satisfied: pyyaml in /usr/local/lib/python3.10/dist-packages (from lm-format-enforcer==0.10.1->vllm) (6.0.1)\n",
            "Requirement already satisfied: jinja2 in /usr/local/lib/python3.10/dist-packages (from outlines==0.0.34->vllm) (3.1.4)\n",
            "Collecting lark (from outlines==0.0.34->vllm)\n",
            "  Downloading lark-1.1.9-py3-none-any.whl (111 kB)\n",
            "\u001b[2K     \u001b[90m━━━━━━━━━━━━━━━━━━━━━━━━━━━━━━━━━━━━━━━━\u001b[0m \u001b[32m111.7/111.7 kB\u001b[0m \u001b[31m19.8 MB/s\u001b[0m eta \u001b[36m0:00:00\u001b[0m\n",
            "\u001b[?25hRequirement already satisfied: nest-asyncio in /usr/local/lib/python3.10/dist-packages (from outlines==0.0.34->vllm) (1.6.0)\n",
            "Requirement already satisfied: cloudpickle in /usr/local/lib/python3.10/dist-packages (from outlines==0.0.34->vllm) (2.2.1)\n",
            "Collecting diskcache (from outlines==0.0.34->vllm)\n",
            "  Downloading diskcache-5.6.3-py3-none-any.whl (45 kB)\n",
            "\u001b[2K     \u001b[90m━━━━━━━━━━━━━━━━━━━━━━━━━━━━━━━━━━━━━━━━\u001b[0m \u001b[32m45.5/45.5 kB\u001b[0m \u001b[31m8.2 MB/s\u001b[0m eta \u001b[36m0:00:00\u001b[0m\n",
            "\u001b[?25hRequirement already satisfied: scipy in /usr/local/lib/python3.10/dist-packages (from outlines==0.0.34->vllm) (1.11.4)\n",
            "Requirement already satisfied: numba in /usr/local/lib/python3.10/dist-packages (from outlines==0.0.34->vllm) (0.58.1)\n",
            "Requirement already satisfied: joblib in /usr/local/lib/python3.10/dist-packages (from outlines==0.0.34->vllm) (1.4.2)\n",
            "Requirement already satisfied: referencing in /usr/local/lib/python3.10/dist-packages (from outlines==0.0.34->vllm) (0.35.1)\n",
            "Requirement already satisfied: jsonschema in /usr/local/lib/python3.10/dist-packages (from outlines==0.0.34->vllm) (4.19.2)\n",
            "Requirement already satisfied: sympy in /usr/local/lib/python3.10/dist-packages (from torch==2.3.0->vllm) (1.12.1)\n",
            "Requirement already satisfied: networkx in /usr/local/lib/python3.10/dist-packages (from torch==2.3.0->vllm) (3.3)\n",
            "Requirement already satisfied: fsspec in /usr/local/lib/python3.10/dist-packages (from torch==2.3.0->vllm) (2023.6.0)\n",
            "Collecting nvidia-cuda-nvrtc-cu12==12.1.105 (from torch==2.3.0->vllm)\n",
            "  Using cached nvidia_cuda_nvrtc_cu12-12.1.105-py3-none-manylinux1_x86_64.whl (23.7 MB)\n",
            "Collecting nvidia-cuda-runtime-cu12==12.1.105 (from torch==2.3.0->vllm)\n",
            "  Using cached nvidia_cuda_runtime_cu12-12.1.105-py3-none-manylinux1_x86_64.whl (823 kB)\n",
            "Collecting nvidia-cuda-cupti-cu12==12.1.105 (from torch==2.3.0->vllm)\n",
            "  Using cached nvidia_cuda_cupti_cu12-12.1.105-py3-none-manylinux1_x86_64.whl (14.1 MB)\n",
            "Collecting nvidia-cudnn-cu12==8.9.2.26 (from torch==2.3.0->vllm)\n",
            "  Using cached nvidia_cudnn_cu12-8.9.2.26-py3-none-manylinux1_x86_64.whl (731.7 MB)\n",
            "Collecting nvidia-cublas-cu12==12.1.3.1 (from torch==2.3.0->vllm)\n",
            "  Using cached nvidia_cublas_cu12-12.1.3.1-py3-none-manylinux1_x86_64.whl (410.6 MB)\n",
            "Collecting nvidia-cufft-cu12==11.0.2.54 (from torch==2.3.0->vllm)\n",
            "  Using cached nvidia_cufft_cu12-11.0.2.54-py3-none-manylinux1_x86_64.whl (121.6 MB)\n",
            "Collecting nvidia-curand-cu12==10.3.2.106 (from torch==2.3.0->vllm)\n",
            "  Using cached nvidia_curand_cu12-10.3.2.106-py3-none-manylinux1_x86_64.whl (56.5 MB)\n",
            "Collecting nvidia-cusolver-cu12==11.4.5.107 (from torch==2.3.0->vllm)\n",
            "  Using cached nvidia_cusolver_cu12-11.4.5.107-py3-none-manylinux1_x86_64.whl (124.2 MB)\n",
            "Collecting nvidia-cusparse-cu12==12.1.0.106 (from torch==2.3.0->vllm)\n",
            "  Using cached nvidia_cusparse_cu12-12.1.0.106-py3-none-manylinux1_x86_64.whl (196.0 MB)\n",
            "Collecting nvidia-nccl-cu12==2.20.5 (from torch==2.3.0->vllm)\n",
            "  Using cached nvidia_nccl_cu12-2.20.5-py3-none-manylinux2014_x86_64.whl (176.2 MB)\n",
            "Collecting nvidia-nvtx-cu12==12.1.105 (from torch==2.3.0->vllm)\n",
            "  Using cached nvidia_nvtx_cu12-12.1.105-py3-none-manylinux1_x86_64.whl (99 kB)\n",
            "Requirement already satisfied: triton==2.3.0 in /usr/local/lib/python3.10/dist-packages (from torch==2.3.0->vllm) (2.3.0)\n",
            "Collecting nvidia-nvjitlink-cu12 (from nvidia-cusolver-cu12==11.4.5.107->torch==2.3.0->vllm)\n",
            "  Downloading nvidia_nvjitlink_cu12-12.5.40-py3-none-manylinux2014_x86_64.whl (21.3 MB)\n",
            "\u001b[2K     \u001b[90m━━━━━━━━━━━━━━━━━━━━━━━━━━━━━━━━━━━━━━━━\u001b[0m \u001b[32m21.3/21.3 MB\u001b[0m \u001b[31m74.4 MB/s\u001b[0m eta \u001b[36m0:00:00\u001b[0m\n",
            "\u001b[?25hCollecting starlette<1.0.0,>=0.30.0 (from prometheus-fastapi-instrumentator>=7.0.0->vllm)\n",
            "  Downloading starlette-0.37.2-py3-none-any.whl (71 kB)\n",
            "\u001b[2K     \u001b[90m━━━━━━━━━━━━━━━━━━━━━━━━━━━━━━━━━━━━━━━━\u001b[0m \u001b[32m71.9/71.9 kB\u001b[0m \u001b[31m11.6 MB/s\u001b[0m eta \u001b[36m0:00:00\u001b[0m\n",
            "\u001b[?25hRequirement already satisfied: annotated-types>=0.4.0 in /usr/local/lib/python3.10/dist-packages (from pydantic>=2.0->vllm) (0.7.0)\n",
            "Requirement already satisfied: pydantic-core==2.18.4 in /usr/local/lib/python3.10/dist-packages (from pydantic>=2.0->vllm) (2.18.4)\n",
            "Requirement already satisfied: click>=7.0 in /usr/local/lib/python3.10/dist-packages (from ray>=2.9->vllm) (8.1.7)\n",
            "Requirement already satisfied: msgpack<2.0.0,>=1.0.0 in /usr/local/lib/python3.10/dist-packages (from ray>=2.9->vllm) (1.0.8)\n",
            "Requirement already satisfied: protobuf!=3.19.5,>=3.15.3 in /usr/local/lib/python3.10/dist-packages (from ray>=2.9->vllm) (3.20.3)\n",
            "Requirement already satisfied: aiosignal in /usr/local/lib/python3.10/dist-packages (from ray>=2.9->vllm) (1.3.1)\n",
            "Requirement already satisfied: frozenlist in /usr/local/lib/python3.10/dist-packages (from ray>=2.9->vllm) (1.4.1)\n",
            "Requirement already satisfied: regex>=2022.1.18 in /usr/local/lib/python3.10/dist-packages (from tiktoken>=0.6.0->vllm) (2024.5.15)\n",
            "Requirement already satisfied: charset-normalizer<4,>=2 in /usr/local/lib/python3.10/dist-packages (from requests->vllm) (3.3.2)\n",
            "Requirement already satisfied: idna<4,>=2.5 in /usr/local/lib/python3.10/dist-packages (from requests->vllm) (3.7)\n",
            "Requirement already satisfied: urllib3<3,>=1.21.1 in /usr/local/lib/python3.10/dist-packages (from requests->vllm) (2.0.7)\n",
            "Requirement already satisfied: certifi>=2017.4.17 in /usr/local/lib/python3.10/dist-packages (from requests->vllm) (2024.6.2)\n",
            "Requirement already satisfied: huggingface-hub<1.0,>=0.16.4 in /usr/local/lib/python3.10/dist-packages (from tokenizers>=0.19.1->vllm) (0.23.2)\n",
            "Requirement already satisfied: safetensors>=0.4.1 in /usr/local/lib/python3.10/dist-packages (from transformers>=4.40.0->vllm) (0.4.3)\n",
            "Requirement already satisfied: tqdm>=4.27 in /usr/local/lib/python3.10/dist-packages (from transformers>=4.40.0->vllm) (4.66.4)\n",
            "Requirement already satisfied: attrs>=17.3.0 in /usr/local/lib/python3.10/dist-packages (from aiohttp->vllm) (23.2.0)\n",
            "Requirement already satisfied: multidict<7.0,>=4.5 in /usr/local/lib/python3.10/dist-packages (from aiohttp->vllm) (6.0.5)\n",
            "Requirement already satisfied: yarl<2.0,>=1.0 in /usr/local/lib/python3.10/dist-packages (from aiohttp->vllm) (1.9.4)\n",
            "Requirement already satisfied: async-timeout<5.0,>=4.0 in /usr/local/lib/python3.10/dist-packages (from aiohttp->vllm) (4.0.3)\n",
            "Collecting fastapi-cli>=0.0.2 (from fastapi->vllm)\n",
            "  Downloading fastapi_cli-0.0.4-py3-none-any.whl (9.5 kB)\n",
            "Collecting httpx>=0.23.0 (from fastapi->vllm)\n",
            "  Downloading httpx-0.27.0-py3-none-any.whl (75 kB)\n",
            "\u001b[2K     \u001b[90m━━━━━━━━━━━━━━━━━━━━━━━━━━━━━━━━━━━━━━━━\u001b[0m \u001b[32m75.6/75.6 kB\u001b[0m \u001b[31m13.1 MB/s\u001b[0m eta \u001b[36m0:00:00\u001b[0m\n",
            "\u001b[?25hCollecting python-multipart>=0.0.7 (from fastapi->vllm)\n",
            "  Downloading python_multipart-0.0.9-py3-none-any.whl (22 kB)\n",
            "Collecting ujson!=4.0.2,!=4.1.0,!=4.2.0,!=4.3.0,!=5.0.0,!=5.1.0,>=4.0.1 (from fastapi->vllm)\n",
            "  Downloading ujson-5.10.0-cp310-cp310-manylinux_2_17_x86_64.manylinux2014_x86_64.whl (53 kB)\n",
            "\u001b[2K     \u001b[90m━━━━━━━━━━━━━━━━━━━━━━━━━━━━━━━━━━━━━━━━\u001b[0m \u001b[32m53.6/53.6 kB\u001b[0m \u001b[31m8.7 MB/s\u001b[0m eta \u001b[36m0:00:00\u001b[0m\n",
            "\u001b[?25hCollecting orjson>=3.2.1 (from fastapi->vllm)\n",
            "  Downloading orjson-3.10.3-cp310-cp310-manylinux_2_17_x86_64.manylinux2014_x86_64.whl (142 kB)\n",
            "\u001b[2K     \u001b[90m━━━━━━━━━━━━━━━━━━━━━━━━━━━━━━━━━━━━━━━━\u001b[0m \u001b[32m142.5/142.5 kB\u001b[0m \u001b[31m23.4 MB/s\u001b[0m eta \u001b[36m0:00:00\u001b[0m\n",
            "\u001b[?25hCollecting email_validator>=2.0.0 (from fastapi->vllm)\n",
            "  Downloading email_validator-2.1.1-py3-none-any.whl (30 kB)\n",
            "Collecting h11>=0.8 (from uvicorn[standard]->vllm)\n",
            "  Downloading h11-0.14.0-py3-none-any.whl (58 kB)\n",
            "\u001b[2K     \u001b[90m━━━━━━━━━━━━━━━━━━━━━━━━━━━━━━━━━━━━━━━━\u001b[0m \u001b[32m58.3/58.3 kB\u001b[0m \u001b[31m11.0 MB/s\u001b[0m eta \u001b[36m0:00:00\u001b[0m\n",
            "\u001b[?25hCollecting httptools>=0.5.0 (from uvicorn[standard]->vllm)\n",
            "  Downloading httptools-0.6.1-cp310-cp310-manylinux_2_5_x86_64.manylinux1_x86_64.manylinux_2_17_x86_64.manylinux2014_x86_64.whl (341 kB)\n",
            "\u001b[2K     \u001b[90m━━━━━━━━━━━━━━━━━━━━━━━━━━━━━━━━━━━━━━━━\u001b[0m \u001b[32m341.4/341.4 kB\u001b[0m \u001b[31m45.7 MB/s\u001b[0m eta \u001b[36m0:00:00\u001b[0m\n",
            "\u001b[?25hCollecting python-dotenv>=0.13 (from uvicorn[standard]->vllm)\n",
            "  Downloading python_dotenv-1.0.1-py3-none-any.whl (19 kB)\n",
            "Collecting uvloop!=0.15.0,!=0.15.1,>=0.14.0 (from uvicorn[standard]->vllm)\n",
            "  Downloading uvloop-0.19.0-cp310-cp310-manylinux_2_17_x86_64.manylinux2014_x86_64.whl (3.4 MB)\n",
            "\u001b[2K     \u001b[90m━━━━━━━━━━━━━━━━━━━━━━━━━━━━━━━━━━━━━━━━\u001b[0m \u001b[32m3.4/3.4 MB\u001b[0m \u001b[31m107.5 MB/s\u001b[0m eta \u001b[36m0:00:00\u001b[0m\n",
            "\u001b[?25hCollecting watchfiles>=0.13 (from uvicorn[standard]->vllm)\n",
            "  Downloading watchfiles-0.22.0-cp310-cp310-manylinux_2_17_x86_64.manylinux2014_x86_64.whl (1.2 MB)\n",
            "\u001b[2K     \u001b[90m━━━━━━━━━━━━━━━━━━━━━━━━━━━━━━━━━━━━━━━━\u001b[0m \u001b[32m1.2/1.2 MB\u001b[0m \u001b[31m85.0 MB/s\u001b[0m eta \u001b[36m0:00:00\u001b[0m\n",
            "\u001b[?25hCollecting websockets>=10.4 (from uvicorn[standard]->vllm)\n",
            "  Downloading websockets-12.0-cp310-cp310-manylinux_2_5_x86_64.manylinux1_x86_64.manylinux_2_17_x86_64.manylinux2014_x86_64.whl (130 kB)\n",
            "\u001b[2K     \u001b[90m━━━━━━━━━━━━━━━━━━━━━━━━━━━━━━━━━━━━━━━━\u001b[0m \u001b[32m130.2/130.2 kB\u001b[0m \u001b[31m21.7 MB/s\u001b[0m eta \u001b[36m0:00:00\u001b[0m\n",
            "\u001b[?25hRequirement already satisfied: anyio<5,>=3.5.0 in /usr/local/lib/python3.10/dist-packages (from openai->vllm) (3.7.1)\n",
            "Requirement already satisfied: distro<2,>=1.7.0 in /usr/lib/python3/dist-packages (from openai->vllm) (1.7.0)\n",
            "Requirement already satisfied: sniffio in /usr/local/lib/python3.10/dist-packages (from openai->vllm) (1.3.1)\n",
            "Requirement already satisfied: exceptiongroup in /usr/local/lib/python3.10/dist-packages (from anyio<5,>=3.5.0->openai->vllm) (1.2.1)\n",
            "Collecting dnspython>=2.0.0 (from email_validator>=2.0.0->fastapi->vllm)\n",
            "  Downloading dnspython-2.6.1-py3-none-any.whl (307 kB)\n",
            "\u001b[2K     \u001b[90m━━━━━━━━━━━━━━━━━━━━━━━━━━━━━━━━━━━━━━━━\u001b[0m \u001b[32m307.7/307.7 kB\u001b[0m \u001b[31m39.7 MB/s\u001b[0m eta \u001b[36m0:00:00\u001b[0m\n",
            "\u001b[?25hCollecting typer>=0.12.3 (from fastapi-cli>=0.0.2->fastapi->vllm)\n",
            "  Downloading typer-0.12.3-py3-none-any.whl (47 kB)\n",
            "\u001b[2K     \u001b[90m━━━━━━━━━━━━━━━━━━━━━━━━━━━━━━━━━━━━━━━━\u001b[0m \u001b[32m47.2/47.2 kB\u001b[0m \u001b[31m8.5 MB/s\u001b[0m eta \u001b[36m0:00:00\u001b[0m\n",
            "\u001b[?25hCollecting httpcore==1.* (from httpx>=0.23.0->fastapi->vllm)\n",
            "  Downloading httpcore-1.0.5-py3-none-any.whl (77 kB)\n",
            "\u001b[2K     \u001b[90m━━━━━━━━━━━━━━━━━━━━━━━━━━━━━━━━━━━━━━━━\u001b[0m \u001b[32m77.9/77.9 kB\u001b[0m \u001b[31m14.9 MB/s\u001b[0m eta \u001b[36m0:00:00\u001b[0m\n",
            "\u001b[?25hRequirement already satisfied: MarkupSafe>=2.0 in /usr/local/lib/python3.10/dist-packages (from jinja2->outlines==0.0.34->vllm) (2.1.5)\n",
            "Requirement already satisfied: jsonschema-specifications>=2023.03.6 in /usr/local/lib/python3.10/dist-packages (from jsonschema->outlines==0.0.34->vllm) (2023.12.1)\n",
            "Requirement already satisfied: rpds-py>=0.7.1 in /usr/local/lib/python3.10/dist-packages (from jsonschema->outlines==0.0.34->vllm) (0.18.1)\n",
            "Requirement already satisfied: llvmlite<0.42,>=0.41.0dev0 in /usr/local/lib/python3.10/dist-packages (from numba->outlines==0.0.34->vllm) (0.41.1)\n",
            "Requirement already satisfied: mpmath<1.4.0,>=1.1.0 in /usr/local/lib/python3.10/dist-packages (from sympy->torch==2.3.0->vllm) (1.3.0)\n",
            "Collecting shellingham>=1.3.0 (from typer>=0.12.3->fastapi-cli>=0.0.2->fastapi->vllm)\n",
            "  Downloading shellingham-1.5.4-py2.py3-none-any.whl (9.8 kB)\n",
            "Requirement already satisfied: rich>=10.11.0 in /usr/local/lib/python3.10/dist-packages (from typer>=0.12.3->fastapi-cli>=0.0.2->fastapi->vllm) (13.7.1)\n",
            "Requirement already satisfied: markdown-it-py>=2.2.0 in /usr/local/lib/python3.10/dist-packages (from rich>=10.11.0->typer>=0.12.3->fastapi-cli>=0.0.2->fastapi->vllm) (3.0.0)\n",
            "Requirement already satisfied: pygments<3.0.0,>=2.13.0 in /usr/local/lib/python3.10/dist-packages (from rich>=10.11.0->typer>=0.12.3->fastapi-cli>=0.0.2->fastapi->vllm) (2.16.1)\n",
            "Requirement already satisfied: mdurl~=0.1 in /usr/local/lib/python3.10/dist-packages (from markdown-it-py>=2.2.0->rich>=10.11.0->typer>=0.12.3->fastapi-cli>=0.0.2->fastapi->vllm) (0.1.2)\n",
            "Installing collected packages: nvidia-ml-py, ninja, websockets, uvloop, ujson, shellingham, python-multipart, python-dotenv, orjson, nvidia-nvtx-cu12, nvidia-nvjitlink-cu12, nvidia-nccl-cu12, nvidia-curand-cu12, nvidia-cufft-cu12, nvidia-cuda-runtime-cu12, nvidia-cuda-nvrtc-cu12, nvidia-cuda-cupti-cu12, nvidia-cublas-cu12, lark, interegular, httptools, h11, dnspython, diskcache, watchfiles, uvicorn, tiktoken, starlette, nvidia-cusparse-cu12, nvidia-cudnn-cu12, httpcore, email_validator, typer, prometheus-fastapi-instrumentator, nvidia-cusolver-cu12, lm-format-enforcer, httpx, ray, openai, fastapi-cli, xformers, vllm-flash-attn, outlines, fastapi, vllm\n",
            "  Attempting uninstall: typer\n",
            "    Found existing installation: typer 0.9.4\n",
            "    Uninstalling typer-0.9.4:\n",
            "      Successfully uninstalled typer-0.9.4\n",
            "\u001b[31mERROR: pip's dependency resolver does not currently take into account all the packages that are installed. This behaviour is the source of the following dependency conflicts.\n",
            "spacy 3.7.4 requires typer<0.10.0,>=0.3.0, but you have typer 0.12.3 which is incompatible.\n",
            "weasel 0.3.4 requires typer<0.10.0,>=0.3.0, but you have typer 0.12.3 which is incompatible.\u001b[0m\u001b[31m\n",
            "\u001b[0mSuccessfully installed diskcache-5.6.3 dnspython-2.6.1 email_validator-2.1.1 fastapi-0.111.0 fastapi-cli-0.0.4 h11-0.14.0 httpcore-1.0.5 httptools-0.6.1 httpx-0.27.0 interegular-0.3.3 lark-1.1.9 lm-format-enforcer-0.10.1 ninja-1.11.1.1 nvidia-cublas-cu12-12.1.3.1 nvidia-cuda-cupti-cu12-12.1.105 nvidia-cuda-nvrtc-cu12-12.1.105 nvidia-cuda-runtime-cu12-12.1.105 nvidia-cudnn-cu12-8.9.2.26 nvidia-cufft-cu12-11.0.2.54 nvidia-curand-cu12-10.3.2.106 nvidia-cusolver-cu12-11.4.5.107 nvidia-cusparse-cu12-12.1.0.106 nvidia-ml-py-12.555.43 nvidia-nccl-cu12-2.20.5 nvidia-nvjitlink-cu12-12.5.40 nvidia-nvtx-cu12-12.1.105 openai-1.33.0 orjson-3.10.3 outlines-0.0.34 prometheus-fastapi-instrumentator-7.0.0 python-dotenv-1.0.1 python-multipart-0.0.9 ray-2.24.0 shellingham-1.5.4 starlette-0.37.2 tiktoken-0.7.0 typer-0.12.3 ujson-5.10.0 uvicorn-0.30.1 uvloop-0.19.0 vllm-0.4.3 vllm-flash-attn-2.5.8.post2 watchfiles-0.22.0 websockets-12.0 xformers-0.0.26.post1\n"
          ]
        }
      ]
    },
    {
      "cell_type": "code",
      "source": [
        "from vllm import LLM, SamplingParams\n",
        "import os"
      ],
      "metadata": {
        "id": "cxJHW7XZLKWB"
      },
      "execution_count": null,
      "outputs": []
    },
    {
      "cell_type": "code",
      "source": [
        "def prepare_fabrique_prompt(text):\n",
        "  prompt = \"Text:\\n\" + str(text) +\"\\n\\n\\nAnalysis:\\n\"\n",
        "  return prompt"
      ],
      "metadata": {
        "id": "RmdoudjzLOFW"
      },
      "execution_count": null,
      "outputs": []
    },
    {
      "cell_type": "code",
      "source": [
        "output_merged_dir=\"Pclanglais/Brahe-AWQ\"\n",
        "llm = LLM(output_merged_dir, quantization = 'awq')"
      ],
      "metadata": {
        "colab": {
          "base_uri": "https://localhost:8080/",
          "height": 549,
          "referenced_widgets": [
            "86291c625a6945fdada9abfca5a7d707",
            "f899196eb74c4bd68a81b4d8edfa26b5",
            "9f28c751f6e3475089cb9997c8c3c9c2",
            "c1d6a75b12d04ac7af0c1eb59d0d7d1a",
            "bd116c26964b43649879503e8e8441fe",
            "e3cf8c3fecfd448b9e4289a4b2489b32",
            "1604fb2b3fb54e5b869598ba0d8b2adf",
            "b819ff87017c43b2820bb5ee0ab2cf55",
            "4dadd1f3a576441198d073136e8e19b0",
            "42f969894a954412a2bed57833a24587",
            "10eec9d954814277ac533f29b5f48b11",
            "36edf8b186654cbf8c561c94a817f32a",
            "8702f1311898495899a6a00a2566b0e9",
            "578e53bd4528450f8fc05789f5590549",
            "7d40aee227c3480a9c07f4b2edbf0a75",
            "3d36062a81b0409b871304d21ed3053d",
            "ed8517557bf441a5b393c4817c00b8e9",
            "64e608d5724247d581f9203cb20dfdbf",
            "5d9cfc64d9d848b1a70028202328a896",
            "7291a92e182943bcb943e8bf3d4aed2d",
            "b335c1be60ae4303b3e669c85b327044",
            "43d4b7fa4217401ab03c88df2f4f7a61",
            "34fbbdd137a74886b32aee849378f0d6",
            "7521fc50a8ff440cafb5878640601752",
            "b760d3189b0d4b1380971c664e721bd0",
            "2043818125734f0db99daf5e8ca97115",
            "c1e12086f32149d5be35c8d470da8f56",
            "fc1aaa70c1404c4c90d4d3ef5902196e",
            "6341a9a4fecb4fa4af3d078386642dd8",
            "61ea4a19413441e7a55d9208c7900e35",
            "e187533eefae4ae2805a5b404431efc4",
            "5f0d4b68b4414c1d921094913b21fd68",
            "245ad54654224db590ac83e7d5eb9488",
            "bb6e35b4b2f14d74b63fed4c6d8cc82d",
            "e1429391d1a847febd07c41083861114",
            "7d6a7c3f2a824394900ad3f237773eb3",
            "b160a6532fd84121ba2e388ad0f3bdcf",
            "fe5a35a6f6454b10a2cfacc0ce7f44e7",
            "82a48a46acff40a9b18d4e09a74688ef",
            "dc587697cde74137b8a317de861747c1",
            "c3b548a3b9fe418cbb5251c0605b8082",
            "7a9b61903ad3488a82149df52a9f7445",
            "0e7702dcd773435492a8c7215119d906",
            "d2656f00140c4c02a1ffb846eece3a59",
            "db7519d1398e4533a1341a8679dabdbc",
            "002a4cd530d249ba9a6efe21ec33db52",
            "18915784b0d54b1d806535a0765b0736",
            "5ac960bcfc974e5aa6139977f130a830",
            "6e4558c719cb4a809b0fc646eb0a711d",
            "17e9b8f48863496cbbb1f8d0c99e514d",
            "60c517273411444b864252e5f19d131d",
            "70e3317ae89042948196d8ccd3d59a62",
            "a8319167e0b644a1bc214d54ee07bfc1",
            "36facbec7120463e998d5d496ae96fa4",
            "638d8c70fb034e468359307651c069dd",
            "dcf4254abe6948388de7520cb233a08e",
            "c66cfe1d6923459fbfc4dc2ba0af9b0e",
            "f811594d24bc41308fcfa2413f3419cc",
            "9d974f456f5f45a698286c53ee70ead0",
            "28a22d71c3c44fdf945642bda232d005",
            "281355d84fc94c0c8bd69776d4ca864e",
            "77969608a4404441a2800c7b699129be",
            "2019e4f7570c46a6a48d0837c01115d8",
            "4d49b58025eb4e82b547f9a7b0fa1323",
            "c758a71985cf487a81afccc24254a21f",
            "336e2ff7a0e141b0b1cfa76ab52e53ac",
            "d35546d7e933485d8f912ecb84d7926e",
            "19e02ce9fb0f41a38d59bf3986c788b4",
            "a0362aa8811640ed93a9092524ed486e",
            "3de25bdf4ecd4461bc6390cbf447bdcc",
            "b977ce5b4b8c42488c88ac165955ab45",
            "135ecb037bc04c628d53f75b621dfbbb",
            "7e015e1a107e407383ff516cb172dcf8",
            "aadd906fe3d649ccace847d88d43aaf9",
            "92f24854c35a447e9749b92d5d2b8b00",
            "c36f85d8990e4bf59365ebfa71d4eb00",
            "d5ab1b0a7a164d78a4f852eb72ef2e7c"
          ]
        },
        "id": "unJzhHByLRCv",
        "outputId": "7e424e18-2502-43ab-ab88-f249c1dacde9"
      },
      "execution_count": null,
      "outputs": [
        {
          "output_type": "stream",
          "name": "stderr",
          "text": [
            "/usr/local/lib/python3.10/dist-packages/huggingface_hub/file_download.py:1132: FutureWarning: `resume_download` is deprecated and will be removed in version 1.0.0. Downloads always resume when possible. If you want to force a new download, use `force_download=True`.\n",
            "  warnings.warn(\n",
            "/usr/local/lib/python3.10/dist-packages/huggingface_hub/utils/_token.py:89: UserWarning: \n",
            "The secret `HF_TOKEN` does not exist in your Colab secrets.\n",
            "To authenticate with the Hugging Face Hub, create a token in your settings tab (https://huggingface.co/settings/tokens), set it as secret in your Google Colab and restart your session.\n",
            "You will be able to reuse this secret in all of your notebooks.\n",
            "Please note that authentication is recommended but still optional to access public models or datasets.\n",
            "  warnings.warn(\n"
          ]
        },
        {
          "output_type": "display_data",
          "data": {
            "text/plain": [
              "config.json:   0%|          | 0.00/801 [00:00<?, ?B/s]"
            ],
            "application/vnd.jupyter.widget-view+json": {
              "version_major": 2,
              "version_minor": 0,
              "model_id": "86291c625a6945fdada9abfca5a7d707"
            }
          },
          "metadata": {}
        },
        {
          "output_type": "stream",
          "name": "stdout",
          "text": [
            "WARNING 06-08 00:37:54 config.py:213] awq quantization is not fully optimized yet. The speed can be slower than non-quantized models.\n",
            "INFO 06-08 00:37:54 llm_engine.py:161] Initializing an LLM engine (v0.4.3) with config: model='Pclanglais/Brahe-AWQ', speculative_config=None, tokenizer='Pclanglais/Brahe-AWQ', skip_tokenizer_init=False, tokenizer_mode=auto, revision=None, rope_scaling=None, tokenizer_revision=None, trust_remote_code=False, dtype=torch.float16, max_seq_len=4096, download_dir=None, load_format=LoadFormat.AUTO, tensor_parallel_size=1, disable_custom_all_reduce=False, quantization=awq, enforce_eager=False, kv_cache_dtype=auto, quantization_param_path=None, device_config=cuda, decoding_config=DecodingConfig(guided_decoding_backend='outlines'), seed=0, served_model_name=Pclanglais/Brahe-AWQ)\n"
          ]
        },
        {
          "output_type": "display_data",
          "data": {
            "text/plain": [
              "tokenizer_config.json:   0%|          | 0.00/933 [00:00<?, ?B/s]"
            ],
            "application/vnd.jupyter.widget-view+json": {
              "version_major": 2,
              "version_minor": 0,
              "model_id": "36edf8b186654cbf8c561c94a817f32a"
            }
          },
          "metadata": {}
        },
        {
          "output_type": "display_data",
          "data": {
            "text/plain": [
              "tokenizer.model:   0%|          | 0.00/500k [00:00<?, ?B/s]"
            ],
            "application/vnd.jupyter.widget-view+json": {
              "version_major": 2,
              "version_minor": 0,
              "model_id": "34fbbdd137a74886b32aee849378f0d6"
            }
          },
          "metadata": {}
        },
        {
          "output_type": "display_data",
          "data": {
            "text/plain": [
              "tokenizer.json:   0%|          | 0.00/1.84M [00:00<?, ?B/s]"
            ],
            "application/vnd.jupyter.widget-view+json": {
              "version_major": 2,
              "version_minor": 0,
              "model_id": "bb6e35b4b2f14d74b63fed4c6d8cc82d"
            }
          },
          "metadata": {}
        },
        {
          "output_type": "display_data",
          "data": {
            "text/plain": [
              "special_tokens_map.json:   0%|          | 0.00/549 [00:00<?, ?B/s]"
            ],
            "application/vnd.jupyter.widget-view+json": {
              "version_major": 2,
              "version_minor": 0,
              "model_id": "db7519d1398e4533a1341a8679dabdbc"
            }
          },
          "metadata": {}
        },
        {
          "output_type": "display_data",
          "data": {
            "text/plain": [
              "generation_config.json:   0%|          | 0.00/132 [00:00<?, ?B/s]"
            ],
            "application/vnd.jupyter.widget-view+json": {
              "version_major": 2,
              "version_minor": 0,
              "model_id": "dcf4254abe6948388de7520cb233a08e"
            }
          },
          "metadata": {}
        },
        {
          "output_type": "stream",
          "name": "stdout",
          "text": [
            "INFO 06-08 00:37:59 weight_utils.py:207] Using model weights format ['*.bin']\n"
          ]
        },
        {
          "output_type": "display_data",
          "data": {
            "text/plain": [
              "pytorch_model.bin:   0%|          | 0.00/7.25G [00:00<?, ?B/s]"
            ],
            "application/vnd.jupyter.widget-view+json": {
              "version_major": 2,
              "version_minor": 0,
              "model_id": "d35546d7e933485d8f912ecb84d7926e"
            }
          },
          "metadata": {}
        },
        {
          "output_type": "stream",
          "name": "stdout",
          "text": [
            "INFO 06-08 00:43:41 model_runner.py:146] Loading model weights took 6.8084 GB\n",
            "INFO 06-08 00:43:44 gpu_executor.py:83] # GPU blocks: 993, # CPU blocks: 327\n",
            "INFO 06-08 00:43:47 model_runner.py:854] Capturing the model for CUDA graphs. This may lead to unexpected consequences if the model is not static. To run the model in eager mode, set 'enforce_eager=True' or use '--enforce-eager' in the CLI.\n",
            "INFO 06-08 00:43:47 model_runner.py:858] CUDA graphs can take additional 1~3 GiB memory per GPU. If you are running out of memory, consider decreasing `gpu_memory_utilization` or enforcing eager mode. You can also reduce the `max_num_seqs` as needed to decrease memory usage.\n",
            "INFO 06-08 00:43:56 model_runner.py:924] Graph capturing finished in 10 secs.\n"
          ]
        }
      ]
    },
    {
      "cell_type": "code",
      "source": [
        "sampling_params = SamplingParams(temperature=0, top_p=1, max_tokens=300, frequency_penalty = 1.2)"
      ],
      "metadata": {
        "id": "99wbVAoKM9Es"
      },
      "execution_count": null,
      "outputs": []
    },
    {
      "cell_type": "markdown",
      "source": [
        "## Start analyzing"
      ],
      "metadata": {
        "id": "1F799Z9Bpnk7"
      }
    },
    {
      "cell_type": "markdown",
      "source": [
        "### Analyze 15 English translation of Chinese excerpts"
      ],
      "metadata": {
        "id": "5in1TkZlpr_K"
      }
    },
    {
      "cell_type": "code",
      "source": [
        "text = \"\"\"\n",
        "\n",
        "\"Akai Shuichi is dead. Killed by Kiel. Let your friend, the former traitor, confirm it. You shouldn't have any problems, right, Scotland?\"\n",
        "\"He chose Kiel? I thought it would be you who gave him the 'last kiss', Gin.\"\n",
        "The other party made a heavy click of the tongue and hung up the phone. The black-haired, blue-eyed man met the eyes of the eavesdropping stranger next to him, shrugged and smiled, and did not look at the other's embarrassed expression. He turned off the screen, put away his phone, and looked up at the boarding gate in front of him where the queue had already begun.\n",
        "\n",
        "\"... Passengers departing from Kuala Lumpur International Airport to Tokyo, Japan, please note that your flight JL414 is now boarding. Please take your personal belongings, show your boarding pass, and board at Gate 3. Have a nice trip. Thank you!\"\n",
        "--\n",
        "<Bourbon, investigate the truth behind Akai Shuichi's death. Time is money!>\n",
        "<Received. >\n",
        "\"You really can't keep me quiet, Rum.\"\n",
        "In a villa in the suburbs of London, a blond, dark-skinned man put down his phone, leaned back, and stretched. He stretched his neck and fingers slightly, casually opened a page on the laptop next to him, and booked a flight from Heathrow Airport to Haneda Airport in Japan in seven days. First class.\n",
        "He plugged a USB drive into another computer, dragged the file out of it with the mouse, and pulled it into a software to start parsing. The white light and black words on the screen were reflected in his drooping purple-gray eyes. The man muttered inaudibly in a room where no one was except himself.\n",
        "\"After I get rid of you, I will have to find someone who will not let people rest in peace even if he dies. You better be worth the money.\"\n",
        "\n",
        "  \"\"\"\n",
        "\n",
        "final_prompt = prepare_fabrique_prompt(text)\n",
        "\n",
        "prompts = [final_prompt]\n",
        "\n",
        "outputs = llm.generate(prompts, sampling_params)\n",
        "\n",
        "list_generated = []\n",
        "# Print the outputs.\n",
        "for output in outputs:\n",
        "    prompt = output.prompt\n",
        "    generated_text = output.outputs[0].text\n",
        "    list_generated.append(generated_text)\n",
        "\n",
        "from pprint import pprint\n",
        "\n",
        "pprint(list_generated)"
      ],
      "metadata": {
        "colab": {
          "base_uri": "https://localhost:8080/"
        },
        "id": "XwszyDZVTnaF",
        "outputId": "aaaeed03-47ec-409e-d2ed-a7e0f77e7bcb"
      },
      "execution_count": null,
      "outputs": [
        {
          "output_type": "stream",
          "name": "stderr",
          "text": [
            "Processed prompts: 100%|██████████| 1/1 [00:03<00:00,  3.98s/it, Generation Speed: 23.87 toks/s]"
          ]
        },
        {
          "output_type": "stream",
          "name": "stdout",
          "text": [
            "['Summary: The text is about a conversation between two characters, Scotland '\n",
            " 'and Gin, discussing the death of Akai Shuichi.\\n'\n",
            " 'Enunciation: Dialogue\\n'\n",
            " 'Tone: Serious\\n'\n",
            " 'Genre: Mystery/Detective Fiction\\n'\n",
            " 'Intertextuality: Conversation between two people discussing a crime '\n",
            " 'investigation\\n'\n",
            " 'Speech standard: Standard language with some informal expressions\\n'\n",
            " 'Literary form: Dialogue/conversation']\n"
          ]
        },
        {
          "output_type": "stream",
          "name": "stderr",
          "text": [
            "\n"
          ]
        }
      ]
    },
    {
      "cell_type": "code",
      "source": [
        "text = \"\"\"\n",
        "\n",
        "\"Please sit down.\" The young man smiled with a mouthful of white teeth, and his cheerful look really looked like those businessmen who were calculating. \"My name is Huang Zihongfan, you can just call me Huang Zi.\"\n",
        "\n",
        "Cao Enqi took off the hat that covered his face, put it on the table casually, and bowed slightly, \"Cao Enqi, please give me more advice.\"\n",
        "\n",
        "\"You're welcome.\" Huang Zihongfan's expression moved slightly, motioned him to sit down, patted his shoulder carelessly, and poured a cup of hot tea, \"This is a small shop. I hope you can understand that the hospitality is not good.\"\n",
        "\n",
        "\"Shopkeeper Huang is polite.\" Cao Enqi did not refuse, drank it in one gulp, and added with a slightly surprised and appreciative look, \"Just now, the servant said that the shopkeeper would not add more seats, and after listening to it, Your invitation is no doubt. I think there will be no other person in the shopkeeper of the Caiyun Tower. In low voice, \"Huang Zi Hongfan, an old man asked me to send a letter to Caiyun Tower.\" \"The old man?\" He asked calmly, and continued to clear the tea for himself, and took a sip of the porcelain cup. Shaking. He dangled his head and put his face with a smile on his face. \"The news of Apu was too late. Nanbomen was destroyed.\" As soon as this remark, Cao Enqi was cold.\n",
        "\n",
        "  \"\"\"\n",
        "\n",
        "final_prompt = prepare_fabrique_prompt(text)\n",
        "\n",
        "prompts = [final_prompt]\n",
        "\n",
        "outputs = llm.generate(prompts, sampling_params)\n",
        "\n",
        "list_generated = []\n",
        "# Print the outputs.\n",
        "for output in outputs:\n",
        "    prompt = output.prompt\n",
        "    generated_text = output.outputs[0].text\n",
        "    list_generated.append(generated_text)\n",
        "\n",
        "from pprint import pprint\n",
        "\n",
        "pprint(list_generated)"
      ],
      "metadata": {
        "colab": {
          "base_uri": "https://localhost:8080/"
        },
        "id": "f-rjIVefM-ae",
        "outputId": "4909286b-5628-4237-f0b5-d69edbf8766d"
      },
      "execution_count": null,
      "outputs": [
        {
          "output_type": "stream",
          "name": "stderr",
          "text": [
            "Processed prompts: 100%|██████████| 1/1 [00:03<00:00,  3.98s/it, Generation Speed: 23.64 toks/s]"
          ]
        },
        {
          "output_type": "stream",
          "name": "stdout",
          "text": [
            "['Summary: Cao Enqi meets Huang Zihongfan in a small shop, where they discuss '\n",
            " 'the destruction of Nanbomen.\\n'\n",
            " 'Enunciation: Dialogue\\n'\n",
            " 'Tone: Serious\\n'\n",
            " 'Genre: Historical fiction\\n'\n",
            " 'Intertextuality: News report\\n'\n",
            " 'Speech standard: Standard language with some informal expressions\\n'\n",
            " 'Literary form: Conversation/dialogue\\n'\n",
            " 'Active character: Cao Enqi, Huang Zihongfan']\n"
          ]
        },
        {
          "output_type": "stream",
          "name": "stderr",
          "text": [
            "\n"
          ]
        }
      ]
    },
    {
      "cell_type": "code",
      "source": [
        "text = \"\"\"\n",
        "\n",
        "However, this Friday morning was destined to be a day out of the norm. The woman stretched, revealing the pleasing curves of her female body, and the beautiful scenery at the moment, the man enjoyed these two things. Suddenly, the woman's expression changed, and the next second her teeth began to tremble. Others could hardly notice such details, but the man next to her could. He could see from her eyes that the woman's eyes were completely occupied by fear.\n",
        "\n",
        "The woman said tremblingly in a voice that the man had never heard before: \"Johnny, look, is that a person lying over there?\"\n",
        "\n",
        "Marty went past the reporter who was sitting on the lawn in a daze, raised the yellow cordon, and took a look at the victim as usual. Except for some special cases, such as the naked woman wearing deer antlers while kneeling, most of the victims were relatively ordinary and inconspicuous. Just like this victim, who was about the same age as him, the injury was on the back of the head, so when he was lying on the front, there was almost no scar, but his eyes were wide open, as if he was still shocked that death had come like this, and death solidified the shock of that moment, and finally formed into a piece of paper in the camera of the on-site investigators.\n",
        "\n",
        "\"When was the time of death?\"\n",
        "\n",
        "\"Based on the liver temperature, the time of death was about ten o'clock last night.\"\n",
        "\n",
        "Marty wrote something in his notebook, which was neither big nor small. After writing, he subconsciously looked in the direction he came from.\n",
        "\n",
        "\"What's the cause of death?\"\n",
        "\n",
        "\"Preliminary observation is that the middle meningeal artery was damaged due to skull fracture, which in turn caused epidural hematoma.\" The old policeman has seen at least eighty such causes of death caused by blunt objects hitting the back of the head. Despite this, Marty still wrote it down. After writing, he looked in the same direction again, then he squatted down and carefully observed the only wound. It didn't look big. It was probably because the angle was very tricky and hit the artery.\n",
        "\n",
        "As if he had a sense of it, he turned around and Rust was walking towards him. He walked very straight, and Marty's heart skipped a beat. In a trance, he thought it was still 1995. Fortunately, he reacted in time and reached out to lift the warning belt for Rust. Rust cooperated well with him and got in nimbly with a slight lowering of his body.\n",
        "\n",
        "Marty dutifully reported what he had just recorded in his ear. Rust stood beside the body and stared at it. Marty stared at his profile and brow bone, looking thoughtful, so he believed in his observation: \"The wallet is gone. Maybe it was just a robbery. The robber didn't hit hard, but just hit the artery.\"\n",
        "\n",
        "\"Isn't this place suitable for close people to come? Such a beautiful scenery.\" Rust said. In the background, Johnny was brushing his girlfriend's hair aside and consoling her attentively, firmly telling her that everything would be fine.\n",
        "\n",
        "An ordinary policeman in uniform walked towards them: \"Although there is no wallet, we found some receipts in the deceased's pocket. I think you should take a look at this one.\"\n",
        "\n",
        "It was a receipt for a meal at the cafeteria of Princeton Teaching Hospital. The time was yesterday, and two hamburgers and fries were ordered. Generally speaking, the hospital implements a meal delivery system for patients, which means that it is very likely that the deceased was a hospital employee.\n",
        "\n",
        "  \"\"\"\n",
        "\n",
        "final_prompt = prepare_fabrique_prompt(text)\n",
        "\n",
        "prompts = [final_prompt]\n",
        "\n",
        "outputs = llm.generate(prompts, sampling_params)\n",
        "\n",
        "list_generated = []\n",
        "# Print the outputs.\n",
        "for output in outputs:\n",
        "    prompt = output.prompt\n",
        "    generated_text = output.outputs[0].text\n",
        "    list_generated.append(generated_text)\n",
        "\n",
        "from pprint import pprint\n",
        "\n",
        "pprint(list_generated)"
      ],
      "metadata": {
        "colab": {
          "base_uri": "https://localhost:8080/"
        },
        "id": "hbBwK4QGUCmn",
        "outputId": "8554f9e5-dce8-4ffd-8627-d3f9af4280ee"
      },
      "execution_count": null,
      "outputs": [
        {
          "output_type": "stream",
          "name": "stderr",
          "text": [
            "Processed prompts: 100%|██████████| 1/1 [00:04<00:00,  4.17s/it, Generation Speed: 21.86 toks/s]"
          ]
        },
        {
          "output_type": "stream",
          "name": "stdout",
          "text": [
            "['Summary: The text describes a man observing a woman who is fearful and then '\n",
            " 'turns his attention to a victim of death.\\n'\n",
            " 'Narrative arc: Suspense\\n'\n",
            " 'Enunciation: Third-person narrative\\n'\n",
            " 'Tone: Serious, investigative\\n'\n",
            " 'Genre: Crime fiction\\n'\n",
            " 'Intertextuality: News report, police investigation report\\n'\n",
            " 'Speech standard: Standard, formal language used by the characters in '\n",
            " 'conversation with each other']\n"
          ]
        },
        {
          "output_type": "stream",
          "name": "stderr",
          "text": [
            "\n"
          ]
        }
      ]
    },
    {
      "cell_type": "code",
      "source": [
        "text = \"\"\"\n",
        "\n",
        "Dante took longer than expected to get the water. He walked in with the water slowly, his eyes slightly probing, scanning Tracy's eyes and lower abdomen. Tracy felt uncomfortable being stared at by him, frowning in confusion, with an ominous premonition rising in her heart. At the same time, she also prepared herself mentally to receive Dante's confession that he had messed up some small things again.\n",
        "\n",
        "\"What's wrong?\"\n",
        "\n",
        "\"Drink water first.\" Dante stuffed the water cup into her hand to stop her from talking. Only after watching her drink it with his own eyes, taking the water cup from her hand and putting it away, did he continue: \"Do you feel dizzy and weak?\"\n",
        "\n",
        "\"Yeah.\" Seeing his serious attitude, Tracy also took it seriously.\n",
        "\n",
        "\"Fever, nausea, vomiting, sleepiness and dreaminess, do you have these?\"\n",
        "\n",
        "\"All of them...\"\n",
        "\n",
        "\"Have you had a lot of mood swings recently?\"\n",
        "\n",
        "\"What do you want to say, Dr. Dante?\" Tracy couldn't help but tease.\n",
        "\n",
        "Dante's face looked bad, as if he was considering more appropriate words. After hesitating for a long time, he gave up resistance and uttered the answer word by word.\n",
        "\n",
        "\"...Are you pregnant?\"\n",
        "\n",
        "\"...Pregnant? How is that possible?\" Tracy's smile froze on her face. She denied this absurd guess without thinking, but her hand covered her lower abdomen as if to cover up her guilty conscience. The skin covered by her palm was hot from the inside out. The abdominal cavity turned into a warm fish tank, nourishing a goldfish that was rushing around. It was hitting and jumping again and again, and it was unclear whether it was from the twitching of stomach spasms or the fetal movement of an unknown life.\n",
        "\n",
        "\"I'm just guessing. Go to bed quickly, maybe you'll be fine after a good night's sleep.\" Dante prevaricated with a lame excuse, urging Tracy to lie down and close her eyes quickly, and even carefully tucked Tracy's outstretched hand into the quilt.\n",
        "\n",
        "What a fool. Tracy sighed softly. Of course, she failed to drive away the annoying thoughts and force herself to fall asleep.\n",
        "\n",
        "  \"\"\"\n",
        "\n",
        "final_prompt = prepare_fabrique_prompt(text)\n",
        "\n",
        "prompts = [final_prompt]\n",
        "\n",
        "outputs = llm.generate(prompts, sampling_params)\n",
        "\n",
        "list_generated = []\n",
        "# Print the outputs.\n",
        "for output in outputs:\n",
        "    prompt = output.prompt\n",
        "    generated_text = output.outputs[0].text\n",
        "    list_generated.append(generated_text)\n",
        "\n",
        "from pprint import pprint\n",
        "\n",
        "pprint(list_generated)"
      ],
      "metadata": {
        "colab": {
          "base_uri": "https://localhost:8080/"
        },
        "id": "vYxZmxk2UjHZ",
        "outputId": "6a24801b-689f-4830-ba4e-cd372419fa77"
      },
      "execution_count": null,
      "outputs": [
        {
          "output_type": "stream",
          "name": "stderr",
          "text": [
            "Processed prompts: 100%|██████████| 1/1 [00:03<00:00,  3.81s/it, Generation Speed: 23.11 toks/s]"
          ]
        },
        {
          "output_type": "stream",
          "name": "stdout",
          "text": [
            "[\"Summary: Tracy is surprised by Dante's question about her being pregnant, \"\n",
            " \"but denies it. She can't fall asleep because of her thoughts.\\n\"\n",
            " 'Narrative arc: Suspense\\n'\n",
            " 'Enunciation: Dialogue\\n'\n",
            " 'Tone: Serious\\n'\n",
            " 'Genre: Drama\\n'\n",
            " 'Speech standard: Standard language with some slang words\\n'\n",
            " 'Literary form: Conversation/dialogue']\n"
          ]
        },
        {
          "output_type": "stream",
          "name": "stderr",
          "text": [
            "\n"
          ]
        }
      ]
    },
    {
      "cell_type": "code",
      "source": [
        "text = \"\"\"\n",
        "\n",
        "The summer in Sanbrek is mild and rainless, but Dion, sitting in the carriage, seems a little restless. He adjusts his sitting position again and again, sometimes leaning on the window and staring at the White Dragon City in the distance, and sometimes leaning on the back of the chair and staring at the roof in a daze, his hands constantly stroking his soft velvet seat covers, commanding them to change color between lake blue and dark blue.\n",
        "\"You just lost your temper, my prince.\"\n",
        "Dion stretched out his hand and waved, saying, \"No need to say it, and it's not the first time in front of you.\"\n",
        "\"It's my honor to have this privilege, sir.\" Terrence blinked, drew a small circle in the air with his hand, and saluted Dion.\n",
        "\"You are really annoying sometimes, like now.\"\n",
        "He leaned forward slightly, took off his gloves and clasped his hands, and passed his ten fingers through his fingers. Terrence obediently cooperated with him, letting the calluses on their hands kiss each other. The carriage was bumpy, and Dion left his seat and sat on Terrence. The loyal captain of the guards pressed Dion's back with his unoccupied left hand so that his captain could sit more steadily. Terrence heard Dion sigh with satisfaction, and buried his head in Terrence's neck. The golden hair brushed his nose, and the brown-haired knight smelled the light.\n",
        "\"I love you.\"\n",
        "\"Why do you say this suddenly?\"\n",
        "\"Because I love you, just like you love me.\"\n",
        "\"Then can my beloved Dion explain what happened just now?\"\n",
        "\"You will know, but before that, you have to think about what happened when we were in the monastery school.\"\n",
        "\"Why?\"\n",
        "\"The dragon knights of Sanbrek need to fight a prepared battle.\"\n",
        "\n",
        "  \"\"\"\n",
        "\n",
        "final_prompt = prepare_fabrique_prompt(text)\n",
        "\n",
        "prompts = [final_prompt]\n",
        "\n",
        "outputs = llm.generate(prompts, sampling_params)\n",
        "\n",
        "list_generated = []\n",
        "# Print the outputs.\n",
        "for output in outputs:\n",
        "    prompt = output.prompt\n",
        "    generated_text = output.outputs[0].text\n",
        "    list_generated.append(generated_text)\n",
        "\n",
        "from pprint import pprint\n",
        "\n",
        "pprint(list_generated)"
      ],
      "metadata": {
        "colab": {
          "base_uri": "https://localhost:8080/"
        },
        "id": "WwH64UfpVkds",
        "outputId": "21210406-8b39-4269-a420-6ccd89751d4c"
      },
      "execution_count": null,
      "outputs": [
        {
          "output_type": "stream",
          "name": "stderr",
          "text": [
            "Processed prompts: 100%|██████████| 1/1 [00:03<00:00,  3.18s/it, Generation Speed: 23.29 toks/s]"
          ]
        },
        {
          "output_type": "stream",
          "name": "stdout",
          "text": [
            "['Summary: Dion is restless in the carriage and talks to Terrence about their '\n",
            " 'relationship.\\n'\n",
            " 'Enunciation: Dialogue\\n'\n",
            " 'Tone: Affectionate, playful\\n'\n",
            " 'Genre: Romance\\n'\n",
            " 'Speech standard: Informal, conversational\\n'\n",
            " 'Literary form: Conversation/dialogue\\n'\n",
            " 'Active character: Dion, Terrence']\n"
          ]
        },
        {
          "output_type": "stream",
          "name": "stderr",
          "text": [
            "\n"
          ]
        }
      ]
    },
    {
      "cell_type": "code",
      "source": [
        "text = \"\"\"\n",
        "\n",
        "\"Good morning, Master Soga, Madam Soga.\" The sheen of the marble wall made her feel a little chilly in the sultry summer. Master Soga and Madam Soga were reading newspapers. \"Isa, you're here?\" Madam Soga put down the newspaper, \"Sit down quickly, eat first if you're hungry.\"\n",
        "Isa forced a smile: \"Thank you, Madam, I'm not hungry yet.\"\n",
        "Madam Soga held up the newspaper, \"Isa, you're already eighteen years old, it's too late if you don't get married. Women's youth depreciates quickly.\" Isa suppressed her nausea and made a shy expression: \"Husband... Madam is right.\" Seeing her reaction, the master smiled complacently: \"Women are troublesome, don't end up being unable to have children and unable to get married.\" When the master used a knife and fork, the fat on his face always trembled with the movement of his arms. He treated food and money like people of lower status than himself, and couldn't wait to enjoy them.\n",
        "\"The master is right.\" Isa felt that he couldn't eat anything anymore.\n",
        "\"In that case,\" the lady turned a little towards Isa happily after hearing this, \"There's a gentleman who's looking for a wife recently, Isa, do you want to go?\"\n",
        "Isa opened her eyes wide: \"Now?\"\n",
        "\"That gentleman is very powerful, you'll be blessed if you marry him.\" Mrs. Soga loved to pretend to be jealous of Isa when she handed the mess to her. She spent hundreds of thousands of dollars to maintain her face, but the muscles on her apple cheeks and lips were so stiff that it was hard to tell if she was really smiling.\n",
        "Isa also smiled: \"Thank you so much, master and lady. You're so kind to me and willing to marry me to a good family. I really don't know how to repay you.\"\n",
        "\"Isa, I'm so happy you said that,\" the lady tilted her eyebrows and squeezed out a strong smile at her, \"Our family is financially tight recently, but we will do our best for your dowry. After all, it's our Isa's wedding, so you have to look like a noble lady, right?\"\n",
        "Yes, like a noble lady. Her parents' inheritance had long been divided up by relatives, and her value in the Soga family was about the same as a painting. How much value would she have after getting married?\n",
        "\"I will spend my whole life repaying your kindness.\" Yisha said lies and wiped away her sincere tears.\n",
        "\n",
        "  \"\"\"\n",
        "\n",
        "final_prompt = prepare_fabrique_prompt(text)\n",
        "\n",
        "prompts = [final_prompt]\n",
        "\n",
        "outputs = llm.generate(prompts, sampling_params)\n",
        "\n",
        "list_generated = []\n",
        "# Print the outputs.\n",
        "for output in outputs:\n",
        "    prompt = output.prompt\n",
        "    generated_text = output.outputs[0].text\n",
        "    list_generated.append(generated_text)\n",
        "\n",
        "from pprint import pprint\n",
        "\n",
        "pprint(list_generated)"
      ],
      "metadata": {
        "colab": {
          "base_uri": "https://localhost:8080/"
        },
        "id": "s1zUfOmfVz4t",
        "outputId": "90cd1d30-d5b7-4d19-b5cc-58d1ef22a8eb"
      },
      "execution_count": null,
      "outputs": [
        {
          "output_type": "stream",
          "name": "stderr",
          "text": [
            "Processed prompts: 100%|██████████| 1/1 [00:03<00:00,  3.59s/it, Generation Speed: 22.57 toks/s]"
          ]
        },
        {
          "output_type": "stream",
          "name": "stdout",
          "text": [
            "['Summary: Isa is being pressured by her adoptive parents to get married, but '\n",
            " 'she feels uneasy about the prospect.\\n'\n",
            " 'Narrative arc: Pressure and unease\\n'\n",
            " 'Enunciation: Dialogue\\n'\n",
            " 'Tone: Serious, tense\\n'\n",
            " 'Genre: Realistic fiction\\n'\n",
            " 'Speech standard: Standard, polite conversation\\n'\n",
            " 'Literary form: Conversation/dialogue']\n"
          ]
        },
        {
          "output_type": "stream",
          "name": "stderr",
          "text": [
            "\n"
          ]
        }
      ]
    },
    {
      "cell_type": "code",
      "source": [
        "text = \"\"\"\n",
        "\n",
        "The expedition team went deep into Jingyu and lost contact. After two weeks of being out of contact, only one male survivor was rescued in a village near the mouth of Yulao River, but he was unconscious. After the survivor regained consciousness, he told a rather bizarre story. He claimed that the expedition team had discovered the ruins of the Shang Dynasty in the depths of the Qinling Mountains. Later, under the leadership of this person, the team went there again, but only a broken bronze engraving was found. The traces were blurred and it was made about three thousand years ago, but whether it was an old object of the Shang Dynasty remains to be studied. \"\n",
        "\n",
        "Strange, although the things of the Shang Dynasty are precious, they are not impossible to explore. Moreover, I have never seen the patterns on these bronze plates. It sounds a bit conceited, but I am a graduate student in the Department of Archaeology after all, and my main direction happens to be medieval civilization. So I have not seen it, which means that this matter is not taken seriously, so that no one continues to study it.\n",
        "\n",
        "My curiosity has expanded unprecedentedly. I opened the remaining three pieces of letter paper. The ink is very beautiful, but what really surprised me is the content on it.\n",
        "\n",
        "  \"\"\"\n",
        "\n",
        "final_prompt = prepare_fabrique_prompt(text)\n",
        "\n",
        "prompts = [final_prompt]\n",
        "\n",
        "outputs = llm.generate(prompts, sampling_params)\n",
        "\n",
        "list_generated = []\n",
        "# Print the outputs.\n",
        "for output in outputs:\n",
        "    prompt = output.prompt\n",
        "    generated_text = output.outputs[0].text\n",
        "    list_generated.append(generated_text)\n",
        "\n",
        "from pprint import pprint\n",
        "\n",
        "pprint(list_generated)"
      ],
      "metadata": {
        "colab": {
          "base_uri": "https://localhost:8080/"
        },
        "id": "CV8HkNumWH-P",
        "outputId": "235d8cb1-3677-4aed-ccdd-2f8ab9a9f222"
      },
      "execution_count": null,
      "outputs": [
        {
          "output_type": "stream",
          "name": "stderr",
          "text": [
            "Processed prompts: 100%|██████████| 1/1 [00:04<00:00,  4.06s/it, Generation Speed: 24.66 toks/s]"
          ]
        },
        {
          "output_type": "stream",
          "name": "stdout",
          "text": [
            "['\\n'\n",
            " 'Summary: The expedition team went deep into Jingyu and lost contact. After '\n",
            " 'two weeks, only one survivor was rescued and he told a bizarre story about '\n",
            " 'discovering the ruins of the Shang Dynasty. The narrator is curious about '\n",
            " 'the content of the remaining letters.\\n'\n",
            " 'Trope: Mysterious ruins, lost civilization\\n'\n",
            " 'Narrative arc: Suspense\\n'\n",
            " 'Enunciation: First-person narrative\\n'\n",
            " 'Tone']\n"
          ]
        },
        {
          "output_type": "stream",
          "name": "stderr",
          "text": [
            "\n"
          ]
        }
      ]
    },
    {
      "cell_type": "code",
      "source": [
        "text = \"\"\"\n",
        "\n",
        "After his mother died, Cao Rui became a ghost in the East Palace. No one could mess with him, after all, he was the emperor's son, but everyone knew about Madam Zhen's affairs. His Majesty was not the kind of strict person who would not vent his anger on others. It was better to say that the Cao family was naturally a bit promiscuous, pursuing a kind of exhaustive love and hate, like the paint applied when the Luoyang Palace was newly built. It was difficult to wash off once it was stained, and there was always a smell after washing, so people had to avoid it for the rest of their lives. The East Palace was thus deserted, but it was not entirely a bad thing - Cao Rui was troubled by a strange disease at that time and could not speak a whole long sentence. This is how they discovered this: One morning, about a month after Madam Zhen's death, the maids helped him wash and comb his hair. The comb was old and his hair was too long and inconvenient, and unfortunately one of the teeth was broken that day. Cao Rui closed his eyes and heard the crisp sound very close to his ear, and felt strongly that it was unlucky, just like a string breaking. He opened his eyes and told them to change it quickly: \"Why is it broken? Go and change it--change it...\" When he said this, the words that followed seemed to be stuck and he couldn't utter them. Cao Rui covered his mouth in astonishment. The women who had been holding his hair looked at him in fear and trepidation, and after realizing that something was wrong, they all knelt down. More combs fell to the ground in panic. They thought that they had angered the Marquis of Pingyuan, and Cao Rui sat on the couch and thought: Why are you so nervous? But he couldn't say this sentence, and could only look at them. The girls lowered their heads, and the tassels decorating their hair buns on their heads trembled in the windless palace, making a lingering sound, until he couldn't bear it anymore and stood up and walked around the people in front of him and walked outside, his dark hair and the hem of his clothes dragging on the ground. He walked out the door and called the eunuchs in the palace. He couldn't see anyone today. Today... today... Cao Rui opened his mouth, decided not to appear to be a stutterer, and divided the sentence into three parts. \"Uncomfortable.\" He pointed at himself, \"Let them,\" he pointed outside again, \"go back.\" The next day everyone in the palace knew about it. Mrs. Guo sent someone to express her condolences. Cao Rui was very respectful to the female official. He knew that his nominal mother was actually coming on behalf of his biological father, so he just wanted to send her away quickly. He explained to her that he was fine, and his words were accidentally broken into several pieces. The female official understood and left. A few days later, Mrs. Guo sent more things, which were all sealed and stored.\n",
        "\n",
        "  \"\"\"\n",
        "\n",
        "final_prompt = prepare_fabrique_prompt(text)\n",
        "\n",
        "prompts = [final_prompt]\n",
        "\n",
        "outputs = llm.generate(prompts, sampling_params)\n",
        "\n",
        "list_generated = []\n",
        "# Print the outputs.\n",
        "for output in outputs:\n",
        "    prompt = output.prompt\n",
        "    generated_text = output.outputs[0].text\n",
        "    list_generated.append(generated_text)\n",
        "\n",
        "from pprint import pprint\n",
        "\n",
        "pprint(list_generated)"
      ],
      "metadata": {
        "colab": {
          "base_uri": "https://localhost:8080/"
        },
        "id": "g7aobAbgWYw3",
        "outputId": "b9c19e23-58e4-4ee9-8a83-a0b5dd1aedcf"
      },
      "execution_count": null,
      "outputs": [
        {
          "output_type": "stream",
          "name": "stderr",
          "text": [
            "Processed prompts: 100%|██████████| 1/1 [00:04<00:00,  4.38s/it, Generation Speed: 22.83 toks/s]"
          ]
        },
        {
          "output_type": "stream",
          "name": "stdout",
          "text": [
            "[\"Summary: After his mother's death, Cao Rui becomes a ghost in the East \"\n",
            " 'Palace and is known for his promiscuity. One day, he discovers that he can '\n",
            " 'no longer speak in full sentences.\\n'\n",
            " 'Trope: Promiscuity\\n'\n",
            " 'Narrative arc: Character development\\n'\n",
            " 'Enunciation: Third-person narrative\\n'\n",
            " 'Tone: Tragic\\n'\n",
            " 'Genre: Historical novel\\n'\n",
            " 'Intertextuality: Historical biography\\n'\n",
            " 'Speech standard']\n"
          ]
        },
        {
          "output_type": "stream",
          "name": "stderr",
          "text": [
            "\n"
          ]
        }
      ]
    },
    {
      "cell_type": "code",
      "source": [
        "text = \"\"\"\n",
        "\n",
        "Just one step away.\n",
        "\n",
        "Ma Hanqing stared at the gilded brocade box on the table, and picked up the sharp arrow that was shooting straight at his chest. The fine sweat on his forehead proved that he had gone through a lot of hardships to get here, leaving the palace soldiers behind. Although the study was unguarded, it was full of traps, and he could die if he was not careful. But the target was in front of him. As long as he took one step closer, he would chop the harmful wood and destroy the forged secret letter. Wu Taishi would not be able to produce the \"evidence\" of General Ma's treason, and the 100,000 Ma family soldiers would be cleared of all charges, and General Ma would no longer have to suffer imprisonment.\n",
        "\n",
        "A sudden pain came from his heart.\n",
        "\n",
        "Damn it. Ma Hanqing's heart sank. Those people must have caught the illusion he had released, and they would be here soon. He had not yet found the flaw in the trap array. Instead of waiting to die, it would be better to fight to the death. Compared with General Ma's innocence and the future of the 100,000 Ma family soldiers, the death of Ma Hanqing was nothing.\n",
        "\n",
        "  \"\"\"\n",
        "\n",
        "final_prompt = prepare_fabrique_prompt(text)\n",
        "\n",
        "prompts = [final_prompt]\n",
        "\n",
        "outputs = llm.generate(prompts, sampling_params)\n",
        "\n",
        "list_generated = []\n",
        "# Print the outputs.\n",
        "for output in outputs:\n",
        "    prompt = output.prompt\n",
        "    generated_text = output.outputs[0].text\n",
        "    list_generated.append(generated_text)\n",
        "\n",
        "from pprint import pprint\n",
        "\n",
        "pprint(list_generated)"
      ],
      "metadata": {
        "colab": {
          "base_uri": "https://localhost:8080/"
        },
        "id": "tT73mBnAW0HA",
        "outputId": "45c25e98-5479-4f49-dda7-539f3b23f86e"
      },
      "execution_count": null,
      "outputs": [
        {
          "output_type": "stream",
          "name": "stderr",
          "text": [
            "Processed prompts: 100%|██████████| 1/1 [00:04<00:00,  4.06s/it, Generation Speed: 24.62 toks/s]"
          ]
        },
        {
          "output_type": "stream",
          "name": "stdout",
          "text": [
            "['Summary: Ma Hanqing is in a dangerous situation, but he is determined to '\n",
            " 'find a way out.\\n'\n",
            " 'Trope: Heroic sacrifice\\n'\n",
            " 'Narrative arc: Suspense\\n'\n",
            " 'Enunciation: Third-person narrative\\n'\n",
            " 'Tone: Determined, desperate\\n'\n",
            " 'Genre: Historical fiction\\n'\n",
            " 'Intertextuality: Action movie scene\\n'\n",
            " 'Speech standard: Standard literary language with some poetic elements (e.g. '\n",
            " '\"fine sweat\" and \"']\n"
          ]
        },
        {
          "output_type": "stream",
          "name": "stderr",
          "text": [
            "\n"
          ]
        }
      ]
    },
    {
      "cell_type": "code",
      "source": [
        "text = \"\"\"\n",
        "\n",
        "When the journey was almost halfway through, the two finally saw the first inhabited village along the way.\n",
        "\n",
        "However, the place that should have been a place for travelers to replenish their luggage was actually in a very bad situation. Alechino asked Columbia to stay on the saddle pad, and he got off the horse, walked to the left front, and walked slowly forward holding the reins. Ragged people wandered around the town, like empty shells, and they hardly even moved their eyes. Only when they saw the visitors dressed in bright clothes, those \"people\" who were as thin as skeletons would open their mouths slightly and show a little bit of human vitality.\n",
        "\n",
        "\"Why did they become like this?\" Columbia asked while looking at the crowd of beggars gradually surrounding them on horseback.\n",
        "\n",
        "\"War. The Queen is marching westward. The food, money, and manpower needed for the war will eventually become a heavy burden for the workers. It brings prestige to the royal family and benefits to the nobles, and then the taxes and famine hidden in the shadows are pressed on every bottom-level people.\" Alechino responded to the girl's words, took out a few silver coins from the inside of the fur robe, and handed them to the beggar in front of him.\n",
        "\n",
        "\"Why don't they go somewhere else?\"\n",
        "\n",
        "\"They have nowhere to go. Since birth, serfs have been bound to the land. They belong to the farmland, the manor, and the lord-but not to themselves.\"\n",
        "\n",
        "  \"\"\"\n",
        "\n",
        "final_prompt = prepare_fabrique_prompt(text)\n",
        "\n",
        "prompts = [final_prompt]\n",
        "\n",
        "outputs = llm.generate(prompts, sampling_params)\n",
        "\n",
        "list_generated = []\n",
        "# Print the outputs.\n",
        "for output in outputs:\n",
        "    prompt = output.prompt\n",
        "    generated_text = output.outputs[0].text\n",
        "    list_generated.append(generated_text)\n",
        "\n",
        "from pprint import pprint\n",
        "\n",
        "pprint(list_generated)"
      ],
      "metadata": {
        "colab": {
          "base_uri": "https://localhost:8080/"
        },
        "id": "q1NyYgdaXI3P",
        "outputId": "247280f4-a296-4c4b-f7a8-52a06adb744f"
      },
      "execution_count": null,
      "outputs": [
        {
          "output_type": "stream",
          "name": "stderr",
          "text": [
            "Processed prompts: 100%|██████████| 1/1 [00:03<00:00,  3.56s/it, Generation Speed: 24.16 toks/s]"
          ]
        },
        {
          "output_type": "stream",
          "name": "stdout",
          "text": [
            "['Summary: The protagonist and his companion encounter a village in a poor '\n",
            " 'state due to war.\\n'\n",
            " 'Narrative arc: Reflective\\n'\n",
            " 'Enunciation: Dialogue\\n'\n",
            " 'Tone: Serious, somber\\n'\n",
            " 'Genre: Historical fiction\\n'\n",
            " 'Intertextuality: Historical documentary or political commentary\\n'\n",
            " 'Speech standard: Standard, formal language\\n'\n",
            " 'Literary form: Conversation/dialogue between characters']\n"
          ]
        },
        {
          "output_type": "stream",
          "name": "stderr",
          "text": [
            "\n"
          ]
        }
      ]
    },
    {
      "cell_type": "code",
      "source": [
        "text = \"\"\"\n",
        "\n",
        "At the beginning of the new calendar, Sanbrek and the two neighboring countries revised a new law. The three-nation alliance that reunited in the war is now working hard to restore the broken world. Even a hundred years later, various old calendar legends are circulating on the road. Many things are forgotten facts, and many things are clues that conceal the truth. A young apprentice from the monastery bid farewell to his hometown and went from the remote edge of the Dragon's Nest to the Holy White Dragon City in New Oleflem, the new capital of Sanbrek. Like an ascetic monk, he walked north along the gravel road in simple and sloppy cloth shoes.\n",
        "\n",
        "The chocobo was led behind him, his only travel companion, and he couldn't bear to let this poor little guy carrying heavy objects add to his weight. So he slowly walked out of the plain and crossed the waterfall until they saw the watchtower on the cliff by the sea.\n",
        "\n",
        "He opened the book in his bag, which recorded the appearance of the world map before the war. He was in this barren land with sparse crops. A hundred years ago, there were still mutated monsters making trouble, and two hundred years ago, it was even submerged in the mysterious high concentration of ether and difficult to move forward. He repeatedly chewed the word \"ether\" in his mouth, full of curiosity and fear about this unknown thing from the past.\n",
        "\n",
        "  \"\"\"\n",
        "\n",
        "final_prompt = prepare_fabrique_prompt(text)\n",
        "\n",
        "prompts = [final_prompt]\n",
        "\n",
        "outputs = llm.generate(prompts, sampling_params)\n",
        "\n",
        "list_generated = []\n",
        "# Print the outputs.\n",
        "for output in outputs:\n",
        "    prompt = output.prompt\n",
        "    generated_text = output.outputs[0].text\n",
        "    list_generated.append(generated_text)\n",
        "\n",
        "from pprint import pprint\n",
        "\n",
        "pprint(list_generated)"
      ],
      "metadata": {
        "colab": {
          "base_uri": "https://localhost:8080/"
        },
        "id": "oibVWlr6XNL1",
        "outputId": "5b3415a6-177e-4f45-93af-a13f3c1d3582"
      },
      "execution_count": null,
      "outputs": [
        {
          "output_type": "stream",
          "name": "stderr",
          "text": [
            "Processed prompts: 100%|██████████| 1/1 [00:04<00:00,  4.07s/it, Generation Speed: 24.58 toks/s]"
          ]
        },
        {
          "output_type": "stream",
          "name": "stdout",
          "text": [
            "['Summary: A young apprentice from a monastery sets out on a journey to the '\n",
            " 'new capital of Sanbrek, reflecting on the past and contemplating the '\n",
            " 'mysterious substance known as ether.\\n'\n",
            " 'Trope: Journey of self-discovery\\n'\n",
            " 'Narrative arc: Reflective and introspective\\n'\n",
            " 'Enunciation: Third-person narrative\\n'\n",
            " 'Tone: Reflective, curious\\n'\n",
            " 'Genre: Fantasy fiction\\n'\n",
            " 'Intertextual']\n"
          ]
        },
        {
          "output_type": "stream",
          "name": "stderr",
          "text": [
            "\n"
          ]
        }
      ]
    },
    {
      "cell_type": "code",
      "source": [
        "text = \"\"\"\n",
        "\n",
        "\"Old friend, ten years of imprisonment are over. How do you feel? Reborn? Or a little reluctant?\"\n",
        "The voice was frivolous but powerful, not like that of the mortal world. It was sent into the listener's skull, with an irresistible sense of aggression, rolling in the inner cavity of the ear, causing the whole person to resonate with it.\n",
        "\"Hermes.\" Odysseus recognized the person and looked at him with some surprise, \"Why are you here?\"\n",
        "\"I came to see our poor puppy, is it living well on this desolate island.\"\n",
        "Hermes' tone was slightly raised, as careless as he was. He was happily spinning in the air on his flying shoes, like a full-winged bird. But Odysseus knew that he was different from Athena, not similar to an owl, but more casual and free. Hermes was willing to pay for one day at a time and live for one moment at a time. He was more willing to be clever than to be upright and wise. He looked like an approachable god, but in fact he was difficult to deal with on another level. However, no matter how idle he is, he would not tease him for no reason. There must be a reason, a sign, or a guide, Odysseus thought. As smart as Odysseus was, he quickly understood the intention of the angel of the gods. \"You persuaded Calypso to let me go, so is this the will of the gods? In this case, can I guess that in the near future, I will finally be able to return to Ithaca as I wish?\"\n",
        "\n",
        "  \"\"\"\n",
        "\n",
        "final_prompt = prepare_fabrique_prompt(text)\n",
        "\n",
        "prompts = [final_prompt]\n",
        "\n",
        "outputs = llm.generate(prompts, sampling_params)\n",
        "\n",
        "list_generated = []\n",
        "# Print the outputs.\n",
        "for output in outputs:\n",
        "    prompt = output.prompt\n",
        "    generated_text = output.outputs[0].text\n",
        "    list_generated.append(generated_text)\n",
        "\n",
        "from pprint import pprint\n",
        "\n",
        "pprint(list_generated)"
      ],
      "metadata": {
        "colab": {
          "base_uri": "https://localhost:8080/"
        },
        "id": "hAS2Iu2lXODM",
        "outputId": "9782c30f-9406-497c-b79e-7ee42782994b"
      },
      "execution_count": null,
      "outputs": [
        {
          "output_type": "stream",
          "name": "stderr",
          "text": [
            "Processed prompts: 100%|██████████| 1/1 [00:03<00:00,  3.72s/it, Generation Speed: 23.92 toks/s]"
          ]
        },
        {
          "output_type": "stream",
          "name": "stdout",
          "text": [
            "['Summary: Odysseus is surprised to see Hermes on the island and asks if it '\n",
            " 'means he will be able to return home soon.\\n'\n",
            " 'Enunciation: Dialogue\\n'\n",
            " 'Tone: Casual, frivolous\\n'\n",
            " 'Genre: Epic poetry\\n'\n",
            " 'Speech standard: Informal, colloquial\\n'\n",
            " 'Literary form: Conversation/dialogue\\n'\n",
            " 'Active character: Odysseus, Hermes']\n"
          ]
        },
        {
          "output_type": "stream",
          "name": "stderr",
          "text": [
            "\n"
          ]
        }
      ]
    },
    {
      "cell_type": "code",
      "source": [
        "text = \"\"\"\n",
        "\n",
        "They had been sitting in the monitoring room for an hour and a half. Alana and Chilton stared at the monitoring screen from beginning to end. Chilton had a recorder in his hand. Margo, who said she was not interested, came into the room at six o'clock with some food and a drink for Alana. Jack left half an hour ago. He didn't have time to watch a mental patient drawing, a silent child scribbling, and a poor guy who had the misfortune of connecting them through the womb staring at the floor.\n",
        "\n",
        "\"There are always more important things in the world than observing autistic children - and adults,\" Chilton declared in surrender. \"See you later, everyone.\"\n",
        "\n",
        "He also hurried away, leaving Alana and Margo staring at each other.\n",
        "\n",
        "\"So this is autism.\" Margo turned to the screen and saw Will standing up and collecting his daughter's paintbrushes. \"No wonder she didn't say anything.\"\n",
        "\n",
        "  \"\"\"\n",
        "\n",
        "final_prompt = prepare_fabrique_prompt(text)\n",
        "\n",
        "prompts = [final_prompt]\n",
        "\n",
        "outputs = llm.generate(prompts, sampling_params)\n",
        "\n",
        "list_generated = []\n",
        "# Print the outputs.\n",
        "for output in outputs:\n",
        "    prompt = output.prompt\n",
        "    generated_text = output.outputs[0].text\n",
        "    list_generated.append(generated_text)\n",
        "\n",
        "from pprint import pprint\n",
        "\n",
        "pprint(list_generated)"
      ],
      "metadata": {
        "colab": {
          "base_uri": "https://localhost:8080/"
        },
        "id": "PB8RdIKMXO3Y",
        "outputId": "1bf91a7c-5a6c-4ecf-ba47-5a5b2356c3c7"
      },
      "execution_count": null,
      "outputs": [
        {
          "output_type": "stream",
          "name": "stderr",
          "text": [
            "Processed prompts: 100%|██████████| 1/1 [00:03<00:00,  3.95s/it, Generation Speed: 25.34 toks/s]"
          ]
        },
        {
          "output_type": "stream",
          "name": "stdout",
          "text": [
            "['Summary: Alana and Chilton have been observing autistic children for an hour '\n",
            " 'and a half, while Margo brings food to Alana. Jack leaves, and Chilton also '\n",
            " 'leaves. Margo comments on the silence of the children.\\n'\n",
            " 'Enunciation: Dialog\\n'\n",
            " 'Tone: Serious\\n'\n",
            " 'Genre: Psychological drama\\n'\n",
            " 'Intertextuality: Scientific article\\n'\n",
            " 'Speech standard: Standard/neutral\\n'\n",
            " 'Literary form: Conversation/dialogue\\n']\n"
          ]
        },
        {
          "output_type": "stream",
          "name": "stderr",
          "text": [
            "\n"
          ]
        }
      ]
    },
    {
      "cell_type": "code",
      "source": [
        "text = \"\"\"\n",
        "\n",
        "When the young demon hunter found Virgil, he was curled up in the corner of the first floor of the old Sparta house. The interior of the old house, which had not been fully renovated, was empty. The young Virgil was wearing a dirty curtain and curled up in the shadow under the stairs. Nero scratched his head. He squatted down to barely see the whole picture in this small shadow. The young man muttered that he must seal this place with cement to prevent mice from making nests here, while trying to pick Virgil up carefully.\n",
        "\n",
        "The child slept very lightly, and he woke up suddenly almost as soon as Nero's hand touched him.\n",
        "\n",
        "\"Hey, hey, hey, I mean no harm, okay?\" Nero raised his hands, Virgil pulled out his sword with difficulty, and the tip of the Yama Sword pointed at Nero's nose tremblingly: \"You don't remember me? God, what is going on - do you remember how you got here?\"\n",
        "\n",
        "\"Shut up!\" The young Virgil scolded him harshly: \"Tell me your purpose!\"\n",
        "\n",
        "\"My purpose is to take you back... No, not that kind, fuck, my purpose is to take you to a safe place...\" Nero sighed: \"It sounds more suspicious... Do you want to see Dante? Although he is already too old.\"\n",
        "\n",
        "Virgil stared at the man in front of him, he knew that something was wrong with him, crossing, or time going backwards. The child woke up on the outskirts of Red Tomb City, which was very different from what he remembered. When he trudged over, everything he saw had told him the answer. There were not so many ruined buildings in Red Tomb City, and the decorations and advertisements on the street were different from what he had seen.\n",
        "\n",
        "\"Who are you?\" the boy asked: \"What is the relationship between me and you?\"\n",
        "\n",
        "  \"\"\"\n",
        "\n",
        "final_prompt = prepare_fabrique_prompt(text)\n",
        "\n",
        "prompts = [final_prompt]\n",
        "\n",
        "outputs = llm.generate(prompts, sampling_params)\n",
        "\n",
        "list_generated = []\n",
        "# Print the outputs.\n",
        "for output in outputs:\n",
        "    prompt = output.prompt\n",
        "    generated_text = output.outputs[0].text\n",
        "    list_generated.append(generated_text)\n",
        "\n",
        "from pprint import pprint\n",
        "\n",
        "pprint(list_generated)"
      ],
      "metadata": {
        "colab": {
          "base_uri": "https://localhost:8080/"
        },
        "id": "BjS0TdGQXPd4",
        "outputId": "ec3d26f6-fe2c-4de6-a9bc-f071663a14ad"
      },
      "execution_count": null,
      "outputs": [
        {
          "output_type": "stream",
          "name": "stderr",
          "text": [
            "Processed prompts: 100%|██████████| 1/1 [00:04<00:00,  4.19s/it, Generation Speed: 23.86 toks/s]"
          ]
        },
        {
          "output_type": "stream",
          "name": "stdout",
          "text": [
            "['Summary: The young demon hunter finds Virgil in an old house and tries to '\n",
            " 'take him to a safe place.\\n'\n",
            " 'Narrative arc: Suspense\\n'\n",
            " 'Enunciation: Dialogue between two characters\\n'\n",
            " 'Tone: Suspenseful\\n'\n",
            " 'Genre: Fantasy/Demonic fiction\\n'\n",
            " 'Speech standard: Informal, colloquial language\\n'\n",
            " 'Literary form: Conversation/dialogue between characters\\n'\n",
            " 'Active character: Nero, Virgil']\n"
          ]
        },
        {
          "output_type": "stream",
          "name": "stderr",
          "text": [
            "\n"
          ]
        }
      ]
    },
    {
      "cell_type": "code",
      "source": [
        "text = \"\"\"\n",
        "\n",
        "The morning mist gradually dissipated, and Astoria could see tents everywhere. It seemed that the World Cup hosted by the UK was very popular. Although the Ministry of Magic was \"governed by some stupid people\", Astoria still admired that it could focus on so many people from all over the world and ensure their safety.\n",
        "\n",
        "Around them, there were several large tents with American flags, and the door was full of wine bottles, which made Daphne raise her upper lip; there was also a white building with a cylindrical pointed roof (others called it a \"dome\"), and several big men were holding something like a whip outside, swinging it on the grill, and the meat made a sizzling sound when it was cooked. Astoria couldn't help but open her mouth.\n",
        "\n",
        "They continued to move forward and found more tents from different countries on the road. A young man who looked like a Frenchman smiled and said something foreign to Astoria, but was driven away by Daphne. Astoria was attracted by a kind of unknown card played by several witches from Sierra Leone. She was about to bend down to see what was going on, and Daphne patted her shoulder.\n",
        "\n",
        "  \"\"\"\n",
        "\n",
        "final_prompt = prepare_fabrique_prompt(text)\n",
        "\n",
        "prompts = [final_prompt]\n",
        "\n",
        "outputs = llm.generate(prompts, sampling_params)\n",
        "\n",
        "list_generated = []\n",
        "# Print the outputs.\n",
        "for output in outputs:\n",
        "    prompt = output.prompt\n",
        "    generated_text = output.outputs[0].text\n",
        "    list_generated.append(generated_text)\n",
        "\n",
        "from pprint import pprint\n",
        "\n",
        "pprint(list_generated)"
      ],
      "metadata": {
        "colab": {
          "base_uri": "https://localhost:8080/"
        },
        "id": "14i9bVt3XQFr",
        "outputId": "8eefaf25-3b8c-41bc-8f14-1016940979c4"
      },
      "execution_count": null,
      "outputs": [
        {
          "output_type": "stream",
          "name": "stderr",
          "text": [
            "Processed prompts: 100%|██████████| 1/1 [00:04<00:00,  4.04s/it, Generation Speed: 24.78 toks/s]"
          ]
        },
        {
          "output_type": "stream",
          "name": "stdout",
          "text": [
            "['Summary: Astoria and Daphne are exploring the tents at a World Cup event '\n",
            " 'hosted by the UK.\\n'\n",
            " 'Enunciation: Third-person narrative\\n'\n",
            " 'Tone: Curious, observant\\n'\n",
            " 'Genre: Travelogue\\n'\n",
            " 'Intertextuality: Travel guide, tourist brochure\\n'\n",
            " 'Speech standard: Standard, polite conversation\\n'\n",
            " \"Literary form: Description of a place and characters' actions/thoughts\\n\"\n",
            " 'Active character: Astoria,']\n"
          ]
        },
        {
          "output_type": "stream",
          "name": "stderr",
          "text": [
            "\n"
          ]
        }
      ]
    }
  ]
}