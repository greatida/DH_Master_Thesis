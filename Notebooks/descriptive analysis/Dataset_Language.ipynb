{
 "cells": [
  {
   "cell_type": "markdown",
   "id": "8bd5b348",
   "metadata": {},
   "source": [
    "## Automatic Language Detection\n",
    "\n",
    "This notebook contains the codes of doing an automatic language detection of the \"Brahe-Novels\" dataset by using Lingua library."
   ]
  },
  {
   "cell_type": "code",
   "execution_count": 1,
   "id": "95c810cd",
   "metadata": {},
   "outputs": [
    {
     "name": "stdout",
     "output_type": "stream",
     "text": [
      "Defaulting to user installation because normal site-packages is not writeable\n",
      "Looking in indexes: http://pypi.tuna.tsinghua.edu.cn/simple/\n",
      "Requirement already satisfied: lingua-language-detector in c:\\users\\idaid\\appdata\\roaming\\python\\python39\\site-packages (2.0.2)\n"
     ]
    }
   ],
   "source": [
    "!pip install lingua-language-detector"
   ]
  },
  {
   "cell_type": "code",
   "execution_count": 2,
   "id": "f38a60b3",
   "metadata": {},
   "outputs": [
    {
     "data": {
      "text/plain": [
       "Language.ENGLISH"
      ]
     },
     "execution_count": 2,
     "metadata": {},
     "output_type": "execute_result"
    }
   ],
   "source": [
    "from lingua import Language, LanguageDetectorBuilder\n",
    "languages = [Language.ENGLISH, Language.FRENCH, Language.GERMAN, Language.SPANISH, Language.ITALIAN, Language.RUSSIAN, Language.CHINESE,Language.GREEK]\n",
    "detector = LanguageDetectorBuilder.from_languages(*languages).build()\n",
    "language = detector.detect_language_of(\"hello world\")\n",
    "language"
   ]
  },
  {
   "cell_type": "code",
   "execution_count": 5,
   "id": "26611023",
   "metadata": {},
   "outputs": [
    {
     "name": "stdout",
     "output_type": "stream",
     "text": [
      "Defaulting to user installation because normal site-packages is not writeable\n",
      "Looking in indexes: http://pypi.tuna.tsinghua.edu.cn/simple/\n",
      "Requirement already satisfied: pandas in c:\\anaconda3\\lib\\site-packages (2.2.1)\n",
      "Requirement already satisfied: python-dateutil>=2.8.2 in c:\\anaconda3\\lib\\site-packages (from pandas) (2.8.2)\n",
      "Requirement already satisfied: numpy<2,>=1.22.4 in c:\\anaconda3\\lib\\site-packages (from pandas) (1.24.4)\n",
      "Requirement already satisfied: tzdata>=2022.7 in c:\\anaconda3\\lib\\site-packages (from pandas) (2024.1)\n",
      "Requirement already satisfied: pytz>=2020.1 in c:\\anaconda3\\lib\\site-packages (from pandas) (2022.1)\n",
      "Requirement already satisfied: six>=1.5 in c:\\anaconda3\\lib\\site-packages (from python-dateutil>=2.8.2->pandas) (1.16.0)\n"
     ]
    },
    {
     "name": "stderr",
     "output_type": "stream",
     "text": [
      "C:\\anaconda3\\lib\\site-packages\\pandas\\core\\computation\\expressions.py:21: UserWarning: Pandas requires version '2.8.4' or newer of 'numexpr' (version '2.8.3' currently installed).\n",
      "  from pandas.core.computation.check import NUMEXPR_INSTALLED\n",
      "C:\\anaconda3\\lib\\site-packages\\pandas\\core\\arrays\\masked.py:60: UserWarning: Pandas requires version '1.3.6' or newer of 'bottleneck' (version '1.3.5' currently installed).\n",
      "  from pandas.core import (\n"
     ]
    }
   ],
   "source": [
    "!pip install pandas\n",
    "import pandas as pd"
   ]
  },
  {
   "cell_type": "code",
   "execution_count": 6,
   "id": "3e31d590",
   "metadata": {},
   "outputs": [],
   "source": [
    "df = pd.read_csv('C:/users/idaid/Desktop/Brahe_Novels.csv')"
   ]
  },
  {
   "cell_type": "code",
   "execution_count": 7,
   "id": "c6484dcb",
   "metadata": {},
   "outputs": [
    {
     "data": {
      "text/html": [
       "<div>\n",
       "<style scoped>\n",
       "    .dataframe tbody tr th:only-of-type {\n",
       "        vertical-align: middle;\n",
       "    }\n",
       "\n",
       "    .dataframe tbody tr th {\n",
       "        vertical-align: top;\n",
       "    }\n",
       "\n",
       "    .dataframe thead th {\n",
       "        text-align: right;\n",
       "    }\n",
       "</style>\n",
       "<table border=\"1\" class=\"dataframe\">\n",
       "  <thead>\n",
       "    <tr style=\"text-align: right;\">\n",
       "      <th></th>\n",
       "      <th>full_text</th>\n",
       "      <th>instruction_id</th>\n",
       "      <th>analysis</th>\n",
       "    </tr>\n",
       "  </thead>\n",
       "  <tbody>\n",
       "    <tr>\n",
       "      <th>0</th>\n",
       "      <td>It's a complicated story, old man,\" began Matv...</td>\n",
       "      <td>1944_123775_1</td>\n",
       "      <td>Summary: The story is about an old widow and h...</td>\n",
       "    </tr>\n",
       "    <tr>\n",
       "      <th>1</th>\n",
       "      <td>De tant en tant Isabel li dirigia una amable r...</td>\n",
       "      <td>24729_75592_0</td>\n",
       "      <td>Summary: The text is about the thoughts and fe...</td>\n",
       "    </tr>\n",
       "    <tr>\n",
       "      <th>2</th>\n",
       "      <td>Fortunately, D’Artagnan was not a man to liste...</td>\n",
       "      <td>2609_28574_0</td>\n",
       "      <td>Summary: D'Artagnan and Planchet set out on an...</td>\n",
       "    </tr>\n",
       "    <tr>\n",
       "      <th>3</th>\n",
       "      <td>I was no more able to stay behind now than I w...</td>\n",
       "      <td>561_42920_0</td>\n",
       "      <td>Summary: A group of men witness the destructio...</td>\n",
       "    </tr>\n",
       "    <tr>\n",
       "      <th>4</th>\n",
       "      <td>Mr. Hopper envied the captain his free and vig...</td>\n",
       "      <td>5388_90198_0</td>\n",
       "      <td>Summary: Mr. Hopper envies the captain and ref...</td>\n",
       "    </tr>\n",
       "    <tr>\n",
       "      <th>...</th>\n",
       "      <td>...</td>\n",
       "      <td>...</td>\n",
       "      <td>...</td>\n",
       "    </tr>\n",
       "    <tr>\n",
       "      <th>8221</th>\n",
       "      <td>There was her letter to Oliver yet to be writt...</td>\n",
       "      <td>14021_101422_1</td>\n",
       "      <td>Summary: The protagonist is contemplating writ...</td>\n",
       "    </tr>\n",
       "    <tr>\n",
       "      <th>8222</th>\n",
       "      <td>Lors Satan, dans un jour de familiarite, daign...</td>\n",
       "      <td>11766_36724_0</td>\n",
       "      <td>Summary: Satan consults with demons about what...</td>\n",
       "    </tr>\n",
       "    <tr>\n",
       "      <th>8223</th>\n",
       "      <td>Le jure lui avoua alors franchement qu'ils ava...</td>\n",
       "      <td>13149_48926_0</td>\n",
       "      <td>Summary: The protagonist receives a declaratio...</td>\n",
       "    </tr>\n",
       "    <tr>\n",
       "      <th>8224</th>\n",
       "      <td>Mais Julien saisit cette main, la serra contre...</td>\n",
       "      <td>11747_36674_3</td>\n",
       "      <td>Summary: Julien tries to force himself on Maud...</td>\n",
       "    </tr>\n",
       "    <tr>\n",
       "      <th>8225</th>\n",
       "      <td>E foi o que o fogoso tribuno immediatamente pr...</td>\n",
       "      <td>14620_53209_0</td>\n",
       "      <td>Summary: A proposal is made to the government ...</td>\n",
       "    </tr>\n",
       "  </tbody>\n",
       "</table>\n",
       "<p>8226 rows × 3 columns</p>\n",
       "</div>"
      ],
      "text/plain": [
       "                                              full_text  instruction_id  \\\n",
       "0     It's a complicated story, old man,\" began Matv...   1944_123775_1   \n",
       "1     De tant en tant Isabel li dirigia una amable r...   24729_75592_0   \n",
       "2     Fortunately, D’Artagnan was not a man to liste...    2609_28574_0   \n",
       "3     I was no more able to stay behind now than I w...     561_42920_0   \n",
       "4     Mr. Hopper envied the captain his free and vig...    5388_90198_0   \n",
       "...                                                 ...             ...   \n",
       "8221  There was her letter to Oliver yet to be writt...  14021_101422_1   \n",
       "8222  Lors Satan, dans un jour de familiarite, daign...   11766_36724_0   \n",
       "8223  Le jure lui avoua alors franchement qu'ils ava...   13149_48926_0   \n",
       "8224  Mais Julien saisit cette main, la serra contre...   11747_36674_3   \n",
       "8225  E foi o que o fogoso tribuno immediatamente pr...   14620_53209_0   \n",
       "\n",
       "                                               analysis  \n",
       "0     Summary: The story is about an old widow and h...  \n",
       "1     Summary: The text is about the thoughts and fe...  \n",
       "2     Summary: D'Artagnan and Planchet set out on an...  \n",
       "3     Summary: A group of men witness the destructio...  \n",
       "4     Summary: Mr. Hopper envies the captain and ref...  \n",
       "...                                                 ...  \n",
       "8221  Summary: The protagonist is contemplating writ...  \n",
       "8222  Summary: Satan consults with demons about what...  \n",
       "8223  Summary: The protagonist receives a declaratio...  \n",
       "8224  Summary: Julien tries to force himself on Maud...  \n",
       "8225  Summary: A proposal is made to the government ...  \n",
       "\n",
       "[8226 rows x 3 columns]"
      ]
     },
     "execution_count": 7,
     "metadata": {},
     "output_type": "execute_result"
    }
   ],
   "source": [
    "df"
   ]
  },
  {
   "cell_type": "code",
   "execution_count": 8,
   "id": "cd940cd8",
   "metadata": {},
   "outputs": [
    {
     "name": "stdout",
     "output_type": "stream",
     "text": [
      "                                           full_text instruction_id  \\\n",
      "0  It's a complicated story, old man,\" began Matv...  1944_123775_1   \n",
      "1  De tant en tant Isabel li dirigia una amable r...  24729_75592_0   \n",
      "2  Fortunately, D’Artagnan was not a man to liste...   2609_28574_0   \n",
      "3  I was no more able to stay behind now than I w...    561_42920_0   \n",
      "4  Mr. Hopper envied the captain his free and vig...   5388_90198_0   \n",
      "\n",
      "                                            analysis detected_language  \n",
      "0  Summary: The story is about an old widow and h...           ENGLISH  \n",
      "1  Summary: The text is about the thoughts and fe...           SPANISH  \n",
      "2  Summary: D'Artagnan and Planchet set out on an...           ENGLISH  \n",
      "3  Summary: A group of men witness the destructio...           ENGLISH  \n",
      "4  Summary: Mr. Hopper envies the captain and ref...           ENGLISH  \n"
     ]
    }
   ],
   "source": [
    "# Function to detect language\n",
    "def detect_language(text):\n",
    "    try:\n",
    "        return detector.detect_language_of(text).name\n",
    "    except Exception as e:\n",
    "        return \"Detection Failed\" \n",
    "\n",
    "# Apply the function to the 'full_text' column\n",
    "df['detected_language'] = df['full_text'].apply(detect_language)\n",
    "\n",
    "# Save the results back to a new CSV file if needed\n",
    "df.to_csv('C:/users/idaid/Desktop/Brahe_Novels_with_languages_v2.csv', index=False)\n",
    "\n",
    "print(df.head())"
   ]
  },
  {
   "cell_type": "code",
   "execution_count": 20,
   "id": "f954b2ca",
   "metadata": {},
   "outputs": [
    {
     "name": "stdout",
     "output_type": "stream",
     "text": [
      "Number of languages detected: 6\n"
     ]
    }
   ],
   "source": [
    "# Count the number of languages in the 'detected_language' column\n",
    "language_count = df['detected_language'].nunique()\n",
    "\n",
    "print(f\"Number of languages detected: {language_count}\")"
   ]
  },
  {
   "cell_type": "code",
   "execution_count": 9,
   "id": "94e43d25",
   "metadata": {},
   "outputs": [
    {
     "name": "stdout",
     "output_type": "stream",
     "text": [
      "Number of Chinese entries: 0\n",
      "                                           full_text instruction_id  \\\n",
      "0  It's a complicated story, old man,\" began Matv...  1944_123775_1   \n",
      "1  De tant en tant Isabel li dirigia una amable r...  24729_75592_0   \n",
      "2  Fortunately, D’Artagnan was not a man to liste...   2609_28574_0   \n",
      "3  I was no more able to stay behind now than I w...    561_42920_0   \n",
      "4  Mr. Hopper envied the captain his free and vig...   5388_90198_0   \n",
      "\n",
      "                                            analysis detected_language  \n",
      "0  Summary: The story is about an old widow and h...           ENGLISH  \n",
      "1  Summary: The text is about the thoughts and fe...           SPANISH  \n",
      "2  Summary: D'Artagnan and Planchet set out on an...           ENGLISH  \n",
      "3  Summary: A group of men witness the destructio...           ENGLISH  \n",
      "4  Summary: Mr. Hopper envies the captain and ref...           ENGLISH  \n"
     ]
    }
   ],
   "source": [
    "# Load the dataset\n",
    "df = pd.read_csv('C:/users/idaid/Desktop/Brahe_Novels_with_languages_v2.csv')\n",
    "\n",
    "#Count the number of Chinese entries\n",
    "chinese_count = df['detected_language'].isin(['CHINESE']).sum()\n",
    "\n",
    "print(f\"Number of Chinese entries: {chinese_count}\")\n",
    "print(df.head()) "
   ]
  },
  {
   "cell_type": "code",
   "execution_count": 10,
   "id": "10f81afe",
   "metadata": {},
   "outputs": [
    {
     "name": "stdout",
     "output_type": "stream",
     "text": [
      "Number of English entries: 4401\n",
      "                                           full_text instruction_id  \\\n",
      "0  It's a complicated story, old man,\" began Matv...  1944_123775_1   \n",
      "1  De tant en tant Isabel li dirigia una amable r...  24729_75592_0   \n",
      "2  Fortunately, D’Artagnan was not a man to liste...   2609_28574_0   \n",
      "3  I was no more able to stay behind now than I w...    561_42920_0   \n",
      "4  Mr. Hopper envied the captain his free and vig...   5388_90198_0   \n",
      "\n",
      "                                            analysis detected_language  \n",
      "0  Summary: The story is about an old widow and h...           ENGLISH  \n",
      "1  Summary: The text is about the thoughts and fe...           SPANISH  \n",
      "2  Summary: D'Artagnan and Planchet set out on an...           ENGLISH  \n",
      "3  Summary: A group of men witness the destructio...           ENGLISH  \n",
      "4  Summary: Mr. Hopper envies the captain and ref...           ENGLISH  \n"
     ]
    }
   ],
   "source": [
    "#Count the number of English entries\n",
    "english_count = df['detected_language'].isin(['ENGLISH']).sum()\n",
    "\n",
    "print(f\"Number of English entries: {english_count}\")\n",
    "print(df.head())"
   ]
  },
  {
   "cell_type": "code",
   "execution_count": 12,
   "id": "f89d95b1",
   "metadata": {},
   "outputs": [
    {
     "name": "stdout",
     "output_type": "stream",
     "text": [
      "Number of Greek entries: 11\n",
      "                                           full_text instruction_id  \\\n",
      "0  It's a complicated story, old man,\" began Matv...  1944_123775_1   \n",
      "1  De tant en tant Isabel li dirigia una amable r...  24729_75592_0   \n",
      "2  Fortunately, D’Artagnan was not a man to liste...   2609_28574_0   \n",
      "3  I was no more able to stay behind now than I w...    561_42920_0   \n",
      "4  Mr. Hopper envied the captain his free and vig...   5388_90198_0   \n",
      "\n",
      "                                            analysis detected_language  \n",
      "0  Summary: The story is about an old widow and h...           ENGLISH  \n",
      "1  Summary: The text is about the thoughts and fe...           SPANISH  \n",
      "2  Summary: D'Artagnan and Planchet set out on an...           ENGLISH  \n",
      "3  Summary: A group of men witness the destructio...           ENGLISH  \n",
      "4  Summary: Mr. Hopper envies the captain and ref...           ENGLISH  \n"
     ]
    }
   ],
   "source": [
    "#Count the number of Greek entries\n",
    "english_count = df['detected_language'].isin(['GREEK']).sum()\n",
    "\n",
    "print(f\"Number of Greek entries: {english_count}\")\n",
    "print(df.head()) "
   ]
  },
  {
   "cell_type": "code",
   "execution_count": 14,
   "id": "835a8bcd",
   "metadata": {},
   "outputs": [
    {
     "name": "stdout",
     "output_type": "stream",
     "text": [
      "Number of French entries: 979\n",
      "                                           full_text instruction_id  \\\n",
      "0  It's a complicated story, old man,\" began Matv...  1944_123775_1   \n",
      "1  De tant en tant Isabel li dirigia una amable r...  24729_75592_0   \n",
      "2  Fortunately, D’Artagnan was not a man to liste...   2609_28574_0   \n",
      "3  I was no more able to stay behind now than I w...    561_42920_0   \n",
      "4  Mr. Hopper envied the captain his free and vig...   5388_90198_0   \n",
      "\n",
      "                                            analysis detected_language  \n",
      "0  Summary: The story is about an old widow and h...           ENGLISH  \n",
      "1  Summary: The text is about the thoughts and fe...           SPANISH  \n",
      "2  Summary: D'Artagnan and Planchet set out on an...           ENGLISH  \n",
      "3  Summary: A group of men witness the destructio...           ENGLISH  \n",
      "4  Summary: Mr. Hopper envies the captain and ref...           ENGLISH  \n"
     ]
    }
   ],
   "source": [
    "#Count the number of French entries\n",
    "english_count = df['detected_language'].isin(['FRENCH']).sum()\n",
    "\n",
    "print(f\"Number of French entries: {english_count}\")\n",
    "print(df.head())  "
   ]
  },
  {
   "cell_type": "code",
   "execution_count": 15,
   "id": "7ae53f40",
   "metadata": {},
   "outputs": [
    {
     "name": "stdout",
     "output_type": "stream",
     "text": [
      "Number of German entries: 1342\n",
      "                                           full_text instruction_id  \\\n",
      "0  It's a complicated story, old man,\" began Matv...  1944_123775_1   \n",
      "1  De tant en tant Isabel li dirigia una amable r...  24729_75592_0   \n",
      "2  Fortunately, D’Artagnan was not a man to liste...   2609_28574_0   \n",
      "3  I was no more able to stay behind now than I w...    561_42920_0   \n",
      "4  Mr. Hopper envied the captain his free and vig...   5388_90198_0   \n",
      "\n",
      "                                            analysis detected_language  \n",
      "0  Summary: The story is about an old widow and h...           ENGLISH  \n",
      "1  Summary: The text is about the thoughts and fe...           SPANISH  \n",
      "2  Summary: D'Artagnan and Planchet set out on an...           ENGLISH  \n",
      "3  Summary: A group of men witness the destructio...           ENGLISH  \n",
      "4  Summary: Mr. Hopper envies the captain and ref...           ENGLISH  \n"
     ]
    }
   ],
   "source": [
    "#Count the number of German entries\n",
    "english_count = df['detected_language'].isin(['GERMAN']).sum()\n",
    "\n",
    "print(f\"Number of German entries: {english_count}\")\n",
    "print(df.head())  "
   ]
  },
  {
   "cell_type": "code",
   "execution_count": 16,
   "id": "a9bba74b",
   "metadata": {},
   "outputs": [
    {
     "name": "stdout",
     "output_type": "stream",
     "text": [
      "Number of Italian entries: 423\n",
      "                                           full_text instruction_id  \\\n",
      "0  It's a complicated story, old man,\" began Matv...  1944_123775_1   \n",
      "1  De tant en tant Isabel li dirigia una amable r...  24729_75592_0   \n",
      "2  Fortunately, D’Artagnan was not a man to liste...   2609_28574_0   \n",
      "3  I was no more able to stay behind now than I w...    561_42920_0   \n",
      "4  Mr. Hopper envied the captain his free and vig...   5388_90198_0   \n",
      "\n",
      "                                            analysis detected_language  \n",
      "0  Summary: The story is about an old widow and h...           ENGLISH  \n",
      "1  Summary: The text is about the thoughts and fe...           SPANISH  \n",
      "2  Summary: D'Artagnan and Planchet set out on an...           ENGLISH  \n",
      "3  Summary: A group of men witness the destructio...           ENGLISH  \n",
      "4  Summary: Mr. Hopper envies the captain and ref...           ENGLISH  \n"
     ]
    }
   ],
   "source": [
    "#Count the number of Italian entries\n",
    "english_count = df['detected_language'].isin(['ITALIAN']).sum()\n",
    "\n",
    "print(f\"Number of Italian entries: {english_count}\")\n",
    "print(df.head())  "
   ]
  },
  {
   "cell_type": "code",
   "execution_count": 17,
   "id": "98db9a1c",
   "metadata": {},
   "outputs": [
    {
     "name": "stdout",
     "output_type": "stream",
     "text": [
      "Number of Spanish entries: 1070\n",
      "                                           full_text instruction_id  \\\n",
      "0  It's a complicated story, old man,\" began Matv...  1944_123775_1   \n",
      "1  De tant en tant Isabel li dirigia una amable r...  24729_75592_0   \n",
      "2  Fortunately, D’Artagnan was not a man to liste...   2609_28574_0   \n",
      "3  I was no more able to stay behind now than I w...    561_42920_0   \n",
      "4  Mr. Hopper envied the captain his free and vig...   5388_90198_0   \n",
      "\n",
      "                                            analysis detected_language  \n",
      "0  Summary: The story is about an old widow and h...           ENGLISH  \n",
      "1  Summary: The text is about the thoughts and fe...           SPANISH  \n",
      "2  Summary: D'Artagnan and Planchet set out on an...           ENGLISH  \n",
      "3  Summary: A group of men witness the destructio...           ENGLISH  \n",
      "4  Summary: Mr. Hopper envies the captain and ref...           ENGLISH  \n"
     ]
    }
   ],
   "source": [
    "#Count the number of Spanish entries\n",
    "english_count = df['detected_language'].isin(['SPANISH']).sum()\n",
    "\n",
    "print(f\"Number of Spanish entries: {english_count}\")\n",
    "print(df.head())  "
   ]
  }
 ],
 "metadata": {
  "kernelspec": {
   "display_name": "Python 3 (ipykernel)",
   "language": "python",
   "name": "python3"
  },
  "language_info": {
   "codemirror_mode": {
    "name": "ipython",
    "version": 3
   },
   "file_extension": ".py",
   "mimetype": "text/x-python",
   "name": "python",
   "nbconvert_exporter": "python",
   "pygments_lexer": "ipython3",
   "version": "3.9.13"
  }
 },
 "nbformat": 4,
 "nbformat_minor": 5
}
